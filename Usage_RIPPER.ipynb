{
 "cells": [
  {
   "cell_type": "markdown",
   "metadata": {},
   "source": [
    "### Example of RIPPER usage on congress dataset"
   ]
  },
  {
   "cell_type": "code",
   "execution_count": 1,
   "metadata": {},
   "outputs": [
    {
     "ename": "SyntaxError",
     "evalue": "invalid syntax (base.py, line 457)",
     "output_type": "error",
     "traceback": [
      "Traceback \u001b[0;36m(most recent call last)\u001b[0m:\n",
      "  File \u001b[1;32m\"/Users/ilanmoscovitz/anaconda3/lib/python3.6/site-packages/IPython/core/interactiveshell.py\"\u001b[0m, line \u001b[1;32m2910\u001b[0m, in \u001b[1;35mrun_code\u001b[0m\n    exec(code_obj, self.user_global_ns, self.user_ns)\n",
      "  File \u001b[1;32m\"<ipython-input-1-30af28dd8dbf>\"\u001b[0m, line \u001b[1;32m1\u001b[0m, in \u001b[1;35m<module>\u001b[0m\n    import ruleset\n",
      "  File \u001b[1;32m\"/Users/ilanmoscovitz/Documents/Metis/Projects/local_ruleset/ruleset_project/ruleset/__init__.py\"\u001b[0m, line \u001b[1;32m1\u001b[0m, in \u001b[1;35m<module>\u001b[0m\n    from .irep import IREP\n",
      "\u001b[0;36m  File \u001b[0;32m\"/Users/ilanmoscovitz/Documents/Metis/Projects/local_ruleset/ruleset_project/ruleset/irep.py\"\u001b[0;36m, line \u001b[0;32m15\u001b[0;36m, in \u001b[0;35m<module>\u001b[0;36m\u001b[0m\n\u001b[0;31m    from ruleset import base\u001b[0m\n",
      "\u001b[0;36m  File \u001b[0;32m\"/Users/ilanmoscovitz/Documents/Metis/Projects/local_ruleset/ruleset_project/ruleset/base.py\"\u001b[0;36m, line \u001b[0;32m457\u001b[0m\n\u001b[0;31m    elif y and class_feat\u001b[0m\n\u001b[0m                         ^\u001b[0m\n\u001b[0;31mSyntaxError\u001b[0m\u001b[0;31m:\u001b[0m invalid syntax\n"
     ]
    }
   ],
   "source": [
    "import ruleset\n",
    "import pandas as pd"
   ]
  },
  {
   "cell_type": "markdown",
   "metadata": {},
   "source": [
    "Load our dataset:"
   ]
  },
  {
   "cell_type": "code",
   "execution_count": null,
   "metadata": {},
   "outputs": [],
   "source": [
    "df = pd.read_csv('../datasets/house-votes-84.csv')"
   ]
  },
  {
   "cell_type": "markdown",
   "metadata": {},
   "source": [
    "Split our data into train-test sets:"
   ]
  },
  {
   "cell_type": "code",
   "execution_count": 3,
   "metadata": {},
   "outputs": [],
   "source": [
    "from sklearn.model_selection import train_test_split\n",
    "train, test = train_test_split(df, random_state=0)"
   ]
  },
  {
   "cell_type": "markdown",
   "metadata": {},
   "source": [
    "Create a ruleset classifier:"
   ]
  },
  {
   "cell_type": "code",
   "execution_count": 4,
   "metadata": {},
   "outputs": [
    {
     "data": {
      "text/plain": [
       "<RIPPER object (unfit)>"
      ]
     },
     "execution_count": 4,
     "metadata": {},
     "output_type": "execute_result"
    }
   ],
   "source": [
    "ripper_clf = ruleset.RIPPER()\n",
    "ripper_clf"
   ]
  },
  {
   "cell_type": "markdown",
   "metadata": {},
   "source": [
    "Train the ruleset classifier on the trainset:"
   ]
  },
  {
   "cell_type": "code",
   "execution_count": 5,
   "metadata": {},
   "outputs": [
    {
     "data": {
      "text/plain": [
       "<Ruleset object: [physician-fee-freeze=n] V [adoption-of-the-budget-resolution=y^anti-satellite-test-ban=n]>"
      ]
     },
     "execution_count": 5,
     "metadata": {},
     "output_type": "execute_result"
    }
   ],
   "source": [
    "ripper_clf.fit(train, class_feat='Party', random_state=0)\n",
    "ripper_clf.ruleset_ # Access underlying model"
   ]
  },
  {
   "cell_type": "markdown",
   "metadata": {},
   "source": [
    "Verbosity allows us to transparently view training steps..."
   ]
  },
  {
   "cell_type": "code",
   "execution_count": 6,
   "metadata": {},
   "outputs": [
    {
     "name": "stdout",
     "output_type": "stream",
     "text": [
      "\n",
      "GREW INITIAL RULESET:\n",
      "[[physician-fee-freeze=n^adoption-of-the-budget-resolution=y] V\n",
      "[synfuels-corporation-cutback=y^physician-fee-freeze=n] V\n",
      "[synfuels-corporation-cutback=y^mx-missile=y] V\n",
      "[adoption-of-the-budget-resolution=y^anti-satellite-test-ban=n] V\n",
      "[physician-fee-freeze=n] V\n",
      "[Handicapped-infants=?] V\n",
      "[synfuels-corporation-cutback=y^superfund-right-to-sue=n]]\n",
      "\n",
      "optimization run 1 of 2\n",
      "\n",
      "OPTIMIZED RULESET:\n",
      "[[physician-fee-freeze=n] V\n",
      "[synfuels-corporation-cutback=y^physician-fee-freeze=n] V\n",
      "[synfuels-corporation-cutback=y^mx-missile=y] V\n",
      "[adoption-of-the-budget-resolution=y^anti-satellite-test-ban=n] V\n",
      "[physician-fee-freeze=n] V\n",
      "[Handicapped-infants=?] V\n",
      "[synfuels-corporation-cutback=y^superfund-right-to-sue=n]]\n",
      "\n",
      "optimization run 2 of 2\n",
      "\n",
      "OPTIMIZED RULESET:\n",
      "[[physician-fee-freeze=n] V\n",
      "[synfuels-corporation-cutback=y^physician-fee-freeze=n] V\n",
      "[synfuels-corporation-cutback=y^mx-missile=y] V\n",
      "[adoption-of-the-budget-resolution=y^anti-satellite-test-ban=n] V\n",
      "[physician-fee-freeze=n] V\n",
      "[Handicapped-infants=?] V\n",
      "[synfuels-corporation-cutback=y^superfund-right-to-sue=n]]\n",
      "\n",
      "GREW FINAL RULES\n",
      "[[physician-fee-freeze=n] V\n",
      "[synfuels-corporation-cutback=y^physician-fee-freeze=n] V\n",
      "[synfuels-corporation-cutback=y^mx-missile=y] V\n",
      "[adoption-of-the-budget-resolution=y^anti-satellite-test-ban=n] V\n",
      "[physician-fee-freeze=n] V\n",
      "[Handicapped-infants=?] V\n",
      "[synfuels-corporation-cutback=y^superfund-right-to-sue=n] V\n",
      "[physician-fee-freeze=n^adoption-of-the-budget-resolution=y] V\n",
      "[synfuels-corporation-cutback=y^physician-fee-freeze=n] V\n",
      "[synfuels-corporation-cutback=y^mx-missile=y] V\n",
      "[adoption-of-the-budget-resolution=y^anti-satellite-test-ban=n] V\n",
      "[physician-fee-freeze=n] V\n",
      "[Handicapped-infants=?] V\n",
      "[synfuels-corporation-cutback=y^superfund-right-to-sue=n]]\n",
      "\n",
      "FINAL RULESET:\n",
      "[[physician-fee-freeze=n] V\n",
      "[adoption-of-the-budget-resolution=y^anti-satellite-test-ban=n]]\n",
      "\n"
     ]
    },
    {
     "data": {
      "text/plain": [
       "<Ruleset object: [physician-fee-freeze=n] V [adoption-of-the-budget-resolution=y^anti-satellite-test-ban=n]>"
      ]
     },
     "execution_count": 6,
     "metadata": {},
     "output_type": "execute_result"
    }
   ],
   "source": [
    "ripper_clf.verbosity = 1 # Scale of 1-5\n",
    "ripper_clf.fit(train, class_feat='Party', random_state=0)\n",
    "ripper_clf.ruleset_"
   ]
  },
  {
   "cell_type": "markdown",
   "metadata": {},
   "source": [
    "How good is our model?"
   ]
  },
  {
   "cell_type": "code",
   "execution_count": 7,
   "metadata": {},
   "outputs": [
    {
     "data": {
      "text/plain": [
       "0.9174311926605505"
      ]
     },
     "execution_count": 7,
     "metadata": {},
     "output_type": "execute_result"
    }
   ],
   "source": [
    "test_X = test.drop('Party', axis=1)\n",
    "test_y = test['Party']\n",
    "ripper_clf.score(test_X, test_y) # Default metric is accuracy"
   ]
  },
  {
   "cell_type": "markdown",
   "metadata": {},
   "source": [
    "We can also score it on custom metrics, including sklearn's:"
   ]
  },
  {
   "cell_type": "code",
   "execution_count": 8,
   "metadata": {},
   "outputs": [
    {
     "data": {
      "text/plain": [
       "0.9516129032258065"
      ]
     },
     "execution_count": 8,
     "metadata": {},
     "output_type": "execute_result"
    }
   ],
   "source": [
    "from sklearn.metrics import precision_score\n",
    "ripper_clf.score(test_X, test_y, precision_score)"
   ]
  },
  {
   "cell_type": "markdown",
   "metadata": {},
   "source": [
    "To make predictions:"
   ]
  },
  {
   "cell_type": "code",
   "execution_count": 9,
   "metadata": {},
   "outputs": [
    {
     "data": {
      "text/plain": [
       "[True, False, True, False, True]"
      ]
     },
     "execution_count": 9,
     "metadata": {},
     "output_type": "execute_result"
    }
   ],
   "source": [
    "ripper_clf.predict(test_X.tail())"
   ]
  },
  {
   "cell_type": "markdown",
   "metadata": {},
   "source": [
    "For explainability, we can query the reasons responsible for each prediction:"
   ]
  },
  {
   "cell_type": "code",
   "execution_count": 10,
   "metadata": {},
   "outputs": [
    {
     "data": {
      "text/plain": [
       "([True, False, True, False, True],\n",
       " [[<Rule object: [physician-fee-freeze=n]>],\n",
       "  [],\n",
       "  [<Rule object: [physician-fee-freeze=n]>],\n",
       "  [],\n",
       "  [<Rule object: [adoption-of-the-budget-resolution=y^anti-satellite-test-ban=n]>]])"
      ]
     },
     "execution_count": 10,
     "metadata": {},
     "output_type": "execute_result"
    }
   ],
   "source": [
    "ripper_clf.predict(test_X.tail(), give_reasons=True)"
   ]
  }
 ],
 "metadata": {
  "kernelspec": {
   "display_name": "Python 3",
   "language": "python",
   "name": "python3"
  },
  "language_info": {
   "codemirror_mode": {
    "name": "ipython",
    "version": 3
   },
   "file_extension": ".py",
   "mimetype": "text/x-python",
   "name": "python",
   "nbconvert_exporter": "python",
   "pygments_lexer": "ipython3",
   "version": "3.6.7"
  }
 },
 "nbformat": 4,
 "nbformat_minor": 2
}
