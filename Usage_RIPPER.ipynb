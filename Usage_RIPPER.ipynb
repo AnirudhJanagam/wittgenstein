{
 "cells": [
  {
   "cell_type": "markdown",
   "metadata": {},
   "source": [
    "### Example of RIPPER usage on congress dataset"
   ]
  },
  {
   "cell_type": "code",
   "execution_count": 1,
   "metadata": {},
   "outputs": [],
   "source": [
    "import wittgenstein as lw\n",
    "import pandas as pd"
   ]
  },
  {
   "cell_type": "markdown",
   "metadata": {},
   "source": [
    "Load our dataset:"
   ]
  },
  {
   "cell_type": "code",
   "execution_count": 2,
   "metadata": {},
   "outputs": [],
   "source": [
    "df = pd.read_csv('../datasets/house-votes-84.csv')"
   ]
  },
  {
   "cell_type": "markdown",
   "metadata": {},
   "source": [
    "Split our data into train-test sets:"
   ]
  },
  {
   "cell_type": "code",
   "execution_count": 3,
   "metadata": {},
   "outputs": [],
   "source": [
    "from sklearn.model_selection import train_test_split\n",
    "train, test = train_test_split(df, random_state=0)"
   ]
  },
  {
   "cell_type": "markdown",
   "metadata": {},
   "source": [
    "Create a ruleset classifier:"
   ]
  },
  {
   "cell_type": "code",
   "execution_count": 4,
   "metadata": {},
   "outputs": [
    {
     "data": {
      "text/plain": [
       "<RIPPER object (unfit) (k=2, prune_size=0.33, dl_allowance=64)>"
      ]
     },
     "execution_count": 4,
     "metadata": {},
     "output_type": "execute_result"
    }
   ],
   "source": [
    "ripper_clf = lw.RIPPER()\n",
    "ripper_clf"
   ]
  },
  {
   "cell_type": "markdown",
   "metadata": {},
   "source": [
    "Train the ruleset classifier on the trainset:"
   ]
  },
  {
   "cell_type": "code",
   "execution_count": 5,
   "metadata": {},
   "outputs": [
    {
     "data": {
      "text/plain": [
       "<Ruleset object: [physician-fee-freeze=n^adoption-of-the-budget-resolution=y] V [synfuels-corporation-cutback=y^physician-fee-freeze=n]>"
      ]
     },
     "execution_count": 5,
     "metadata": {},
     "output_type": "execute_result"
    }
   ],
   "source": [
    "ripper_clf.fit(train, class_feat='Party', random_state=0)\n",
    "ripper_clf.ruleset_ # Access underlying model"
   ]
  },
  {
   "cell_type": "markdown",
   "metadata": {},
   "source": [
    "Verbosity allows us to transparently view training steps..."
   ]
  },
  {
   "cell_type": "code",
   "execution_count": 6,
   "metadata": {},
   "outputs": [
    {
     "name": "stdout",
     "output_type": "stream",
     "text": [
      "\n",
      "GREW INITIAL RULESET:\n",
      "[[physician-fee-freeze=n^adoption-of-the-budget-resolution=y] V\n",
      "[synfuels-corporation-cutback=y^physician-fee-freeze=n] V\n",
      "[synfuels-corporation-cutback=y^mx-missile=y] V\n",
      "[adoption-of-the-budget-resolution=y^anti-satellite-test-ban=n] V\n",
      "[physician-fee-freeze=n] V\n",
      "[Handicapped-infants=?] V\n",
      "[synfuels-corporation-cutback=y^superfund-right-to-sue=n]]\n",
      "\n",
      "optimization run 1 of 2\n",
      "\n",
      "OPTIMIZED RULESET:\n",
      "[[physician-fee-freeze=n^adoption-of-the-budget-resolution=y] V\n",
      "[synfuels-corporation-cutback=y^physician-fee-freeze=n] V\n",
      "[synfuels-corporation-cutback=y^mx-missile=y] V\n",
      "[adoption-of-the-budget-resolution=y^anti-satellite-test-ban=n] V\n",
      "[physician-fee-freeze=n] V\n",
      "[Handicapped-infants=?] V\n",
      "[synfuels-corporation-cutback=y^superfund-right-to-sue=n]]\n",
      "\n",
      "No changes were made. Halting optimization.\n",
      "GREW FINAL RULES\n",
      "[[physician-fee-freeze=n^adoption-of-the-budget-resolution=y] V\n",
      "[synfuels-corporation-cutback=y^physician-fee-freeze=n] V\n",
      "[synfuels-corporation-cutback=y^mx-missile=y] V\n",
      "[adoption-of-the-budget-resolution=y^anti-satellite-test-ban=n] V\n",
      "[physician-fee-freeze=n] V\n",
      "[Handicapped-infants=?] V\n",
      "[synfuels-corporation-cutback=y^superfund-right-to-sue=n] V\n",
      "[physician-fee-freeze=n]]\n",
      "\n",
      "FINAL RULESET:\n",
      "[[physician-fee-freeze=n^adoption-of-the-budget-resolution=y] V\n",
      "[synfuels-corporation-cutback=y^physician-fee-freeze=n]]\n",
      "\n"
     ]
    },
    {
     "data": {
      "text/plain": [
       "<Ruleset object: [physician-fee-freeze=n^adoption-of-the-budget-resolution=y] V [synfuels-corporation-cutback=y^physician-fee-freeze=n]>"
      ]
     },
     "execution_count": 6,
     "metadata": {},
     "output_type": "execute_result"
    }
   ],
   "source": [
    "ripper_clf.verbosity = 1 # Scale of 1-5\n",
    "ripper_clf.fit(train, class_feat='Party', random_state=0)\n",
    "ripper_clf.ruleset_"
   ]
  },
  {
   "cell_type": "markdown",
   "metadata": {},
   "source": [
    "How good is our model?"
   ]
  },
  {
   "cell_type": "code",
   "execution_count": 7,
   "metadata": {},
   "outputs": [
    {
     "data": {
      "text/plain": [
       "0.8990825688073395"
      ]
     },
     "execution_count": 7,
     "metadata": {},
     "output_type": "execute_result"
    }
   ],
   "source": [
    "test_X = test.drop('Party', axis=1)\n",
    "test_y = test['Party']\n",
    "ripper_clf.score(test_X, test_y) # Default metric is accuracy"
   ]
  },
  {
   "cell_type": "markdown",
   "metadata": {},
   "source": [
    "We can also score it on custom metrics, including sklearn's:"
   ]
  },
  {
   "cell_type": "code",
   "execution_count": 8,
   "metadata": {},
   "outputs": [
    {
     "data": {
      "text/plain": [
       "1.0"
      ]
     },
     "execution_count": 8,
     "metadata": {},
     "output_type": "execute_result"
    }
   ],
   "source": [
    "from sklearn.metrics import precision_score\n",
    "ripper_clf.score(test_X, test_y, precision_score)"
   ]
  },
  {
   "cell_type": "markdown",
   "metadata": {},
   "source": [
    "To make predictions, use the predict method, or use predict_proba to get predicted probabilities."
   ]
  },
  {
   "cell_type": "code",
   "execution_count": 9,
   "metadata": {},
   "outputs": [
    {
     "data": {
      "text/plain": [
       "[False, True, True, True, True, True, False, True, False, False]"
      ]
     },
     "execution_count": 9,
     "metadata": {},
     "output_type": "execute_result"
    }
   ],
   "source": [
    "ripper_clf.predict(test_X.tail(10))"
   ]
  },
  {
   "cell_type": "markdown",
   "metadata": {},
   "source": [
    "For explainability, we can query the reasons responsible for each prediction:"
   ]
  },
  {
   "cell_type": "code",
   "execution_count": 10,
   "metadata": {},
   "outputs": [
    {
     "data": {
      "text/plain": [
       "([True, False, True, False, False],\n",
       " [[<Rule object: [physician-fee-freeze=n^adoption-of-the-budget-resolution=y]>,\n",
       "   <Rule object: [synfuels-corporation-cutback=y^physician-fee-freeze=n]>],\n",
       "  [],\n",
       "  [<Rule object: [physician-fee-freeze=n^adoption-of-the-budget-resolution=y]>,\n",
       "   <Rule object: [synfuels-corporation-cutback=y^physician-fee-freeze=n]>],\n",
       "  [],\n",
       "  []])"
      ]
     },
     "execution_count": 10,
     "metadata": {},
     "output_type": "execute_result"
    }
   ],
   "source": [
    "ripper_clf.predict(test_X.tail(), give_reasons=True)"
   ]
  }
 ],
 "metadata": {
  "kernelspec": {
   "display_name": "Python 3",
   "language": "python",
   "name": "python3"
  },
  "language_info": {
   "codemirror_mode": {
    "name": "ipython",
    "version": 3
   },
   "file_extension": ".py",
   "mimetype": "text/x-python",
   "name": "python",
   "nbconvert_exporter": "python",
   "pygments_lexer": "ipython3",
   "version": "3.6.7"
  }
 },
 "nbformat": 4,
 "nbformat_minor": 2
}
