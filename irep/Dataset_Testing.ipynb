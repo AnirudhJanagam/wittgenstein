{
 "cells": [
  {
   "cell_type": "code",
   "execution_count": 1,
   "metadata": {},
   "outputs": [],
   "source": [
    "import pandas as pd"
   ]
  },
  {
   "cell_type": "code",
   "execution_count": 2,
   "metadata": {},
   "outputs": [],
   "source": [
    "from sklearn.model_selection import train_test_split\n",
    "from sklearn.preprocessing import OneHotEncoder, LabelEncoder\n",
    "from sklearn.metrics import precision_score, recall_score"
   ]
  },
  {
   "cell_type": "code",
   "execution_count": 3,
   "metadata": {},
   "outputs": [],
   "source": [
    "import irep\n",
    "\n",
    "def make_irep_dataset(dataset_filename, random_state=42):\n",
    "    # Load df\n",
    "    df = pd.read_csv(dataset_filename)\n",
    "    \n",
    "    # Split\n",
    "    train, test = train_test_split(df, test_size=.33, random_state=random_state)\n",
    "    \n",
    "    return train, test"
   ]
  },
  {
   "cell_type": "code",
   "execution_count": 4,
   "metadata": {},
   "outputs": [],
   "source": [
    "def make_irep(train, class_feat, pos_class, random_state=42):\n",
    "    # Train\n",
    "    irep_cls = irep.IREP(class_feat=class_feat,pos_class=pos_class)\n",
    "    irep_cls.fit(train, seed=random_state, prune=True, display=False)\n",
    "    \n",
    "    return irep_cls"
   ]
  },
  {
   "cell_type": "code",
   "execution_count": 5,
   "metadata": {},
   "outputs": [],
   "source": [
    "def score_irep(irep_cls, test, class_feat):\n",
    "    X_test = test.drop(class_feat,axis=1)\n",
    "    y_test = test[class_feat]\n",
    "\n",
    "    precision = irep_cls.score(X_test, y_test, precision_score)\n",
    "    recall = irep_cls.score(X_test, y_test, recall_score)\n",
    "    total_conds = sum([len(rule.conds) for rule in irep_cls.ruleset.rules])\n",
    "    return precision, recall, total_conds"
   ]
  },
  {
   "cell_type": "code",
   "execution_count": 6,
   "metadata": {},
   "outputs": [],
   "source": [
    "from sklearn.tree import DecisionTreeClassifier\n",
    "\n",
    "def make_tree_dataset(dataset_filename, class_feat, pos_class, n_classes, random_state=42):\n",
    "    \n",
    "    # Load df\n",
    "    df = pd.read_csv(dataset_filename)\n",
    "    \n",
    "    # sklearn's Tree (of all things!) doesn't directly take categorical features.\n",
    "    # One-hot preprocess the data to make it work.\n",
    "    le = LabelEncoder()\n",
    "    df_le=df.apply(le.fit_transform)\n",
    "    enc = OneHotEncoder(sparse=False)\n",
    "    enc.fit(df_le)\n",
    "    df_hot=enc.transform(df_le)\n",
    "    \n",
    "    # Split\n",
    "    train, test = train_test_split(df_hot, test_size=.33, random_state=random_state)\n",
    "    train_X = train[:,n_classes:]\n",
    "    train_y = train[:,0]\n",
    "    test_X = test[:,n_classes:]\n",
    "    test_y = test[:,0]\n",
    "    \n",
    "    return train_X, train_y, test_X, test_y"
   ]
  },
  {
   "cell_type": "code",
   "execution_count": 7,
   "metadata": {},
   "outputs": [],
   "source": [
    "def make_tree(train_X, train_y, random_state=42):\n",
    "    tree = DecisionTreeClassifier(random_state=random_state)\n",
    "    tree.fit(train_X, train_y)\n",
    "    return tree"
   ]
  },
  {
   "cell_type": "code",
   "execution_count": 8,
   "metadata": {},
   "outputs": [],
   "source": [
    "def score_tree(tree_cls, test_X, test_y):\n",
    "    predictions = tree_cls.predict(test_X)\n",
    "    precision = precision_score(test_y, predictions)\n",
    "    recall = recall_score(test_y, predictions)\n",
    "    return precision, recall, tree_cls.tree_.node_count"
   ]
  },
  {
   "cell_type": "code",
   "execution_count": 9,
   "metadata": {},
   "outputs": [],
   "source": [
    "datasets_path = '../../datasets/'\n",
    "random_state = 0"
   ]
  },
  {
   "cell_type": "code",
   "execution_count": 10,
   "metadata": {},
   "outputs": [],
   "source": [
    "# Set up\n",
    "dataset = 'house-votes-84.csv'\n",
    "filename = datasets_path + dataset\n",
    "class_feat = 'Party'\n",
    "pos_class = 'democrat'\n",
    "n_classes = 2"
   ]
  },
  {
   "cell_type": "code",
   "execution_count": 11,
   "metadata": {},
   "outputs": [
    {
     "ename": "TypeError",
     "evalue": "precision() takes 4 positional arguments but 5 were given",
     "output_type": "error",
     "traceback": [
      "\u001b[0;31m---------------------------------------------------------------------------\u001b[0m",
      "\u001b[0;31mTypeError\u001b[0m                                 Traceback (most recent call last)",
      "\u001b[0;32m<ipython-input-11-4495d0a5d34b>\u001b[0m in \u001b[0;36m<module>\u001b[0;34m()\u001b[0m\n\u001b[1;32m      1\u001b[0m \u001b[0;31m# Run irep\u001b[0m\u001b[0;34m\u001b[0m\u001b[0;34m\u001b[0m\u001b[0m\n\u001b[1;32m      2\u001b[0m \u001b[0mtrain\u001b[0m\u001b[0;34m,\u001b[0m \u001b[0mtest\u001b[0m \u001b[0;34m=\u001b[0m \u001b[0mmake_irep_dataset\u001b[0m\u001b[0;34m(\u001b[0m\u001b[0mfilename\u001b[0m\u001b[0;34m,\u001b[0m \u001b[0mrandom_state\u001b[0m\u001b[0;34m=\u001b[0m\u001b[0mrandom_state\u001b[0m\u001b[0;34m)\u001b[0m\u001b[0;34m\u001b[0m\u001b[0m\n\u001b[0;32m----> 3\u001b[0;31m \u001b[0mirep_cls\u001b[0m \u001b[0;34m=\u001b[0m \u001b[0mmake_irep\u001b[0m\u001b[0;34m(\u001b[0m\u001b[0mtrain\u001b[0m\u001b[0;34m,\u001b[0m \u001b[0mclass_feat\u001b[0m\u001b[0;34m,\u001b[0m \u001b[0mpos_class\u001b[0m\u001b[0;34m,\u001b[0m \u001b[0mrandom_state\u001b[0m\u001b[0;34m=\u001b[0m\u001b[0mrandom_state\u001b[0m\u001b[0;34m)\u001b[0m\u001b[0;34m\u001b[0m\u001b[0m\n\u001b[0m\u001b[1;32m      4\u001b[0m \u001b[0mirep_precision\u001b[0m\u001b[0;34m,\u001b[0m \u001b[0mirep_recall\u001b[0m\u001b[0;34m,\u001b[0m \u001b[0mtotal_conds\u001b[0m \u001b[0;34m=\u001b[0m \u001b[0mscore_irep\u001b[0m\u001b[0;34m(\u001b[0m\u001b[0mirep_cls\u001b[0m\u001b[0;34m,\u001b[0m \u001b[0mtest\u001b[0m\u001b[0;34m,\u001b[0m \u001b[0mclass_feat\u001b[0m\u001b[0;34m)\u001b[0m\u001b[0;34m\u001b[0m\u001b[0m\n\u001b[1;32m      5\u001b[0m \u001b[0mirep_precision\u001b[0m\u001b[0;34m,\u001b[0m \u001b[0mirep_recall\u001b[0m\u001b[0;34m,\u001b[0m \u001b[0mtotal_conds\u001b[0m\u001b[0;34m\u001b[0m\u001b[0m\n",
      "\u001b[0;32m<ipython-input-4-b4bde1e07a5b>\u001b[0m in \u001b[0;36mmake_irep\u001b[0;34m(train, class_feat, pos_class, random_state)\u001b[0m\n\u001b[1;32m      2\u001b[0m     \u001b[0;31m# Train\u001b[0m\u001b[0;34m\u001b[0m\u001b[0;34m\u001b[0m\u001b[0m\n\u001b[1;32m      3\u001b[0m     \u001b[0mirep_cls\u001b[0m \u001b[0;34m=\u001b[0m \u001b[0mirep\u001b[0m\u001b[0;34m.\u001b[0m\u001b[0mIREP\u001b[0m\u001b[0;34m(\u001b[0m\u001b[0mclass_feat\u001b[0m\u001b[0;34m=\u001b[0m\u001b[0mclass_feat\u001b[0m\u001b[0;34m,\u001b[0m\u001b[0mpos_class\u001b[0m\u001b[0;34m=\u001b[0m\u001b[0mpos_class\u001b[0m\u001b[0;34m)\u001b[0m\u001b[0;34m\u001b[0m\u001b[0m\n\u001b[0;32m----> 4\u001b[0;31m     \u001b[0mirep_cls\u001b[0m\u001b[0;34m.\u001b[0m\u001b[0mfit\u001b[0m\u001b[0;34m(\u001b[0m\u001b[0mtrain\u001b[0m\u001b[0;34m,\u001b[0m \u001b[0mseed\u001b[0m\u001b[0;34m=\u001b[0m\u001b[0mrandom_state\u001b[0m\u001b[0;34m,\u001b[0m \u001b[0mprune\u001b[0m\u001b[0;34m=\u001b[0m\u001b[0;32mTrue\u001b[0m\u001b[0;34m,\u001b[0m \u001b[0mdisplay\u001b[0m\u001b[0;34m=\u001b[0m\u001b[0;32mFalse\u001b[0m\u001b[0;34m)\u001b[0m\u001b[0;34m\u001b[0m\u001b[0m\n\u001b[0m\u001b[1;32m      5\u001b[0m \u001b[0;34m\u001b[0m\u001b[0m\n\u001b[1;32m      6\u001b[0m     \u001b[0;32mreturn\u001b[0m \u001b[0mirep_cls\u001b[0m\u001b[0;34m\u001b[0m\u001b[0m\n",
      "\u001b[0;32m~/Documents/Metis/Projects/ruleset/ruleset/irep/irep.py\u001b[0m in \u001b[0;36mfit\u001b[0;34m(self, df, prune, seed, display)\u001b[0m\n\u001b[1;32m     48\u001b[0m         \u001b[0;32mif\u001b[0m \u001b[0mprune\u001b[0m\u001b[0;34m:\u001b[0m\u001b[0;34m\u001b[0m\u001b[0m\n\u001b[1;32m     49\u001b[0m             self.ruleset.grow_pruned(pos_df, neg_df, self.class_feat, self.pos_class,\n\u001b[0;32m---> 50\u001b[0;31m                                      prune_size=self.prune_size, seed=seed, display=display)\n\u001b[0m\u001b[1;32m     51\u001b[0m         \u001b[0;32melse\u001b[0m\u001b[0;34m:\u001b[0m\u001b[0;34m\u001b[0m\u001b[0m\n\u001b[1;32m     52\u001b[0m             \u001b[0mself\u001b[0m\u001b[0;34m.\u001b[0m\u001b[0mruleset\u001b[0m\u001b[0;34m.\u001b[0m\u001b[0mgrow_unpruned\u001b[0m\u001b[0;34m(\u001b[0m\u001b[0mpos_df\u001b[0m\u001b[0;34m,\u001b[0m \u001b[0mneg_df\u001b[0m\u001b[0;34m,\u001b[0m \u001b[0mself\u001b[0m\u001b[0;34m.\u001b[0m\u001b[0mclass_feat\u001b[0m\u001b[0;34m,\u001b[0m \u001b[0mself\u001b[0m\u001b[0;34m.\u001b[0m\u001b[0mpos_class\u001b[0m\u001b[0;34m,\u001b[0m \u001b[0mdisplay\u001b[0m\u001b[0;34m=\u001b[0m\u001b[0mdisplay\u001b[0m\u001b[0;34m)\u001b[0m\u001b[0;34m\u001b[0m\u001b[0m\n",
      "\u001b[0;32m~/Documents/Metis/Projects/ruleset/ruleset/irep/irep.py\u001b[0m in \u001b[0;36mgrow_pruned\u001b[0;34m(self, pos_df, neg_df, class_feat, pos_class, prune_size, seed, display)\u001b[0m\n\u001b[1;32m    152\u001b[0m             \u001b[0;31m#if display: print(\"Pruned to:\",pruned_rule)\u001b[0m\u001b[0;34m\u001b[0m\u001b[0;34m\u001b[0m\u001b[0m\n\u001b[1;32m    153\u001b[0m \u001b[0;34m\u001b[0m\u001b[0m\n\u001b[0;32m--> 154\u001b[0;31m             \u001b[0mprune_precision\u001b[0m \u001b[0;34m=\u001b[0m \u001b[0mprecision\u001b[0m\u001b[0;34m(\u001b[0m\u001b[0mpruned_rule\u001b[0m\u001b[0;34m,\u001b[0m \u001b[0mpos_pruneset\u001b[0m\u001b[0;34m,\u001b[0m \u001b[0mneg_pruneset\u001b[0m\u001b[0;34m,\u001b[0m \u001b[0mclass_feat\u001b[0m\u001b[0;34m,\u001b[0m \u001b[0mpos_class\u001b[0m\u001b[0;34m)\u001b[0m\u001b[0;34m\u001b[0m\u001b[0m\n\u001b[0m\u001b[1;32m    155\u001b[0m             \u001b[0;32mif\u001b[0m \u001b[0;32mnot\u001b[0m \u001b[0mprune_precision\u001b[0m \u001b[0;32mor\u001b[0m \u001b[0mprune_precision\u001b[0m \u001b[0;34m<\u001b[0m \u001b[0;36m.50\u001b[0m\u001b[0;34m:\u001b[0m\u001b[0;34m\u001b[0m\u001b[0m\n\u001b[1;32m    156\u001b[0m                 \u001b[0;32mbreak\u001b[0m\u001b[0;34m\u001b[0m\u001b[0m\n",
      "\u001b[0;31mTypeError\u001b[0m: precision() takes 4 positional arguments but 5 were given"
     ]
    }
   ],
   "source": [
    "# Run irep\n",
    "train, test = make_irep_dataset(filename, random_state=random_state)\n",
    "irep_cls = make_irep(train, class_feat, pos_class, random_state=random_state)\n",
    "irep_precision, irep_recall, total_conds = score_irep(irep_cls, test, class_feat)\n",
    "irep_precision, irep_recall, total_conds"
   ]
  },
  {
   "cell_type": "code",
   "execution_count": null,
   "metadata": {},
   "outputs": [],
   "source": [
    "# Run tree\n",
    "tree_train_X, tree_train_y, tree_test_X, tree_test_y = make_tree_dataset(filename, class_feat, pos_class, n_classes, random_state=random_state)\n",
    "tree_cls = make_tree(tree_train_X, tree_train_y, random_state=random_state)\n",
    "tree_precision, tree_recall, tree_nodes = score_tree(tree_cls, tree_test_X, tree_test_y)\n",
    "tree_precision, tree_recall, tree_nodes"
   ]
  },
  {
   "cell_type": "code",
   "execution_count": null,
   "metadata": {},
   "outputs": [],
   "source": []
  }
 ],
 "metadata": {
  "kernelspec": {
   "display_name": "Python 3",
   "language": "python",
   "name": "python3"
  },
  "language_info": {
   "codemirror_mode": {
    "name": "ipython",
    "version": 3
   },
   "file_extension": ".py",
   "mimetype": "text/x-python",
   "name": "python",
   "nbconvert_exporter": "python",
   "pygments_lexer": "ipython3",
   "version": "3.6.6"
  }
 },
 "nbformat": 4,
 "nbformat_minor": 2
}
