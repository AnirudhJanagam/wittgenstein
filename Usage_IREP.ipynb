{
 "cells": [
  {
   "cell_type": "markdown",
   "metadata": {},
   "source": [
    "### Example of IREP usage on congress dataset"
   ]
  },
  {
   "cell_type": "code",
   "execution_count": 1,
   "metadata": {},
   "outputs": [],
   "source": [
    "import ruleset\n",
    "import pandas as pd"
   ]
  },
  {
   "cell_type": "markdown",
   "metadata": {},
   "source": [
    "Load our dataset:"
   ]
  },
  {
   "cell_type": "code",
   "execution_count": 2,
   "metadata": {},
   "outputs": [],
   "source": [
    "df = pd.read_csv('../datasets/house-votes-84.csv')"
   ]
  },
  {
   "cell_type": "markdown",
   "metadata": {},
   "source": [
    "Split our data into train-test sets:"
   ]
  },
  {
   "cell_type": "code",
   "execution_count": 3,
   "metadata": {},
   "outputs": [],
   "source": [
    "from sklearn.model_selection import train_test_split\n",
    "train, test = train_test_split(df, random_state=0)"
   ]
  },
  {
   "cell_type": "markdown",
   "metadata": {},
   "source": [
    "Create a ruleset classifier:"
   ]
  },
  {
   "cell_type": "code",
   "execution_count": 4,
   "metadata": {},
   "outputs": [
    {
     "data": {
      "text/plain": [
       "<IREP object (unfit)>"
      ]
     },
     "execution_count": 4,
     "metadata": {},
     "output_type": "execute_result"
    }
   ],
   "source": [
    "irep_clf = ruleset.IREP()\n",
    "irep_clf"
   ]
  },
  {
   "cell_type": "markdown",
   "metadata": {},
   "source": [
    "Train the ruleset classifier on the trainset:"
   ]
  },
  {
   "cell_type": "code",
   "execution_count": 5,
   "metadata": {},
   "outputs": [
    {
     "data": {
      "text/plain": [
       "<Ruleset object: [physician-fee-freeze=n] V [synfuels-corporation-cutback=y]>"
      ]
     },
     "execution_count": 5,
     "metadata": {},
     "output_type": "execute_result"
    }
   ],
   "source": [
    "irep_clf.fit(train, class_feat='Party', random_state=0)\n",
    "irep_clf.ruleset_ # Access underlying model"
   ]
  },
  {
   "cell_type": "markdown",
   "metadata": {},
   "source": [
    "Verbosity allows us to transparently view training steps..."
   ]
  },
  {
   "cell_type": "code",
   "execution_count": 6,
   "metadata": {},
   "outputs": [
    {
     "name": "stdout",
     "output_type": "stream",
     "text": [
      "pos_growset 135 pos_pruneset 67\n",
      "neg_growset 83 neg_pruneset 41\n",
      "grew rule: [physician-fee-freeze=n^adoption-of-the-budget-resolution=y]\n",
      "pruned rule: [physician-fee-freeze=n]\n",
      "updated ruleset: [physician-fee-freeze=n]\n",
      "\n",
      "pos_growset 11 pos_pruneset 6\n",
      "neg_growset 81 neg_pruneset 41\n",
      "grew rule: [synfuels-corporation-cutback=y^immigration=n^superfund-right-to-sue=n]\n",
      "pruned rule: [synfuels-corporation-cutback=y]\n",
      "updated ruleset: ...[physician-fee-freeze=n] V [synfuels-corporation-cutback=y]\n",
      "\n",
      "pos_growset 3 pos_pruneset 2\n",
      "neg_growset 71 neg_pruneset 36\n",
      "grew rule: [education-spending=n^physician-fee-freeze=?]\n",
      "pruned rule unchanged\n",
      "\n",
      "GREW RULESET:\n",
      "[[physician-fee-freeze=n] V\n",
      "[synfuels-corporation-cutback=y]]\n",
      "\n"
     ]
    },
    {
     "data": {
      "text/plain": [
       "<Ruleset object: [physician-fee-freeze=n] V [synfuels-corporation-cutback=y]>"
      ]
     },
     "execution_count": 6,
     "metadata": {},
     "output_type": "execute_result"
    }
   ],
   "source": [
    "irep_clf.verbosity = 2 # Scale of 1-5\n",
    "irep_clf.fit(train, class_feat='Party', random_state=0)\n",
    "irep_clf.ruleset_"
   ]
  },
  {
   "cell_type": "markdown",
   "metadata": {},
   "source": [
    "With IREP, we can turn off pruning (it's fun, but not recommended, for obvious reasons)"
   ]
  },
  {
   "cell_type": "code",
   "execution_count": 7,
   "metadata": {},
   "outputs": [
    {
     "data": {
      "text/plain": [
       "<IREP object (unfit)>"
      ]
     },
     "execution_count": 7,
     "metadata": {},
     "output_type": "execute_result"
    }
   ],
   "source": [
    "unpruned_irep_clf = ruleset.IREP(prune_size=None)\n",
    "unpruned_irep_clf"
   ]
  },
  {
   "cell_type": "code",
   "execution_count": 8,
   "metadata": {},
   "outputs": [
    {
     "data": {
      "text/plain": [
       "<Ruleset object: [physician-fee-freeze=n^adoption-of-the-budget-resolution=y] V [synfuels-corporation-cutback=y^physician-fee-freeze=n] V [synfuels-corporation-cutback=y^adoption-of-the-budget-resolution=y^anti-satellite-test-ban=n] V [mx-missile=y^duty-free-exports=y^physician-fee-freeze=n] V [physician-fee-freeze=?^immigration=y] V [immigration=n^synfuels-corporation-cutback=y^export-administration-act-south-africa=n^Handicapped-infants=y] V [immigration=n^education-spending=n^mx-missile=y] V [physician-fee-freeze=n^anti-satellite-test-ban=?] V [export-administration-act-south-africa=?^el-salvador-aid=?^mx-missile=y] V [immigration=n^synfuels-corporation-cutback=y^export-administration-act-south-africa=n^Water-project-cost-sharing=n] V [physician-fee-freeze=n^education-spending=y] V [export-administration-act-south-africa=?^adoption-of-the-budget-resolution=y^anti-satellite-test-ban=n] V [synfuels-corporation-cutback=y^superfund-right-to-sue=n^immigration=n]>"
      ]
     },
     "execution_count": 8,
     "metadata": {},
     "output_type": "execute_result"
    }
   ],
   "source": [
    "unpruned_irep_clf.fit(train, class_feat='Party', random_state=0)\n",
    "unpruned_irep_clf.ruleset_ # Access underlying model"
   ]
  },
  {
   "cell_type": "markdown",
   "metadata": {},
   "source": [
    "How good is our model?"
   ]
  },
  {
   "cell_type": "code",
   "execution_count": 9,
   "metadata": {},
   "outputs": [
    {
     "data": {
      "text/plain": [
       "0.926605504587156"
      ]
     },
     "execution_count": 9,
     "metadata": {},
     "output_type": "execute_result"
    }
   ],
   "source": [
    "test_X = test.drop('Party', axis=1)\n",
    "test_y = test['Party']\n",
    "irep_clf.score(test_X, test_y) # Default metric is accuracy"
   ]
  },
  {
   "cell_type": "markdown",
   "metadata": {},
   "source": [
    "We can also score it on custom metrics, including sklearn's:"
   ]
  },
  {
   "cell_type": "code",
   "execution_count": 11,
   "metadata": {},
   "outputs": [
    {
     "data": {
      "text/plain": [
       "0.9130434782608695"
      ]
     },
     "execution_count": 11,
     "metadata": {},
     "output_type": "execute_result"
    }
   ],
   "source": [
    "from sklearn.metrics import precision_score\n",
    "irep_clf.score(test_X, test_y, precision_score)"
   ]
  },
  {
   "cell_type": "markdown",
   "metadata": {},
   "source": [
    "To make predictions:"
   ]
  },
  {
   "cell_type": "code",
   "execution_count": 12,
   "metadata": {},
   "outputs": [
    {
     "data": {
      "text/plain": [
       "[True, False, True, False, False]"
      ]
     },
     "execution_count": 12,
     "metadata": {},
     "output_type": "execute_result"
    }
   ],
   "source": [
    "irep_clf.predict(test_X.tail())"
   ]
  },
  {
   "cell_type": "markdown",
   "metadata": {},
   "source": [
    "For explainability, we can query the reasons responsible for each prediction:"
   ]
  },
  {
   "cell_type": "code",
   "execution_count": 13,
   "metadata": {},
   "outputs": [
    {
     "data": {
      "text/plain": [
       "([True, False, True, False, False],\n",
       " [[<Rule object: [physician-fee-freeze=n]>,\n",
       "   <Rule object: [synfuels-corporation-cutback=y]>],\n",
       "  [],\n",
       "  [<Rule object: [physician-fee-freeze=n]>,\n",
       "   <Rule object: [synfuels-corporation-cutback=y]>],\n",
       "  [],\n",
       "  []])"
      ]
     },
     "execution_count": 13,
     "metadata": {},
     "output_type": "execute_result"
    }
   ],
   "source": [
    "irep_clf.predict(test_X.tail(), give_reasons=True)"
   ]
  }
 ],
 "metadata": {
  "kernelspec": {
   "display_name": "Python 3",
   "language": "python",
   "name": "python3"
  },
  "language_info": {
   "codemirror_mode": {
    "name": "ipython",
    "version": 3
   },
   "file_extension": ".py",
   "mimetype": "text/x-python",
   "name": "python",
   "nbconvert_exporter": "python",
   "pygments_lexer": "ipython3",
   "version": "3.6.7"
  }
 },
 "nbformat": 4,
 "nbformat_minor": 2
}
