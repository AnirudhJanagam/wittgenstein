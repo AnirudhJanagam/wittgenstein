{
 "cells": [
  {
   "cell_type": "code",
   "execution_count": 1,
   "metadata": {},
   "outputs": [],
   "source": [
    "import ruleset as rs\n",
    "from ruleset import RIPPER, ripper, base\n",
    "import pickle\n",
    "import pandas as pd"
   ]
  },
  {
   "cell_type": "code",
   "execution_count": 2,
   "metadata": {},
   "outputs": [],
   "source": [
    "from sklearn.model_selection import train_test_split\n",
    "from sklearn.metrics import precision_score, recall_score, accuracy_score"
   ]
  },
  {
   "cell_type": "code",
   "execution_count": 3,
   "metadata": {},
   "outputs": [],
   "source": [
    "def make_rs_dataset(dataset_filename, random_state=42):\n",
    "    # Load df\n",
    "    df = pd.read_csv(dataset_filename)\n",
    "    \n",
    "    # Split\n",
    "    train, test = train_test_split(df, test_size=.33, random_state=random_state)\n",
    "    \n",
    "    return train, test"
   ]
  },
  {
   "cell_type": "code",
   "execution_count": 4,
   "metadata": {},
   "outputs": [],
   "source": [
    "def make_ripper(train, class_feat, pos_class, k=2, random_state=42, verbosity=0):\n",
    "    # Train\n",
    "    rip_clf = rs.RIPPER(k=k, verbosity=verbosity)\n",
    "    rip_clf.fit(train, class_feat=class_feat, pos_class=pos_class, \n",
    "                n_discretize_bins=5, random_state=random_state)\n",
    "    return rip_clf"
   ]
  },
  {
   "cell_type": "code",
   "execution_count": 5,
   "metadata": {},
   "outputs": [],
   "source": [
    "datasets_path = '../datasets/'\n",
    "random_state = 42"
   ]
  },
  {
   "cell_type": "code",
   "execution_count": 6,
   "metadata": {},
   "outputs": [],
   "source": [
    "dataset = 'mushroom.csv'\n",
    "filename = datasets_path + dataset\n",
    "class_feat = 'Poisonous/Edible'\n",
    "pos_class = 'p'\n",
    "\n",
    "result = pickle.load(open(filename.replace('.csv','.pkl'), \"rb\"))\n",
    "model = result['ripper_models'][0]"
   ]
  },
  {
   "cell_type": "code",
   "execution_count": 7,
   "metadata": {},
   "outputs": [],
   "source": [
    "train, test = make_rs_dataset(filename, random_state=42)\n",
    "#model = make_ripper(train, class_feat, pos_class, k=0, random_state=42, verbosity=0)\n",
    "#pickle.dump(model, open('temp_rip.pkl','wb'))\n",
    "model = pickle.load(open('temp_rip.pkl','rb'))"
   ]
  },
  {
   "cell_type": "code",
   "execution_count": 8,
   "metadata": {},
   "outputs": [],
   "source": [
    "ruleset = model.ruleset_\n",
    "stats = ripper.RulesetStats()\n",
    "pos_df, neg_df = base.pos_neg_split(train, class_feat, pos_class)\n",
    "possible_conds = model.possible_conds"
   ]
  },
  {
   "cell_type": "code",
   "execution_count": 16,
   "metadata": {},
   "outputs": [
    {
     "name": "stdout",
     "output_type": "stream",
     "text": [
      "mismatch at 9\n"
     ]
    }
   ],
   "source": [
    "stats.update(ruleset, possible_conds, pos_df, neg_df, bestsubset_dl=False, ret_bestsubset=False, verbosity=5)"
   ]
  },
  {
   "cell_type": "code",
   "execution_count": 17,
   "metadata": {},
   "outputs": [
    {
     "data": {
      "text/plain": [
       "[(0, 3377.7235010761033),\n",
       " (1, 2152.5167396808397),\n",
       " (2, 1778.1709835519496),\n",
       " (3, 1142.696786306302),\n",
       " (4, 827.9312750686732),\n",
       " (5, 734.9581516407509),\n",
       " (6, 663.9150892363692),\n",
       " (7, 538.3074896667496),\n",
       " (8, 412.7397059699782),\n",
       " (9, 377.6444895630475),\n",
       " (10, 294.9152417352419),\n",
       " (11, 250.31921401773693),\n",
       " (12, 213.42243213548036),\n",
       " (13, 166.730637899361),\n",
       " (14, 152.62125713656573)]"
      ]
     },
     "execution_count": 17,
     "metadata": {},
     "output_type": "execute_result"
    }
   ],
   "source": [
    "list(zip(range(0,len(stats.subset_dls)), stats.subset_dls))"
   ]
  },
  {
   "cell_type": "code",
   "execution_count": 18,
   "metadata": {},
   "outputs": [],
   "source": [
    "stats.subset_dls[1] = 4000\n",
    "stats.subset_dls[4] = 3000"
   ]
  },
  {
   "cell_type": "code",
   "execution_count": 11,
   "metadata": {},
   "outputs": [
    {
     "name": "stdout",
     "output_type": "stream",
     "text": [
      "mismatch at 9\n"
     ]
    }
   ],
   "source": [
    "#temprs = base.Ruleset(ruleset.rules[:9]+[ruleset.rules[4]]+ruleset.rules[10:]+ruleset.rules[1:3])\n",
    "#stats.update(temprs, possible_conds, pos_df, neg_df, bestsubset_dl=False, ret_bestsubset=False, verbosity=5)"
   ]
  },
  {
   "cell_type": "code",
   "execution_count": 19,
   "metadata": {},
   "outputs": [
    {
     "data": {
      "text/plain": [
       "[(0, 3377.7235010761033),\n",
       " (1, 4000),\n",
       " (2, 1778.1709835519496),\n",
       " (3, 1142.696786306302),\n",
       " (4, 3000),\n",
       " (5, 734.9581516407509),\n",
       " (6, 663.9150892363692),\n",
       " (7, 538.3074896667496),\n",
       " (8, 412.7397059699782),\n",
       " (9, 377.6444895630475),\n",
       " (10, 294.9152417352419),\n",
       " (11, 250.31921401773693),\n",
       " (12, 213.42243213548036),\n",
       " (13, 166.730637899361),\n",
       " (14, 152.62125713656573)]"
      ]
     },
     "execution_count": 19,
     "metadata": {},
     "output_type": "execute_result"
    }
   ],
   "source": [
    "list(zip(range(0,len(stats.subset_dls)), stats.subset_dls))"
   ]
  },
  {
   "cell_type": "code",
   "execution_count": 20,
   "metadata": {},
   "outputs": [
    {
     "name": "stdout",
     "output_type": "stream",
     "text": [
      "rule 4 raised dl -- removing\n",
      "mismatch at 4\n",
      "new ruleset is [Stalk-surface-above-ring=k^Gill-spacing=c] V [Gill-size=n^Sport-print-color=w^Gill-spacing=c] V [Gill-size=n^Population=s] V [Sport-print-color=h^Cap-surface=s] V [Gill-size=n^Habitat=g] V [Gill-size=n^Sport-print-color=k^Stalk-root=b] V [Population=v^Stalk-shape=e^Bruises?=t^Cap-shape=b] V [Gill-size=n^Cap-surface=y^Bruises?=t] V [Gill-size=n^Stalk-root=c] V [Population=v^Stalk-shape=e^Stalk-root=b^Stalk-color-below-ring=w^Cap-surface=f] V [Ring-number=t^Population=v^Cap-shape=f^Gill-color=g] V [Ring-number=t^Population=v^Habitat=g] V [Habitat=m^Cap-shape=f] V [Habitat=l^Cap-color=w]\n",
      "rule 1 raised dl -- removing\n",
      "mismatch at 1\n",
      "new ruleset is [Stalk-surface-above-ring=k^Gill-spacing=c] V [Gill-size=n^Population=s] V [Sport-print-color=h^Cap-surface=s] V [Gill-size=n^Habitat=g] V [Gill-size=n^Sport-print-color=k^Stalk-root=b] V [Population=v^Stalk-shape=e^Bruises?=t^Cap-shape=b] V [Gill-size=n^Cap-surface=y^Bruises?=t] V [Gill-size=n^Stalk-root=c] V [Population=v^Stalk-shape=e^Stalk-root=b^Stalk-color-below-ring=w^Cap-surface=f] V [Ring-number=t^Population=v^Cap-shape=f^Gill-color=g] V [Ring-number=t^Population=v^Habitat=g] V [Habitat=m^Cap-shape=f] V [Habitat=l^Cap-color=w]\n"
     ]
    }
   ],
   "source": [
    "stats.dl_pruned_ruleset(possible_conds, pos_df, neg_df)"
   ]
  },
  {
   "cell_type": "code",
   "execution_count": 14,
   "metadata": {},
   "outputs": [
    {
     "data": {
      "text/plain": [
       "-8.946580185149173"
      ]
     },
     "execution_count": 14,
     "metadata": {},
     "output_type": "execute_result"
    }
   ],
   "source": [
    "stats.dl_change(14)"
   ]
  },
  {
   "cell_type": "code",
   "execution_count": 15,
   "metadata": {},
   "outputs": [
    {
     "data": {
      "text/plain": [
       "<Ruleset object: [Stalk-surface-above-ring=k^Gill-spacing=c] V [Gill-size=n^Sport-print-color=w^Gill-spacing=c] V [Gill-size=n^Population=s] V [Sport-print-color=h^Cap-surface=s] V [Gill-size=n^Cap-surface=s^Stalk-shape=e] V [Gill-size=n^Habitat=g] V [Gill-size=n^Sport-print-color=k^Stalk-root=b] V [Population=v^Stalk-shape=e^Bruises?=t^Cap-shape=b] V [Gill-size=n^Cap-surface=y^Bruises?=t] V [Gill-size=n^Cap-surface=s^Stalk-shape=e] V [Population=v^Stalk-shape=e^Stalk-root=b^Stalk-color-below-ring=w^Cap-surface=f] V [Ring-number=t^Population=v^Cap-shape=f^Gill-color=g] V [Ring-number=t^Population=v^Habitat=g] V [Habitat=m^Cap-shape=f] V [Habitat=l^Cap-color=w] V [Gill-size=n^Sport-print-color=w^Gill-spacing=c] V [Gill-size=n^Population=s]>"
      ]
     },
     "execution_count": 15,
     "metadata": {},
     "output_type": "execute_result"
    }
   ],
   "source": [
    "stats.ruleset"
   ]
  },
  {
   "cell_type": "code",
   "execution_count": null,
   "metadata": {},
   "outputs": [],
   "source": []
  }
 ],
 "metadata": {
  "kernelspec": {
   "display_name": "Python 3",
   "language": "python",
   "name": "python3"
  },
  "language_info": {
   "codemirror_mode": {
    "name": "ipython",
    "version": 3
   },
   "file_extension": ".py",
   "mimetype": "text/x-python",
   "name": "python",
   "nbconvert_exporter": "python",
   "pygments_lexer": "ipython3",
   "version": "3.6.7"
  }
 },
 "nbformat": 4,
 "nbformat_minor": 2
}
