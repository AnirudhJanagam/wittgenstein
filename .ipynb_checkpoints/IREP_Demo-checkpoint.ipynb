{
 "cells": [
  {
   "cell_type": "markdown",
   "metadata": {},
   "source": [
    "# Kiwi-Aussie Classification with IREP"
   ]
  },
  {
   "cell_type": "code",
   "execution_count": 1,
   "metadata": {},
   "outputs": [],
   "source": [
    "import pandas as pd\n",
    "import numpy as np"
   ]
  },
  {
   "cell_type": "markdown",
   "metadata": {},
   "source": [
    "### Define our features and their distributions"
   ]
  },
  {
   "cell_type": "code",
   "execution_count": 2,
   "metadata": {},
   "outputs": [],
   "source": [
    "features = {'Nationality':('Kiwi','Aussie'),\n",
    " 'Funny_Accent':\n",
    "    ('Yes','No'),\n",
    " 'Waltzing':\n",
    "    ('Yes','No'),\n",
    " 'AU_Anthem':\n",
    "    ('Yes','No','Some'),\n",
    " 'Six':\n",
    "    ('Properly','Seeks'), \n",
    " 'Fish_and_Chips':\n",
    "    ('Normal','Feessh_and_Cheeps','Fush_and_Chups'),\n",
    " 'Favourite':\n",
    "    ('Vegemite','Marmite','Butter','Marmalade'),\n",
    " 'Owns_X_Sheep':\n",
    "    ('One','Two','Three','Many'),\n",
    " 'Can_Fly':\n",
    "    ('Yes','No','Briefly')\n",
    "}\n",
    "                \n",
    "kiwi_dist = {'Nationality':(1,0),\n",
    "  'Funny_Accent':\n",
    "      (.8,.2),\n",
    "  'Waltzing':\n",
    "      (.6,.4),\n",
    "  'AU_Anthem':\n",
    "      (.05,.90,.05),\n",
    "  'Six':\n",
    "      (.8,.20),\n",
    "  'Fish_and_Chips':\n",
    "      (.4,.15,.45),\n",
    "  'Favourite':\n",
    "      (.35,.40,.10,.15),\n",
    "  'Owns_X_Sheep':\n",
    "      (.1,.3,.4,.2),\n",
    "  'Can_Fly':\n",
    "      (0,.9,.1)\n",
    " }\n",
    "    \n",
    "aussie_dist = {'Nationality':(0,1),\n",
    "  'Funny_Accent':\n",
    "      (.9,.1),\n",
    "  'Waltzing':\n",
    "      (.7,.3),\n",
    "  'AU_Anthem':\n",
    "      (.05,.85,.1),\n",
    "  'Six':\n",
    "      (.4,.6),\n",
    "  'Fish_and_Chips':\n",
    "      (.3,.05,.65),\n",
    "  'Favourite':\n",
    "      (.5,.25,.15,.1),\n",
    "  'Owns_X_Sheep':\n",
    "      (.2,.5,.1,.2),\n",
    "  'Can_Fly':\n",
    "      (0,1,0)\n",
    " }\n",
    "             "
   ]
  },
  {
   "cell_type": "markdown",
   "metadata": {},
   "source": [
    "### Generate Kiwis and Aussies"
   ]
  },
  {
   "cell_type": "markdown",
   "metadata": {},
   "source": [
    "Generate arrays of random kiwis and aussies according to their feature distributions:"
   ]
  },
  {
   "cell_type": "code",
   "execution_count": 3,
   "metadata": {},
   "outputs": [],
   "source": [
    "n_kiwis = 100\n",
    "n_aussies = 100\n",
    "\n",
    "kiwis = [ np.random.choice(options, n_kiwis, p=kiwi_dist[feature])\n",
    "            for feature, options in features.items() ]\n",
    "\n",
    "aussies = [ np.random.choice(options, n_aussies, p=aussie_dist[feature])\n",
    "            for feature, options in features.items() ]\n",
    "              "
   ]
  },
  {
   "cell_type": "code",
   "execution_count": 4,
   "metadata": {},
   "outputs": [],
   "source": [
    "kiwis = np.array(kiwis).T\n",
    "aussies = np.array(aussies).T\n",
    "everyone = np.concatenate((kiwis, aussies), axis=0)"
   ]
  },
  {
   "cell_type": "markdown",
   "metadata": {},
   "source": [
    "Load everyone into pandas."
   ]
  },
  {
   "cell_type": "code",
   "execution_count": 5,
   "metadata": {},
   "outputs": [],
   "source": [
    "df = pd.DataFrame(columns=['Nationality','Funny_Accent','Waltzing','AU_Anthem',\n",
    "                          'Six','Fish_and_Chips','Favorite',\n",
    "                          'Own_X_Sheep','Can_Fly'], data=everyone)"
   ]
  },
  {
   "cell_type": "markdown",
   "metadata": {},
   "source": [
    "This shuffles the dataframe:"
   ]
  },
  {
   "cell_type": "code",
   "execution_count": 6,
   "metadata": {},
   "outputs": [],
   "source": [
    "df = df.sample(frac=1, random_state=42)"
   ]
  },
  {
   "cell_type": "code",
   "execution_count": 7,
   "metadata": {},
   "outputs": [
    {
     "data": {
      "text/html": [
       "<div>\n",
       "<style scoped>\n",
       "    .dataframe tbody tr th:only-of-type {\n",
       "        vertical-align: middle;\n",
       "    }\n",
       "\n",
       "    .dataframe tbody tr th {\n",
       "        vertical-align: top;\n",
       "    }\n",
       "\n",
       "    .dataframe thead th {\n",
       "        text-align: right;\n",
       "    }\n",
       "</style>\n",
       "<table border=\"1\" class=\"dataframe\">\n",
       "  <thead>\n",
       "    <tr style=\"text-align: right;\">\n",
       "      <th></th>\n",
       "      <th>Nationality</th>\n",
       "      <th>Funny_Accent</th>\n",
       "      <th>Waltzing</th>\n",
       "      <th>AU_Anthem</th>\n",
       "      <th>Six</th>\n",
       "      <th>Fish_and_Chips</th>\n",
       "      <th>Favorite</th>\n",
       "      <th>Own_X_Sheep</th>\n",
       "      <th>Can_Fly</th>\n",
       "    </tr>\n",
       "  </thead>\n",
       "  <tbody>\n",
       "    <tr>\n",
       "      <th>95</th>\n",
       "      <td>Kiwi</td>\n",
       "      <td>Yes</td>\n",
       "      <td>No</td>\n",
       "      <td>No</td>\n",
       "      <td>Properly</td>\n",
       "      <td>Normal</td>\n",
       "      <td>Vegemite</td>\n",
       "      <td>Two</td>\n",
       "      <td>No</td>\n",
       "    </tr>\n",
       "    <tr>\n",
       "      <th>15</th>\n",
       "      <td>Kiwi</td>\n",
       "      <td>Yes</td>\n",
       "      <td>Yes</td>\n",
       "      <td>No</td>\n",
       "      <td>Properly</td>\n",
       "      <td>Feessh_and_Cheeps</td>\n",
       "      <td>Vegemite</td>\n",
       "      <td>Many</td>\n",
       "      <td>No</td>\n",
       "    </tr>\n",
       "    <tr>\n",
       "      <th>30</th>\n",
       "      <td>Kiwi</td>\n",
       "      <td>Yes</td>\n",
       "      <td>No</td>\n",
       "      <td>No</td>\n",
       "      <td>Properly</td>\n",
       "      <td>Fush_and_Chups</td>\n",
       "      <td>Vegemite</td>\n",
       "      <td>Three</td>\n",
       "      <td>No</td>\n",
       "    </tr>\n",
       "    <tr>\n",
       "      <th>158</th>\n",
       "      <td>Aussie</td>\n",
       "      <td>Yes</td>\n",
       "      <td>No</td>\n",
       "      <td>No</td>\n",
       "      <td>Properly</td>\n",
       "      <td>Fush_and_Chups</td>\n",
       "      <td>Butter</td>\n",
       "      <td>Three</td>\n",
       "      <td>No</td>\n",
       "    </tr>\n",
       "    <tr>\n",
       "      <th>128</th>\n",
       "      <td>Aussie</td>\n",
       "      <td>Yes</td>\n",
       "      <td>Yes</td>\n",
       "      <td>No</td>\n",
       "      <td>Properly</td>\n",
       "      <td>Fush_and_Chups</td>\n",
       "      <td>Marmalade</td>\n",
       "      <td>Two</td>\n",
       "      <td>No</td>\n",
       "    </tr>\n",
       "    <tr>\n",
       "      <th>115</th>\n",
       "      <td>Aussie</td>\n",
       "      <td>Yes</td>\n",
       "      <td>Yes</td>\n",
       "      <td>No</td>\n",
       "      <td>Seeks</td>\n",
       "      <td>Normal</td>\n",
       "      <td>Butter</td>\n",
       "      <td>Two</td>\n",
       "      <td>No</td>\n",
       "    </tr>\n",
       "    <tr>\n",
       "      <th>69</th>\n",
       "      <td>Kiwi</td>\n",
       "      <td>Yes</td>\n",
       "      <td>Yes</td>\n",
       "      <td>No</td>\n",
       "      <td>Properly</td>\n",
       "      <td>Fush_and_Chups</td>\n",
       "      <td>Marmite</td>\n",
       "      <td>Three</td>\n",
       "      <td>Briefly</td>\n",
       "    </tr>\n",
       "    <tr>\n",
       "      <th>170</th>\n",
       "      <td>Aussie</td>\n",
       "      <td>Yes</td>\n",
       "      <td>Yes</td>\n",
       "      <td>No</td>\n",
       "      <td>Properly</td>\n",
       "      <td>Fush_and_Chups</td>\n",
       "      <td>Vegemite</td>\n",
       "      <td>One</td>\n",
       "      <td>No</td>\n",
       "    </tr>\n",
       "    <tr>\n",
       "      <th>174</th>\n",
       "      <td>Aussie</td>\n",
       "      <td>Yes</td>\n",
       "      <td>Yes</td>\n",
       "      <td>Yes</td>\n",
       "      <td>Properly</td>\n",
       "      <td>Fush_and_Chups</td>\n",
       "      <td>Butter</td>\n",
       "      <td>Two</td>\n",
       "      <td>No</td>\n",
       "    </tr>\n",
       "    <tr>\n",
       "      <th>45</th>\n",
       "      <td>Kiwi</td>\n",
       "      <td>No</td>\n",
       "      <td>Yes</td>\n",
       "      <td>No</td>\n",
       "      <td>Properly</td>\n",
       "      <td>Fush_and_Chups</td>\n",
       "      <td>Marmalade</td>\n",
       "      <td>Two</td>\n",
       "      <td>No</td>\n",
       "    </tr>\n",
       "  </tbody>\n",
       "</table>\n",
       "</div>"
      ],
      "text/plain": [
       "    Nationality Funny_Accent Waltzing AU_Anthem       Six     Fish_and_Chips  \\\n",
       "95         Kiwi          Yes       No        No  Properly             Normal   \n",
       "15         Kiwi          Yes      Yes        No  Properly  Feessh_and_Cheeps   \n",
       "30         Kiwi          Yes       No        No  Properly     Fush_and_Chups   \n",
       "158      Aussie          Yes       No        No  Properly     Fush_and_Chups   \n",
       "128      Aussie          Yes      Yes        No  Properly     Fush_and_Chups   \n",
       "115      Aussie          Yes      Yes        No     Seeks             Normal   \n",
       "69         Kiwi          Yes      Yes        No  Properly     Fush_and_Chups   \n",
       "170      Aussie          Yes      Yes        No  Properly     Fush_and_Chups   \n",
       "174      Aussie          Yes      Yes       Yes  Properly     Fush_and_Chups   \n",
       "45         Kiwi           No      Yes        No  Properly     Fush_and_Chups   \n",
       "\n",
       "      Favorite Own_X_Sheep  Can_Fly  \n",
       "95    Vegemite         Two       No  \n",
       "15    Vegemite        Many       No  \n",
       "30    Vegemite       Three       No  \n",
       "158     Butter       Three       No  \n",
       "128  Marmalade         Two       No  \n",
       "115     Butter         Two       No  \n",
       "69     Marmite       Three  Briefly  \n",
       "170   Vegemite         One       No  \n",
       "174     Butter         Two       No  \n",
       "45   Marmalade         Two       No  "
      ]
     },
     "execution_count": 7,
     "metadata": {},
     "output_type": "execute_result"
    }
   ],
   "source": [
    "df.head(10)"
   ]
  },
  {
   "cell_type": "markdown",
   "metadata": {},
   "source": [
    "### Split our data"
   ]
  },
  {
   "cell_type": "code",
   "execution_count": 11,
   "metadata": {},
   "outputs": [],
   "source": [
    "from sklearn.model_selection import train_test_split\n",
    "train, test = train_test_split(df, test_size=.33)"
   ]
  },
  {
   "cell_type": "markdown",
   "metadata": {},
   "source": [
    "### Bring in IREP"
   ]
  },
  {
   "cell_type": "code",
   "execution_count": 12,
   "metadata": {},
   "outputs": [],
   "source": [
    "from ruleset import IREP"
   ]
  },
  {
   "cell_type": "markdown",
   "metadata": {},
   "source": [
    "Split our data:"
   ]
  },
  {
   "cell_type": "markdown",
   "metadata": {},
   "source": [
    "Grow a ruleset without pruning:"
   ]
  },
  {
   "cell_type": "code",
   "execution_count": 13,
   "metadata": {},
   "outputs": [
    {
     "ename": "AttributeError",
     "evalue": "type object 'IREP' has no attribute 'ire'",
     "output_type": "error",
     "traceback": [
      "\u001b[0;31m---------------------------------------------------------------------------\u001b[0m",
      "\u001b[0;31mAttributeError\u001b[0m                            Traceback (most recent call last)",
      "\u001b[0;32m<ipython-input-13-e9bd794953dc>\u001b[0m in \u001b[0;36m<module>\u001b[0;34m()\u001b[0m\n\u001b[0;32m----> 1\u001b[0;31m \u001b[0mire_ruleset\u001b[0m \u001b[0;34m=\u001b[0m \u001b[0mIREP\u001b[0m\u001b[0;34m.\u001b[0m\u001b[0mire\u001b[0m\u001b[0;34m(\u001b[0m\u001b[0mdf\u001b[0m\u001b[0;34m=\u001b[0m\u001b[0mtrain\u001b[0m\u001b[0;34m,\u001b[0m \u001b[0mdisplay\u001b[0m\u001b[0;34m=\u001b[0m\u001b[0;32mTrue\u001b[0m\u001b[0;34m,\u001b[0m \u001b[0mshow_gain\u001b[0m\u001b[0;34m=\u001b[0m\u001b[0;32mFalse\u001b[0m\u001b[0;34m,\u001b[0m \u001b[0msleep\u001b[0m\u001b[0;34m=\u001b[0m\u001b[0;32mFalse\u001b[0m\u001b[0;34m)\u001b[0m\u001b[0;34m\u001b[0m\u001b[0m\n\u001b[0m\u001b[1;32m      2\u001b[0m \u001b[0mire_ruleset\u001b[0m\u001b[0;34m\u001b[0m\u001b[0m\n",
      "\u001b[0;31mAttributeError\u001b[0m: type object 'IREP' has no attribute 'ire'"
     ]
    }
   ],
   "source": [
    "ire_ruleset = IREP.ire(df=train, display=True, show_gain=False, sleep=False)\n",
    "ire_ruleset"
   ]
  },
  {
   "cell_type": "markdown",
   "metadata": {},
   "source": [
    "Now with pruning:"
   ]
  },
  {
   "cell_type": "code",
   "execution_count": 12,
   "metadata": {},
   "outputs": [
    {
     "name": "stdout",
     "output_type": "stream",
     "text": [
      "Update: []\n",
      "Update: [('Own_X_Sheep', 'Three')]\n",
      "Grown: [('Own_X_Sheep', 'Three'), ('Six', 'Properly')]\n",
      "Pruned to: [('Own_X_Sheep', 'Three')]\n",
      "Updated ruleset: [[('Own_X_Sheep', 'Three')]] \n",
      "\n",
      "Update: []\n",
      "Update: [('Six', 'Properly')]\n",
      "Update: [('Six', 'Properly'), ('Own_X_Sheep', 'Two')]\n",
      "Grown: [('Six', 'Properly'), ('Own_X_Sheep', 'Two'), ('Favorite', 'Marmite')]\n",
      "Pruned to: [('Six', 'Properly'), ('Own_X_Sheep', 'Two')]\n",
      "Updated ruleset: [[('Own_X_Sheep', 'Three')], [('Six', 'Properly'), ('Own_X_Sheep', 'Two')]] \n",
      "\n",
      "Update: []\n",
      "Update: [('Waltzing', 'No')]\n",
      "Grown: [('Waltzing', 'No'), ('Funny_Accent', 'No')]\n",
      "Pruned to: [('Waltzing', 'No'), ('Funny_Accent', 'No')]\n",
      "Updated ruleset: [[('Own_X_Sheep', 'Three')], [('Six', 'Properly'), ('Own_X_Sheep', 'Two')], [('Waltzing', 'No'), ('Funny_Accent', 'No')]] \n",
      "\n",
      "Update: []\n",
      "Update: [('Favorite', 'Marmalade')]\n",
      "Grown: [('Favorite', 'Marmalade'), ('Waltzing', 'No')]\n",
      "Pruned to: [('Favorite', 'Marmalade')]\n",
      "Updated ruleset: [[('Own_X_Sheep', 'Three')], [('Six', 'Properly'), ('Own_X_Sheep', 'Two')], [('Waltzing', 'No'), ('Funny_Accent', 'No')], [('Favorite', 'Marmalade')]] \n",
      "\n",
      "Update: []\n",
      "Update: [('Six', 'Properly')]\n",
      "Grown: [('Six', 'Properly'), ('AU_Anthem', 'Yes')]\n",
      "Pruned to: [('Six', 'Properly'), ('AU_Anthem', 'Yes')]\n"
     ]
    },
    {
     "data": {
      "text/plain": [
       "[[('Own_X_Sheep', 'Three')],\n",
       " [('Six', 'Properly'), ('Own_X_Sheep', 'Two')],\n",
       " [('Waltzing', 'No'), ('Funny_Accent', 'No')],\n",
       " [('Favorite', 'Marmalade')]]"
      ]
     },
     "execution_count": 12,
     "metadata": {},
     "output_type": "execute_result"
    }
   ],
   "source": [
    "irep_ruleset = IREP.irep(df=train, display=True, show_gain=False, sleep=False, seed=42)\n",
    "irep_ruleset"
   ]
  },
  {
   "cell_type": "markdown",
   "metadata": {},
   "source": [
    "Now a bunch of times:"
   ]
  },
  {
   "cell_type": "code",
   "execution_count": 14,
   "metadata": {},
   "outputs": [],
   "source": [
    "experiment_results = IREP.experiment(df, n=10, first_seed=42)"
   ]
  },
  {
   "cell_type": "code",
   "execution_count": 15,
   "metadata": {},
   "outputs": [
    {
     "data": {
      "text/html": [
       "<div>\n",
       "<style scoped>\n",
       "    .dataframe tbody tr th:only-of-type {\n",
       "        vertical-align: middle;\n",
       "    }\n",
       "\n",
       "    .dataframe tbody tr th {\n",
       "        vertical-align: top;\n",
       "    }\n",
       "\n",
       "    .dataframe thead th {\n",
       "        text-align: right;\n",
       "    }\n",
       "</style>\n",
       "<table border=\"1\" class=\"dataframe\">\n",
       "  <thead>\n",
       "    <tr style=\"text-align: right;\">\n",
       "      <th></th>\n",
       "      <th>Precision</th>\n",
       "      <th>Recall</th>\n",
       "      <th>Freq_Selected</th>\n",
       "    </tr>\n",
       "    <tr>\n",
       "      <th>Ruleset</th>\n",
       "      <th></th>\n",
       "      <th></th>\n",
       "      <th></th>\n",
       "    </tr>\n",
       "  </thead>\n",
       "  <tbody>\n",
       "    <tr>\n",
       "      <th>[[(Own_X_Sheep, Three)]]</th>\n",
       "      <td>0.860133</td>\n",
       "      <td>0.369925</td>\n",
       "      <td>0.4</td>\n",
       "    </tr>\n",
       "    <tr>\n",
       "      <th>[[(Six, Properly), (Own_X_Sheep, Three)]]</th>\n",
       "      <td>1.000000</td>\n",
       "      <td>0.313492</td>\n",
       "      <td>0.2</td>\n",
       "    </tr>\n",
       "    <tr>\n",
       "      <th>[[(Six, Properly), (Own_X_Sheep, Two), (Favorite, Marmite)], [(Own_X_Sheep, Three)], [(Own_X_Sheep, Many), (Favorite, Marmalade)], [(Funny_Accent, No), (Fish_and_Chips, Normal)]]</th>\n",
       "      <td>0.812500</td>\n",
       "      <td>0.838710</td>\n",
       "      <td>0.1</td>\n",
       "    </tr>\n",
       "    <tr>\n",
       "      <th>[[(Six, Properly), (Own_X_Sheep, Two), (Favorite, Marmite)], [(Own_X_Sheep, Three)]]</th>\n",
       "      <td>0.823529</td>\n",
       "      <td>0.518519</td>\n",
       "      <td>0.1</td>\n",
       "    </tr>\n",
       "    <tr>\n",
       "      <th>[[(Six, Properly), (Own_X_Sheep, Two), (Favorite, Marmite)], [(Six, Properly), (Can_Fly, Briefly)], [(Own_X_Sheep, Three)], [(Favorite, Marmalade)]]</th>\n",
       "      <td>0.833333</td>\n",
       "      <td>0.769231</td>\n",
       "      <td>0.1</td>\n",
       "    </tr>\n",
       "    <tr>\n",
       "      <th>[[(Waltzing, No), (Six, Properly), (Funny_Accent, No)], [(Six, Properly), (Own_X_Sheep, Two), (Favorite, Marmite)], [(Own_X_Sheep, Three)], [(Favorite, Marmalade)]]</th>\n",
       "      <td>0.760000</td>\n",
       "      <td>0.655172</td>\n",
       "      <td>0.1</td>\n",
       "    </tr>\n",
       "  </tbody>\n",
       "</table>\n",
       "</div>"
      ],
      "text/plain": [
       "                                                    Precision    Recall  \\\n",
       "Ruleset                                                                   \n",
       "[[(Own_X_Sheep, Three)]]                             0.860133  0.369925   \n",
       "[[(Six, Properly), (Own_X_Sheep, Three)]]            1.000000  0.313492   \n",
       "[[(Six, Properly), (Own_X_Sheep, Two), (Favorit...   0.812500  0.838710   \n",
       "[[(Six, Properly), (Own_X_Sheep, Two), (Favorit...   0.823529  0.518519   \n",
       "[[(Six, Properly), (Own_X_Sheep, Two), (Favorit...   0.833333  0.769231   \n",
       "[[(Waltzing, No), (Six, Properly), (Funny_Accen...   0.760000  0.655172   \n",
       "\n",
       "                                                    Freq_Selected  \n",
       "Ruleset                                                            \n",
       "[[(Own_X_Sheep, Three)]]                                      0.4  \n",
       "[[(Six, Properly), (Own_X_Sheep, Three)]]                     0.2  \n",
       "[[(Six, Properly), (Own_X_Sheep, Two), (Favorit...            0.1  \n",
       "[[(Six, Properly), (Own_X_Sheep, Two), (Favorit...            0.1  \n",
       "[[(Six, Properly), (Own_X_Sheep, Two), (Favorit...            0.1  \n",
       "[[(Waltzing, No), (Six, Properly), (Funny_Accen...            0.1  "
      ]
     },
     "execution_count": 15,
     "metadata": {},
     "output_type": "execute_result"
    }
   ],
   "source": [
    "experiment_results"
   ]
  },
  {
   "cell_type": "code",
   "execution_count": null,
   "metadata": {},
   "outputs": [],
   "source": [
    "IREP.exp_performance(experiment_results)"
   ]
  },
  {
   "cell_type": "code",
   "execution_count": null,
   "metadata": {},
   "outputs": [],
   "source": [
    "IREP.ruleset_covers(irep_ruleset,test)"
   ]
  }
 ],
 "metadata": {
  "kernelspec": {
   "display_name": "Python 3",
   "language": "python",
   "name": "python3"
  },
  "language_info": {
   "codemirror_mode": {
    "name": "ipython",
    "version": 3
   },
   "file_extension": ".py",
   "mimetype": "text/x-python",
   "name": "python",
   "nbconvert_exporter": "python",
   "pygments_lexer": "ipython3",
   "version": "3.6.6"
  }
 },
 "nbformat": 4,
 "nbformat_minor": 2
}
