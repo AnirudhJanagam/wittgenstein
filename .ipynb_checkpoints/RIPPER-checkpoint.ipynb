{
 "cells": [
  {
   "cell_type": "code",
   "execution_count": 1,
   "metadata": {},
   "outputs": [],
   "source": [
    "import pandas as pd\n",
    "from base import Timer"
   ]
  },
  {
   "cell_type": "code",
   "execution_count": 2,
   "metadata": {},
   "outputs": [],
   "source": [
    "from sklearn.model_selection import train_test_split\n",
    "from sklearn.preprocessing import OneHotEncoder, LabelEncoder\n",
    "from sklearn.metrics import precision_score, recall_score"
   ]
  },
  {
   "cell_type": "code",
   "execution_count": 3,
   "metadata": {},
   "outputs": [],
   "source": [
    "import ripper\n",
    "\n",
    "def make_ripper_dataset(dataset_filename, random_state=42):\n",
    "    # Load df\n",
    "    df = pd.read_csv(dataset_filename)\n",
    "    \n",
    "    # Split\n",
    "    train, test = train_test_split(df, test_size=.33, random_state=random_state)\n",
    "    \n",
    "    return train, test"
   ]
  },
  {
   "cell_type": "code",
   "execution_count": 4,
   "metadata": {},
   "outputs": [],
   "source": [
    "def make_ripper(train, class_feat, pos_class, k=1, random_state=42, verbosity=0):\n",
    "    # Train\n",
    "    irep_clf = ripper.RIPPER(class_feat=class_feat,pos_class=pos_class, k=k, verbosity=verbosity)\n",
    "    irep_clf.fit(train, n_discretize_bins=5, seed=random_state)\n",
    "    return irep_clf"
   ]
  },
  {
   "cell_type": "code",
   "execution_count": 5,
   "metadata": {},
   "outputs": [],
   "source": [
    "def score_ripper(ripper_clf, test, class_feat):\n",
    "    X_test = test.drop(class_feat,axis=1)\n",
    "    y_test = test[class_feat]\n",
    "\n",
    "    precision = ripper_clf.score(X_test, y_test, precision_score)\n",
    "    recall = ripper_clf.score(X_test, y_test, recall_score)\n",
    "    total_conds = ripper_clf.ruleset_.count_conds()\n",
    "    return precision, recall, total_conds"
   ]
  },
  {
   "cell_type": "code",
   "execution_count": 6,
   "metadata": {},
   "outputs": [],
   "source": [
    "datasets_path = '../datasets/'\n",
    "random_state = 0"
   ]
  },
  {
   "cell_type": "code",
   "execution_count": 29,
   "metadata": {},
   "outputs": [],
   "source": [
    "# Set up\n",
    "dataset = 'house-votes-84.csv'\n",
    "filename = datasets_path + dataset\n",
    "class_feat = 'Party'\n",
    "pos_class = 'democrat'\n",
    "n_classes = 2\n",
    "random_state=42\n",
    "k=5"
   ]
  },
  {
   "cell_type": "code",
   "execution_count": 8,
   "metadata": {},
   "outputs": [],
   "source": [
    "# Set up\n",
    "dataset = 'breast-cancer.csv'\n",
    "filename = datasets_path + dataset\n",
    "class_feat = 'Recurrence'\n",
    "pos_class = 'recurrence-events'\n",
    "n_classes = 2\n",
    "random_state=30"
   ]
  },
  {
   "cell_type": "code",
   "execution_count": 9,
   "metadata": {},
   "outputs": [],
   "source": [
    "# Set up\n",
    "dataset = 'adult.csv'\n",
    "filename = datasets_path + dataset\n",
    "class_feat = 'income'\n",
    "pos_class = '>50K'\n",
    "n_classes = 2\n",
    "random_state = 0\n",
    "k=2"
   ]
  },
  {
   "cell_type": "code",
   "execution_count": 10,
   "metadata": {},
   "outputs": [],
   "source": [
    "train, test = make_ripper_dataset(filename, random_state=random_state)"
   ]
  },
  {
   "cell_type": "code",
   "execution_count": 11,
   "metadata": {},
   "outputs": [
    {
     "data": {
      "text/plain": [
       "(0.6842696629213483, 0.4659525631216526, 61)"
      ]
     },
     "execution_count": 11,
     "metadata": {},
     "output_type": "execute_result"
    }
   ],
   "source": [
    "import pickle\n",
    "import base\n",
    "ripper_clf = pickle.load(open('ripper_clf.pkl','rb'))\n",
    "test_binned = base.bin_transform(test, ripper_clf.bin_transformer_)\n",
    "score_ripper(ripper_clf, test_binned, class_feat)"
   ]
  },
  {
   "cell_type": "code",
   "execution_count": 12,
   "metadata": {},
   "outputs": [
    {
     "data": {
      "text/plain": [
       "0.2432533035548111"
      ]
     },
     "execution_count": 12,
     "metadata": {},
     "output_type": "execute_result"
    }
   ],
   "source": [
    "pos_test,neg_test=base.pos_neg_split(test_binned, class_feat, pos_class)\n",
    "len(pos_test)/len(test_binned)"
   ]
  },
  {
   "cell_type": "code",
   "execution_count": 24,
   "metadata": {},
   "outputs": [],
   "source": [
    "from sklearn.tree import DecisionTreeClassifier\n",
    "\n",
    "def make_tree_dataset(dataset_filename, class_feat, pos_class, n_classes, bin_transformer, random_state=42):\n",
    "    \n",
    "    # Load df\n",
    "    df = pd.read_csv(dataset_filename)\n",
    "    if bin_transformer is not None:\n",
    "        df = base.bin_transform(df, bin_transformer)\n",
    "    \n",
    "    # DecisionTreeClassifier (of all things!) doesn't directly take categorical features.\n",
    "    # We need to one-hot preprocess the data to make it work.\n",
    "    le = LabelEncoder()\n",
    "    df_le=df.apply(le.fit_transform)\n",
    "    enc = OneHotEncoder(sparse=False)\n",
    "    enc.fit(df_le)\n",
    "    df_hot=enc.transform(df_le)\n",
    "    \n",
    "    # Split\n",
    "    train, test = train_test_split(df_hot, test_size=.33, random_state=random_state)\n",
    "    train_X = train[:,n_classes:]\n",
    "    train_y = train[:,0]\n",
    "    test_X = test[:,n_classes:]\n",
    "    test_y = test[:,0]\n",
    "    \n",
    "    return train_X, train_y, test_X, test_y"
   ]
  },
  {
   "cell_type": "code",
   "execution_count": 14,
   "metadata": {},
   "outputs": [],
   "source": [
    "def make_tree(train_X, train_y, max_depth=None, random_state=42):\n",
    "    tree = DecisionTreeClassifier(max_depth=max_depth, random_state=random_state)\n",
    "    tree.fit(train_X, train_y)\n",
    "    return tree"
   ]
  },
  {
   "cell_type": "code",
   "execution_count": 15,
   "metadata": {},
   "outputs": [],
   "source": [
    "def score_tree(tree_clf, test_X, test_y):\n",
    "    predictions = tree_clf.predict(test_X)\n",
    "    precision = precision_score(test_y, predictions)\n",
    "    recall = recall_score(test_y, predictions)\n",
    "    return precision, recall, tree_clf.tree_.node_count"
   ]
  },
  {
   "cell_type": "code",
   "execution_count": 16,
   "metadata": {},
   "outputs": [
    {
     "data": {
      "text/plain": [
       "(0.7253886010362695, 0.6867924528301886, 5835)"
      ]
     },
     "execution_count": 16,
     "metadata": {},
     "output_type": "execute_result"
    }
   ],
   "source": [
    "# Run tree\n",
    "tree_train_X, tree_train_y, tree_test_X, tree_test_y = make_tree_dataset(filename, class_feat, pos_class, n_classes, bin_transformer=ripper_clf.bin_transformer_, random_state=random_state)\n",
    "tree_clf = make_tree(tree_train_X, tree_train_y, random_state=random_state)\n",
    "tree_precision, tree_recall, tree_nodes = score_tree(tree_clf, tree_test_X, tree_test_y)\n",
    "tree_precision, tree_recall, tree_nodes"
   ]
  },
  {
   "cell_type": "code",
   "execution_count": 17,
   "metadata": {},
   "outputs": [
    {
     "data": {
      "text/plain": [
       "61"
      ]
     },
     "execution_count": 17,
     "metadata": {},
     "output_type": "execute_result"
    }
   ],
   "source": [
    "ripper_clf.ruleset_.count_conds()"
   ]
  },
  {
   "cell_type": "code",
   "execution_count": 18,
   "metadata": {},
   "outputs": [
    {
     "data": {
      "text/plain": [
       "(0.7536489854040583, 0.7988679245283019, 19)"
      ]
     },
     "execution_count": 18,
     "metadata": {},
     "output_type": "execute_result"
    }
   ],
   "source": [
    "# Run tree\n",
    "import math\n",
    "tree_train_X, tree_train_y, tree_test_X, tree_test_y = make_tree_dataset(filename, class_feat, pos_class, n_classes, bin_transformer=ripper_clf.bin_transformer_, random_state=random_state)\n",
    "tree_clf = make_tree(tree_train_X, tree_train_y, max_depth=math.log2(ripper_clf.ruleset_.count_conds()), random_state=random_state)\n",
    "tree_precision, tree_recall, tree_nodes = score_tree(tree_clf, tree_test_X, tree_test_y)\n",
    "tree_precision, tree_recall, tree_nodes"
   ]
  },
  {
   "cell_type": "code",
   "execution_count": 19,
   "metadata": {},
   "outputs": [
    {
     "ename": "NameError",
     "evalue": "name 'end' is not defined",
     "output_type": "error",
     "traceback": [
      "\u001b[0;31m---------------------------------------------------------------------------\u001b[0m",
      "\u001b[0;31mNameError\u001b[0m                                 Traceback (most recent call last)",
      "\u001b[0;32m<ipython-input-19-2ff02905e7b7>\u001b[0m in \u001b[0;36m<module>\u001b[0;34m()\u001b[0m\n\u001b[0;32m----> 1\u001b[0;31m \u001b[0mend\u001b[0m\u001b[0;34m\u001b[0m\u001b[0m\n\u001b[0m",
      "\u001b[0;31mNameError\u001b[0m: name 'end' is not defined"
     ]
    }
   ],
   "source": [
    "end"
   ]
  },
  {
   "cell_type": "code",
   "execution_count": null,
   "metadata": {},
   "outputs": [],
   "source": []
  },
  {
   "cell_type": "code",
   "execution_count": null,
   "metadata": {},
   "outputs": [],
   "source": [
    "# Run ripper\n",
    "random_state=2\n",
    "verbosity=5\n",
    "train, test = make_ripper_dataset(filename, random_state=random_state)\n",
    "timer = Timer()\n",
    "ripper_clf = make_ripper(train, class_feat, pos_class, k=k, random_state=random_state, verbosity=verbosity)\n",
    "timer.buzz()\n",
    "#ripper_precision, ripper_recall, ripper_conds = score_ripper(ripper_clf, test, class_feat)\n",
    "#ripper_precision, ripper_recall, ripper_conds"
   ]
  },
  {
   "cell_type": "markdown",
   "metadata": {},
   "source": [
    "Should ruleset best dl be simply the best subset, rather than removing rules piecemeal?"
   ]
  },
  {
   "cell_type": "code",
   "execution_count": 20,
   "metadata": {},
   "outputs": [],
   "source": [
    "# Set up\n",
    "dataset = 'tic-tac-toe.csv'\n",
    "filename = datasets_path + dataset\n",
    "class_feat = 'Class'\n",
    "pos_class = 'positive'\n",
    "n_classes = 2\n",
    "random_state=30"
   ]
  },
  {
   "cell_type": "code",
   "execution_count": 21,
   "metadata": {},
   "outputs": [
    {
     "name": "stdout",
     "output_type": "stream",
     "text": [
      "growing ruleset...\n",
      "\n",
      "pos_growset 286 pos_pruneset 141\n",
      "neg_growset 143 neg_pruneset 71\n",
      "pruned rule unchanged\n",
      "updated ruleset: [Middle-middle=x^Bottom-right=b^Bottom-middle=o]\n",
      "\n",
      "pos_growset 268 pos_pruneset 133\n",
      "neg_growset 143 neg_pruneset 71\n",
      "pruned rule unchanged\n",
      "updated ruleset: ...le=x^Bottom-right=b^Bottom-middle=o] V [Middle-middle=x^Middle-left=b^Middle-right=o^Bottom-right=x]\n",
      "\n",
      "pos_growset 254 pos_pruneset 126\n",
      "neg_growset 143 neg_pruneset 71\n",
      "pruned rule: [Middle-middle=x^Top-left=b^Middle-left=o]\n",
      "updated ruleset: ...e-middle=x^Middle-left=b^Middle-right=o^Bottom-right=x] V [Middle-middle=x^Top-left=b^Middle-left=o]\n",
      "\n",
      "pos_growset 236 pos_pruneset 117\n",
      "neg_growset 142 neg_pruneset 71\n",
      "pruned rule: [Middle-middle=x]\n",
      "updated ruleset: ...ft=b^Middle-right=o^Bottom-right=x] V [Middle-middle=x^Top-left=b^Middle-left=o] V [Middle-middle=x]\n",
      "\n",
      "pos_growset 118 pos_pruneset 59\n",
      "neg_growset 105 neg_pruneset 53\n",
      "pruned rule unchanged\n",
      "updated ruleset: ...-middle=x^Top-left=b^Middle-left=o] V [Middle-middle=x] V [Middle-middle=b^Bottom-left=x^Top-left=x]\n",
      "\n",
      "pos_growset 104 pos_pruneset 52\n",
      "neg_growset 104 neg_pruneset 52\n",
      "pruned rule unchanged\n",
      "updated ruleset: ...-middle=x] V [Middle-middle=b^Bottom-left=x^Top-left=x] V [Top-right=x^Middle-middle=b^Top-middle=o]\n",
      "\n",
      "pos_growset 94 pos_pruneset 47\n",
      "neg_growset 103 neg_pruneset 52\n",
      "pruned rule unchanged\n",
      "updated ruleset: ...eft=x] V [Top-right=x^Middle-middle=b^Top-middle=o] V [Bottom-right=x^Bottom-left=x^Bottom-middle=x]\n",
      "\n",
      "pos_growset 67 pos_pruneset 33\n",
      "neg_growset 103 neg_pruneset 52\n",
      "pruned rule unchanged\n",
      "updated ruleset: ...p-middle=o] V [Bottom-right=x^Bottom-left=x^Bottom-middle=x] V [Top-right=x^Top-left=x^Top-middle=x]\n",
      "\n",
      "pos_growset 36 pos_pruneset 19\n",
      "neg_growset 103 neg_pruneset 52\n",
      "pruned rule unchanged\n",
      "updated ruleset: ...] V [Top-right=x^Top-left=x^Top-middle=x] V [Top-middle=b^Bottom-right=x^Top-right=x^Middle-right=x]\n",
      "\n",
      "pos_growset 24 pos_pruneset 13\n",
      "neg_growset 103 neg_pruneset 52\n",
      "pruned rule unchanged\n",
      "updated ruleset: ... [Top-middle=b^Bottom-right=x^Top-right=x^Middle-right=x] V [Top-left=x^Bottom-left=x^Middle-left=x]\n",
      "\n",
      "pos_growset 9 pos_pruneset 5\n",
      "neg_growset 103 neg_pruneset 52\n",
      "pruned rule unchanged\n",
      "updated ruleset: ...le-right=x] V [Top-left=x^Bottom-left=x^Middle-left=x] V [Bottom-right=x^Top-right=x^Middle-right=x]\n",
      "\n",
      "\n",
      "GREW INITIAL RULESET:\n",
      "[[Middle-middle=x^Bottom-right=b^Bottom-middle=o]v\n",
      "[Middle-middle=x^Middle-left=b^Middle-right=o^Bottom-right=x]v\n",
      "[Middle-middle=x^Top-left=b^Middle-left=o]v\n",
      "[Middle-middle=x]v\n",
      "[Middle-middle=b^Bottom-left=x^Top-left=x]v\n",
      "[Top-right=x^Middle-middle=b^Top-middle=o]v\n",
      "[Bottom-right=x^Bottom-left=x^Bottom-middle=x]v\n",
      "[Top-right=x^Top-left=x^Top-middle=x]v\n",
      "[Top-middle=b^Bottom-right=x^Top-right=x^Middle-right=x]v\n",
      "[Top-left=x^Bottom-left=x^Middle-left=x]v\n",
      "[Bottom-right=x^Top-right=x^Middle-right=x]]\n",
      "\n",
      "optimization run 1 of 2\n",
      "optimizing ruleset...\n",
      "\n",
      "replacement: [Middle-middle=x]\n",
      "revision: [Middle-middle=x]\n",
      "original: [Middle-middle=x^Bottom-right=b^Bottom-middle=o]\n",
      "*best: [Middle-middle=x]\n",
      "\n",
      "replacement: [Middle-middle=x]\n",
      "revision: [Middle-middle=x]\n",
      "original: [Middle-middle=x^Middle-left=b^Middle-right=o^Bottom-right=x]\n",
      "*best: [Middle-middle=x]\n",
      "\n",
      "replacement: [Middle-middle=x]\n",
      "revision: [Middle-middle=x]\n",
      "original: [Middle-middle=x^Top-left=b^Middle-left=o]\n",
      "*best: [Middle-middle=x]\n",
      "\n",
      "replacement: unchanged\n",
      "revision: unchanged\n",
      "original: [Middle-middle=x]\n",
      "*best: [Middle-middle=x]\n",
      "\n",
      "replacement: [Bottom-left=x^Bottom-right=x^Bottom-middle=x]\n",
      "revision: [Middle-middle=b^Bottom-left=x^Top-left=x^Middle-left=x]\n",
      "original: [Middle-middle=b^Bottom-left=x^Top-left=x]\n",
      "*best: [Bottom-left=x^Bottom-right=x^Bottom-middle=x]\n",
      "\n",
      "replacement: [Top-right=x^Middle-middle=b^Bottom-right=x^Middle-right=x]\n",
      "revision: unchanged\n",
      "original: [Top-right=x^Middle-middle=b^Top-middle=o]\n",
      "*best: [Top-right=x^Middle-middle=b^Bottom-right=x^Middle-right=x]\n",
      "\n",
      "replacement: [Top-left=x^Top-right=x^Top-middle=x]\n",
      "revision: unchanged\n",
      "original: [Bottom-right=x^Bottom-left=x^Bottom-middle=x]\n",
      "*best: [Bottom-right=x^Bottom-left=x^Bottom-middle=x]\n",
      "\n",
      "replacement: unchanged\n",
      "revision: unchanged\n",
      "original: [Top-right=x^Top-left=x^Top-middle=x]\n",
      "*best: [Top-right=x^Top-left=x^Top-middle=x]\n",
      "\n",
      "replacement: [Top-middle=b^Bottom-middle=o^Middle-middle=o]\n",
      "revision: [Top-middle=b^Bottom-right=x^Top-right=x]\n",
      "original: [Top-middle=b^Bottom-right=x^Top-right=x^Middle-right=x]\n",
      "*best: [Top-middle=b^Bottom-right=x^Top-right=x^Middle-right=x]\n",
      "\n",
      "replacement: unchanged\n",
      "revision: unchanged\n",
      "original: [Top-left=x^Bottom-left=x^Middle-left=x]\n",
      "*best: [Bottom-left=x^Top-left=x^Middle-left=x]\n",
      "\n",
      "replacement: unchanged\n",
      "revision: unchanged\n",
      "original: [Bottom-right=x^Top-right=x^Middle-right=x]\n",
      "*best: [Bottom-right=x^Top-right=x^Middle-right=x]\n",
      "\n",
      "\n",
      "OPTIMIZED RULESET:\n",
      "iteration 1 of 2 modified rules [0, 1, 2, 4, 5]\n",
      "[[Middle-middle=x]v\n",
      "[Middle-middle=x]v\n",
      "[Middle-middle=x]v\n",
      "[Middle-middle=x]v\n",
      "[Bottom-left=x^Bottom-right=x^Bottom-middle=x]v\n",
      "[Top-right=x^Middle-middle=b^Bottom-right=x^Middle-right=x]v\n",
      "[Bottom-right=x^Bottom-left=x^Bottom-middle=x]v\n",
      "[Top-right=x^Top-left=x^Top-middle=x]v\n",
      "[Top-middle=b^Bottom-right=x^Top-right=x^Middle-right=x]v\n",
      "[Bottom-left=x^Top-left=x^Middle-left=x]v\n",
      "[Bottom-right=x^Top-right=x^Middle-right=x]]\n",
      "\n",
      "optimization run 2 of 2\n",
      "optimizing ruleset...\n",
      "\n",
      "replacement: unchanged\n",
      "revision: unchanged\n",
      "original: [Middle-middle=x]\n",
      "*best: [Middle-middle=x]\n",
      "\n",
      "replacement: [Bottom-left=x^Bottom-right=x^Bottom-middle=x]\n",
      "revision: unchanged\n",
      "original: [Middle-middle=x]\n",
      "*best: [Bottom-left=x^Bottom-right=x^Bottom-middle=x]\n",
      "\n",
      "replacement: [Bottom-left=x^Bottom-right=x^Bottom-middle=x]\n",
      "revision: unchanged\n",
      "original: [Middle-middle=x]\n",
      "*best: [Bottom-left=x^Bottom-right=x^Bottom-middle=x]\n",
      "\n",
      "replacement: [Bottom-left=x^Bottom-right=x^Bottom-middle=x]\n",
      "revision: unchanged\n",
      "original: [Middle-middle=x]\n",
      "*best: [Bottom-left=x^Bottom-right=x^Bottom-middle=x]\n",
      "\n",
      "replacement: unchanged\n",
      "revision: unchanged\n",
      "original: [Bottom-left=x^Bottom-right=x^Bottom-middle=x]\n",
      "*best: [Bottom-left=x^Bottom-right=x^Bottom-middle=x]\n",
      "\n",
      "replacement: [Top-left=x^Top-right=x^Top-middle=x]\n",
      "revision: [Top-right=x^Middle-middle=b^Bottom-right=x]\n",
      "original: [Top-right=x^Middle-middle=b^Bottom-right=x^Middle-right=x]\n",
      "*best: [Top-left=x^Top-right=x^Top-middle=x]\n",
      "\n",
      "replacement: [Top-left=x^Top-right=x^Top-middle=x]\n",
      "revision: unchanged\n",
      "original: [Bottom-right=x^Bottom-left=x^Bottom-middle=x]\n",
      "*best: [Top-left=x^Top-right=x^Top-middle=x]\n",
      "\n",
      "replacement: unchanged\n",
      "revision: unchanged\n",
      "original: [Top-right=x^Top-left=x^Top-middle=x]\n",
      "*best: [Top-left=x^Top-right=x^Top-middle=x]\n",
      "\n",
      "replacement: [Bottom-left=x^Top-left=x^Middle-left=x]\n",
      "revision: [Top-middle=b^Bottom-right=x^Top-right=x]\n",
      "original: [Top-middle=b^Bottom-right=x^Top-right=x^Middle-right=x]\n",
      "*best: [Bottom-left=x^Top-left=x^Middle-left=x]\n",
      "\n",
      "replacement: unchanged\n",
      "revision: unchanged\n",
      "original: [Bottom-left=x^Top-left=x^Middle-left=x]\n",
      "*best: [Bottom-left=x^Top-left=x^Middle-left=x]\n",
      "\n",
      "replacement: unchanged\n",
      "revision: unchanged\n",
      "original: [Bottom-right=x^Top-right=x^Middle-right=x]\n",
      "*best: [Bottom-right=x^Top-right=x^Middle-right=x]\n",
      "\n",
      "\n",
      "OPTIMIZED RULESET:\n",
      "iteration 2 of 2 modified rules [1, 2, 3, 5, 6, 8]\n",
      "[[Middle-middle=x]v\n",
      "[Bottom-left=x^Bottom-right=x^Bottom-middle=x]v\n",
      "[Bottom-left=x^Bottom-right=x^Bottom-middle=x]v\n",
      "[Bottom-left=x^Bottom-right=x^Bottom-middle=x]v\n",
      "[Bottom-left=x^Bottom-right=x^Bottom-middle=x]v\n",
      "[Top-left=x^Top-right=x^Top-middle=x]v\n",
      "[Top-left=x^Top-right=x^Top-middle=x]v\n",
      "[Top-left=x^Top-right=x^Top-middle=x]v\n",
      "[Bottom-left=x^Top-left=x^Middle-left=x]v\n",
      "[Bottom-left=x^Top-left=x^Middle-left=x]v\n",
      "[Bottom-right=x^Top-right=x^Middle-right=x]]\n",
      "\n",
      "All pos covered\n",
      "\n",
      "Optimizing dl...\n",
      "FINAL RULESET:\n",
      "[[Middle-middle=x]v\n",
      "[Bottom-left=x^Bottom-right=x^Bottom-middle=x]v\n",
      "[Top-left=x^Top-right=x^Top-middle=x]v\n",
      "[Bottom-left=x^Top-left=x^Middle-left=x]v\n",
      "[Bottom-right=x^Top-right=x^Middle-right=x]]\n",
      "\n"
     ]
    },
    {
     "data": {
      "text/plain": [
       "'45'"
      ]
     },
     "execution_count": 21,
     "metadata": {},
     "output_type": "execute_result"
    }
   ],
   "source": [
    "# Run ripper\n",
    "random_state=2\n",
    "verbosity=2\n",
    "train, test = make_ripper_dataset(filename, random_state=random_state)\n",
    "timer = Timer()\n",
    "ripper_clf = make_ripper(train, class_feat, pos_class, k=k, random_state=random_state, verbosity=verbosity)\n",
    "timer.buzz()\n",
    "#ripper_precision, ripper_recall, ripper_conds = score_ripper(ripper_clf, test, class_feat)\n",
    "#ripper_precision, ripper_recall, ripper_conds"
   ]
  },
  {
   "cell_type": "code",
   "execution_count": 22,
   "metadata": {},
   "outputs": [
    {
     "data": {
      "text/plain": [
       "(0.8468085106382979, 1.0, 13)"
      ]
     },
     "execution_count": 22,
     "metadata": {},
     "output_type": "execute_result"
    }
   ],
   "source": [
    "score_ripper(ripper_clf, test, class_feat)"
   ]
  },
  {
   "cell_type": "code",
   "execution_count": 27,
   "metadata": {},
   "outputs": [
    {
     "data": {
      "text/plain": [
       "(0.32653061224489793, 0.27586206896551724, 9)"
      ]
     },
     "execution_count": 27,
     "metadata": {},
     "output_type": "execute_result"
    }
   ],
   "source": [
    "# Run tree\n",
    "import math\n",
    "tree_train_X, tree_train_y, tree_test_X, tree_test_y = make_tree_dataset(filename, class_feat, pos_class, n_classes, bin_transformer=None, random_state=random_state)\n",
    "tree_clf = make_tree(tree_train_X, tree_train_y, max_depth=math.log2(ripper_clf.ruleset_.count_conds()), random_state=random_state)\n",
    "tree_precision, tree_recall, tree_nodes = score_tree(tree_clf, tree_test_X, tree_test_y)\n",
    "tree_precision, tree_recall, tree_nodes"
   ]
  },
  {
   "cell_type": "code",
   "execution_count": 28,
   "metadata": {},
   "outputs": [
    {
     "data": {
      "image/png": "[encoded data removed]",
      "text/plain": [
       "<IPython.core.display.Image object>"
      ]
     },
     "execution_count": 28,
     "metadata": {},
     "output_type": "execute_result"
    }
   ],
   "source": [
    "from sklearn.externals.six import StringIO  \n",
    "from IPython.display import Image  \n",
    "from sklearn.tree import export_graphviz\n",
    "import pydotplus\n",
    "dot_data = StringIO()\n",
    "export_graphviz(tree_clf, out_file=dot_data,  \n",
    "                filled=True, rounded=True,\n",
    "                special_characters=True)\n",
    "graph = pydotplus.graph_from_dot_data(dot_data.getvalue())  \n",
    "Image(graph.create_png())"
   ]
  },
  {
   "cell_type": "code",
   "execution_count": 26,
   "metadata": {},
   "outputs": [
    {
     "data": {
      "text/plain": [
       "(0.2289156626506024, 0.3275862068965517, 329)"
      ]
     },
     "execution_count": 26,
     "metadata": {},
     "output_type": "execute_result"
    }
   ],
   "source": [
    "# Run tree\n",
    "import math\n",
    "tree_train_X, tree_train_y, tree_test_X, tree_test_y = make_tree_dataset(filename, class_feat, pos_class, n_classes, bin_transformer=None, random_state=random_state)\n",
    "tree_clf = make_tree(tree_train_X, tree_train_y, random_state=random_state)\n",
    "tree_precision, tree_recall, tree_nodes = score_tree(tree_clf, tree_test_X, tree_test_y)\n",
    "tree_precision, tree_recall, tree_nodes"
   ]
  },
  {
   "cell_type": "code",
   "execution_count": 31,
   "metadata": {},
   "outputs": [
    {
     "name": "stdout",
     "output_type": "stream",
     "text": [
      "growing ruleset...\n",
      "\n",
      "pos_growset 121 pos_pruneset 60\n",
      "neg_growset 73 neg_pruneset 37\n",
      "pruned rule unchanged\n",
      "updated ruleset: [physician-fee-freeze=n^adoption-of-the-budget-resolution=y]\n",
      "\n",
      "pos_growset 20 pos_pruneset 10\n",
      "neg_growset 73 neg_pruneset 37\n",
      "pruned rule unchanged\n",
      "updated ruleset: ...eze=n^adoption-of-the-budget-resolution=y] V [physician-fee-freeze=n^synfuels-corporation-cutback=y]\n",
      "\n",
      "pos_growset 12 pos_pruneset 7\n",
      "neg_growset 73 neg_pruneset 37\n",
      "pruned rule unchanged\n",
      "updated ruleset: ...corporation-cutback=y] V [education-spending=n^religious-groups-in-schools=y^physician-fee-freeze=?]\n",
      "\n",
      "pos_growset 10 pos_pruneset 5\n",
      "neg_growset 73 neg_pruneset 37\n",
      "pruned rule: [physician-fee-freeze=n]\n",
      "updated ruleset: ...ducation-spending=n^religious-groups-in-schools=y^physician-fee-freeze=?] V [physician-fee-freeze=n]\n",
      "\n",
      "pos_growset 6 pos_pruneset 3\n",
      "neg_growset 72 neg_pruneset 36\n",
      "pruned rule unchanged\n",
      "updated ruleset: ...an-fee-freeze=n] V [synfuels-corporation-cutback=y^immigration=n^Handicapped-infants=y^mx-missile=y]\n",
      "\n",
      "pos_growset 4 pos_pruneset 3\n",
      "neg_growset 72 neg_pruneset 36\n",
      "pruned rule unchanged\n",
      "updated ruleset: ...igration=n^Handicapped-infants=y^mx-missile=y] V [adoption-of-the-budget-resolution=y^immigration=n]\n",
      "\n",
      "pos_growset 2 pos_pruneset 1\n",
      "neg_growset 71 neg_pruneset 36\n",
      "pruned rule unchanged\n",
      "updated ruleset: ...olution=y^immigration=n] V [education-spending=n^Handicapped-infants=n^Water-project-cost-sharing=y]\n",
      "\n",
      "pos_growset 0 pos_pruneset 1\n",
      "neg_growset 71 neg_pruneset 35\n",
      "pruned rule unchanged\n",
      "updated ruleset: ... [education-spending=n^Handicapped-infants=n^Water-project-cost-sharing=y] V [Handicapped-infants=?]\n",
      "\n",
      "pos_growset 0 pos_pruneset 1\n",
      "neg_growset 70 neg_pruneset 35\n",
      "pruned rule unchanged\n",
      "updated ruleset: ...dicapped-infants=n^Water-project-cost-sharing=y] V [Handicapped-infants=?] V [Handicapped-infants=?]\n",
      "\n",
      "pos_growset 0 pos_pruneset 1\n",
      "neg_growset 70 neg_pruneset 35\n",
      "pruned rule unchanged\n",
      "updated ruleset: ...roject-cost-sharing=y] V [Handicapped-infants=?] V [Handicapped-infants=?] V [Handicapped-infants=?]\n",
      "\n",
      "pos_growset 0 pos_pruneset 1\n",
      "neg_growset 70 neg_pruneset 35\n",
      "pruned rule unchanged\n",
      "updated ruleset: ...Handicapped-infants=?] V [Handicapped-infants=?] V [Handicapped-infants=?] V [Handicapped-infants=?]\n",
      "\n",
      "pos_growset 0 pos_pruneset 1\n",
      "neg_growset 70 neg_pruneset 35\n",
      "pruned rule unchanged\n",
      "updated ruleset: ...Handicapped-infants=?] V [Handicapped-infants=?] V [Handicapped-infants=?] V [Handicapped-infants=?]\n",
      "\n",
      "pos_growset 0 pos_pruneset 1\n",
      "neg_growset 70 neg_pruneset 35\n",
      "pruned rule unchanged\n",
      "updated ruleset: ...Handicapped-infants=?] V [Handicapped-infants=?] V [Handicapped-infants=?] V [Handicapped-infants=?]\n",
      "\n",
      "pos_growset 0 pos_pruneset 1\n",
      "neg_growset 70 neg_pruneset 35\n",
      "pruned rule unchanged\n",
      "updated ruleset: ...Handicapped-infants=?] V [Handicapped-infants=?] V [Handicapped-infants=?] V [Handicapped-infants=?]\n",
      "\n",
      "pos_growset 0 pos_pruneset 1\n",
      "neg_growset 70 neg_pruneset 35\n",
      "pruned rule unchanged\n",
      "updated ruleset: ...Handicapped-infants=?] V [Handicapped-infants=?] V [Handicapped-infants=?] V [Handicapped-infants=?]\n",
      "\n",
      "pos_growset 0 pos_pruneset 1\n",
      "neg_growset 70 neg_pruneset 35\n",
      "pruned rule unchanged\n",
      "updated ruleset: ...Handicapped-infants=?] V [Handicapped-infants=?] V [Handicapped-infants=?] V [Handicapped-infants=?]\n",
      "\n",
      "pos_growset 0 pos_pruneset 1\n",
      "neg_growset 70 neg_pruneset 35\n",
      "pruned rule unchanged\n",
      "updated ruleset: ...Handicapped-infants=?] V [Handicapped-infants=?] V [Handicapped-infants=?] V [Handicapped-infants=?]\n",
      "\n",
      "pos_growset 0 pos_pruneset 1\n",
      "neg_growset 70 neg_pruneset 35\n",
      "pruned rule unchanged\n",
      "updated ruleset: ...Handicapped-infants=?] V [Handicapped-infants=?] V [Handicapped-infants=?] V [Handicapped-infants=?]\n",
      "\n",
      "\n",
      "GREW INITIAL RULESET:\n",
      "[[physician-fee-freeze=n^adoption-of-the-budget-resolution=y]v\n",
      "[physician-fee-freeze=n^synfuels-corporation-cutback=y]v\n",
      "[education-spending=n^religious-groups-in-schools=y^physician-fee-freeze=?]v\n",
      "[physician-fee-freeze=n]v\n",
      "[synfuels-corporation-cutback=y^immigration=n^Handicapped-infants=y^mx-missile=y]v\n",
      "[adoption-of-the-budget-resolution=y^immigration=n]v\n",
      "[education-spending=n^Handicapped-infants=n^Water-project-cost-sharing=y]v\n",
      "[Handicapped-infants=?]v\n",
      "[Handicapped-infants=?]v\n",
      "[Handicapped-infants=?]v\n",
      "[Handicapped-infants=?]v\n",
      "[Handicapped-infants=?]v\n",
      "[Handicapped-infants=?]v\n",
      "[Handicapped-infants=?]v\n",
      "[Handicapped-infants=?]v\n",
      "[Handicapped-infants=?]v\n",
      "[Handicapped-infants=?]v\n",
      "[Handicapped-infants=?]]\n",
      "\n",
      "optimization run 1 of 2\n",
      "optimizing ruleset...\n",
      "\n",
      "replacement: [physician-fee-freeze=n]\n",
      "revision: [physician-fee-freeze=n]\n",
      "original: [physician-fee-freeze=n^adoption-of-the-budget-resolution=y]\n",
      "*best: [physician-fee-freeze=n]\n",
      "\n",
      "replacement: [education-spending=n^religious-groups-in-schools=y^physician-fee-freeze=?]\n",
      "revision: [physician-fee-freeze=n]\n",
      "original: [physician-fee-freeze=n^synfuels-corporation-cutback=y]\n",
      "*best: [education-spending=n^religious-groups-in-schools=y^physician-fee-freeze=?]\n",
      "\n",
      "replacement: [education-spending=n^religious-groups-in-schools=y^mx-missile=y]\n",
      "revision: unchanged\n",
      "original: [education-spending=n^religious-groups-in-schools=y^physician-fee-freeze=?]\n",
      "*best: [education-spending=n^religious-groups-in-schools=y^mx-missile=y]\n",
      "\n",
      "replacement: unchanged\n",
      "revision: unchanged\n",
      "original: [physician-fee-freeze=n]\n",
      "*best: [physician-fee-freeze=n]\n",
      "\n",
      "replacement: [adoption-of-the-budget-resolution=y^Water-project-cost-sharing=y]\n",
      "revision: [synfuels-corporation-cutback=y^immigration=n^Handicapped-infants=y]\n",
      "original: [synfuels-corporation-cutback=y^immigration=n^Handicapped-infants=y^mx-missile=y]\n",
      "*best: [adoption-of-the-budget-resolution=y^Water-project-cost-sharing=y]\n",
      "\n",
      "replacement: [adoption-of-the-budget-resolution=y^Water-project-cost-sharing=y]\n",
      "revision: unchanged\n",
      "original: [adoption-of-the-budget-resolution=y^immigration=n]\n",
      "*best: [adoption-of-the-budget-resolution=y^Water-project-cost-sharing=y]\n",
      "\n",
      "replacement: [education-spending=n^Water-project-cost-sharing=y]\n",
      "revision: unchanged\n",
      "original: [education-spending=n^Handicapped-infants=n^Water-project-cost-sharing=y]\n",
      "*best: [education-spending=n^Water-project-cost-sharing=y]\n",
      "\n",
      "replacement: unchanged\n",
      "revision: unchanged\n",
      "original: [Handicapped-infants=?]\n",
      "*best: [Handicapped-infants=?]\n",
      "\n",
      "replacement: unchanged\n",
      "revision: unchanged\n",
      "original: [Handicapped-infants=?]\n",
      "*best: [Handicapped-infants=?]\n",
      "\n",
      "replacement: unchanged\n",
      "revision: unchanged\n",
      "original: [Handicapped-infants=?]\n",
      "*best: [Handicapped-infants=?]\n",
      "\n",
      "replacement: unchanged\n",
      "revision: unchanged\n",
      "original: [Handicapped-infants=?]\n",
      "*best: [Handicapped-infants=?]\n",
      "\n",
      "replacement: unchanged\n",
      "revision: unchanged\n",
      "original: [Handicapped-infants=?]\n",
      "*best: [Handicapped-infants=?]\n",
      "\n",
      "replacement: unchanged\n",
      "revision: unchanged\n",
      "original: [Handicapped-infants=?]\n",
      "*best: [Handicapped-infants=?]\n",
      "\n",
      "replacement: unchanged\n",
      "revision: unchanged\n",
      "original: [Handicapped-infants=?]\n",
      "*best: [Handicapped-infants=?]\n",
      "\n",
      "replacement: unchanged\n",
      "revision: unchanged\n",
      "original: [Handicapped-infants=?]\n",
      "*best: [Handicapped-infants=?]\n",
      "\n",
      "replacement: unchanged\n",
      "revision: unchanged\n",
      "original: [Handicapped-infants=?]\n",
      "*best: [Handicapped-infants=?]\n",
      "\n",
      "replacement: unchanged\n",
      "revision: unchanged\n",
      "original: [Handicapped-infants=?]\n",
      "*best: [Handicapped-infants=?]\n",
      "\n",
      "replacement: unchanged\n",
      "revision: unchanged\n",
      "original: [Handicapped-infants=?]\n",
      "*best: [Handicapped-infants=?]\n",
      "\n",
      "\n",
      "OPTIMIZED RULESET:\n",
      "iteration 1 of 2 modified rules [0, 1, 2, 4, 5, 6]\n",
      "[[physician-fee-freeze=n]v\n",
      "[education-spending=n^religious-groups-in-schools=y^physician-fee-freeze=?]v\n",
      "[education-spending=n^religious-groups-in-schools=y^mx-missile=y]v\n",
      "[physician-fee-freeze=n]v\n",
      "[adoption-of-the-budget-resolution=y^Water-project-cost-sharing=y]v\n",
      "[adoption-of-the-budget-resolution=y^Water-project-cost-sharing=y]v\n",
      "[education-spending=n^Water-project-cost-sharing=y]v\n",
      "[Handicapped-infants=?]v\n",
      "[Handicapped-infants=?]v\n",
      "[Handicapped-infants=?]v\n",
      "[Handicapped-infants=?]v\n",
      "[Handicapped-infants=?]v\n",
      "[Handicapped-infants=?]v\n",
      "[Handicapped-infants=?]v\n",
      "[Handicapped-infants=?]v\n",
      "[Handicapped-infants=?]v\n",
      "[Handicapped-infants=?]v\n",
      "[Handicapped-infants=?]]\n",
      "\n",
      "optimization run 2 of 2\n",
      "optimizing ruleset...\n",
      "\n",
      "replacement: unchanged\n",
      "revision: unchanged\n",
      "original: [physician-fee-freeze=n]\n",
      "*best: [physician-fee-freeze=n]\n",
      "\n",
      "replacement: [adoption-of-the-budget-resolution=y^Water-project-cost-sharing=y]\n",
      "revision: unchanged\n",
      "original: [education-spending=n^religious-groups-in-schools=y^physician-fee-freeze=?]\n",
      "*best: [adoption-of-the-budget-resolution=y^Water-project-cost-sharing=y]\n",
      "\n"
     ]
    },
    {
     "name": "stdout",
     "output_type": "stream",
     "text": [
      "replacement: [adoption-of-the-budget-resolution=y^Water-project-cost-sharing=y]\n",
      "revision: unchanged\n",
      "original: [education-spending=n^religious-groups-in-schools=y^mx-missile=y]\n",
      "*best: [adoption-of-the-budget-resolution=y^Water-project-cost-sharing=y]\n",
      "\n",
      "replacement: [synfuels-corporation-cutback=y^education-spending=n]\n",
      "revision: unchanged\n",
      "original: [physician-fee-freeze=n]\n",
      "*best: [synfuels-corporation-cutback=y^education-spending=n]\n",
      "\n",
      "replacement: [synfuels-corporation-cutback=y^education-spending=n]\n",
      "revision: unchanged\n",
      "original: [adoption-of-the-budget-resolution=y^Water-project-cost-sharing=y]\n",
      "*best: [synfuels-corporation-cutback=y^education-spending=n]\n",
      "\n",
      "replacement: [education-spending=n^synfuels-corporation-cutback=y]\n",
      "revision: unchanged\n",
      "original: [adoption-of-the-budget-resolution=y^Water-project-cost-sharing=y]\n",
      "*best: [education-spending=n^synfuels-corporation-cutback=y]\n",
      "\n",
      "replacement: [education-spending=n^synfuels-corporation-cutback=y^el-salvador-aid=n]\n",
      "revision: unchanged\n",
      "original: [education-spending=n^Water-project-cost-sharing=y]\n",
      "*best: [education-spending=n^synfuels-corporation-cutback=y^el-salvador-aid=n]\n",
      "\n",
      "replacement: unchanged\n",
      "revision: unchanged\n",
      "original: [Handicapped-infants=?]\n",
      "*best: [Handicapped-infants=?]\n",
      "\n",
      "replacement: unchanged\n",
      "revision: unchanged\n",
      "original: [Handicapped-infants=?]\n",
      "*best: [Handicapped-infants=?]\n",
      "\n",
      "replacement: unchanged\n",
      "revision: unchanged\n",
      "original: [Handicapped-infants=?]\n",
      "*best: [Handicapped-infants=?]\n",
      "\n",
      "replacement: unchanged\n",
      "revision: unchanged\n",
      "original: [Handicapped-infants=?]\n",
      "*best: [Handicapped-infants=?]\n",
      "\n",
      "replacement: unchanged\n",
      "revision: unchanged\n",
      "original: [Handicapped-infants=?]\n",
      "*best: [Handicapped-infants=?]\n",
      "\n",
      "replacement: unchanged\n",
      "revision: unchanged\n",
      "original: [Handicapped-infants=?]\n",
      "*best: [Handicapped-infants=?]\n",
      "\n",
      "replacement: unchanged\n",
      "revision: unchanged\n",
      "original: [Handicapped-infants=?]\n",
      "*best: [Handicapped-infants=?]\n",
      "\n",
      "replacement: unchanged\n",
      "revision: unchanged\n",
      "original: [Handicapped-infants=?]\n",
      "*best: [Handicapped-infants=?]\n",
      "\n",
      "replacement: unchanged\n",
      "revision: unchanged\n",
      "original: [Handicapped-infants=?]\n",
      "*best: [Handicapped-infants=?]\n",
      "\n",
      "replacement: unchanged\n",
      "revision: unchanged\n",
      "original: [Handicapped-infants=?]\n",
      "*best: [Handicapped-infants=?]\n",
      "\n",
      "replacement: unchanged\n",
      "revision: unchanged\n",
      "original: [Handicapped-infants=?]\n",
      "*best: [Handicapped-infants=?]\n",
      "\n",
      "\n",
      "OPTIMIZED RULESET:\n",
      "iteration 2 of 2 modified rules [1, 2, 3, 4, 5, 6]\n",
      "[[physician-fee-freeze=n]v\n",
      "[adoption-of-the-budget-resolution=y^Water-project-cost-sharing=y]v\n",
      "[adoption-of-the-budget-resolution=y^Water-project-cost-sharing=y]v\n",
      "[synfuels-corporation-cutback=y^education-spending=n]v\n",
      "[synfuels-corporation-cutback=y^education-spending=n]v\n",
      "[education-spending=n^synfuels-corporation-cutback=y]v\n",
      "[education-spending=n^synfuels-corporation-cutback=y^el-salvador-aid=n]v\n",
      "[Handicapped-infants=?]v\n",
      "[Handicapped-infants=?]v\n",
      "[Handicapped-infants=?]v\n",
      "[Handicapped-infants=?]v\n",
      "[Handicapped-infants=?]v\n",
      "[Handicapped-infants=?]v\n",
      "[Handicapped-infants=?]v\n",
      "[Handicapped-infants=?]v\n",
      "[Handicapped-infants=?]v\n",
      "[Handicapped-infants=?]v\n",
      "[Handicapped-infants=?]]\n",
      "\n",
      "26 pos left. Growing final rules...\n",
      "growing ruleset...\n",
      "\n",
      "pos_growset 121 pos_pruneset 60\n",
      "neg_growset 73 neg_pruneset 37\n",
      "pruned rule unchanged\n",
      "updated ruleset: ...-infants=?] V [Handicapped-infants=?] V [physician-fee-freeze=n^adoption-of-the-budget-resolution=y]\n",
      "\n",
      "pos_growset 20 pos_pruneset 10\n",
      "neg_growset 73 neg_pruneset 37\n",
      "pruned rule unchanged\n",
      "updated ruleset: ...eze=n^adoption-of-the-budget-resolution=y] V [physician-fee-freeze=n^synfuels-corporation-cutback=y]\n",
      "\n",
      "pos_growset 12 pos_pruneset 7\n",
      "neg_growset 73 neg_pruneset 37\n",
      "pruned rule unchanged\n",
      "updated ruleset: ...corporation-cutback=y] V [education-spending=n^religious-groups-in-schools=y^physician-fee-freeze=?]\n",
      "\n",
      "pos_growset 10 pos_pruneset 5\n",
      "neg_growset 73 neg_pruneset 37\n",
      "pruned rule: [physician-fee-freeze=n]\n",
      "updated ruleset: ...ducation-spending=n^religious-groups-in-schools=y^physician-fee-freeze=?] V [physician-fee-freeze=n]\n",
      "\n",
      "pos_growset 6 pos_pruneset 3\n",
      "neg_growset 72 neg_pruneset 36\n",
      "pruned rule unchanged\n",
      "updated ruleset: ...an-fee-freeze=n] V [synfuels-corporation-cutback=y^immigration=n^Handicapped-infants=y^mx-missile=y]\n",
      "\n",
      "pos_growset 4 pos_pruneset 3\n",
      "neg_growset 72 neg_pruneset 36\n",
      "pruned rule unchanged\n",
      "updated ruleset: ...igration=n^Handicapped-infants=y^mx-missile=y] V [adoption-of-the-budget-resolution=y^immigration=n]\n",
      "\n",
      "pos_growset 2 pos_pruneset 1\n",
      "neg_growset 71 neg_pruneset 36\n",
      "pruned rule unchanged\n",
      "updated ruleset: ...olution=y^immigration=n] V [education-spending=n^Handicapped-infants=n^Water-project-cost-sharing=y]\n",
      "\n",
      "pos_growset 0 pos_pruneset 1\n",
      "neg_growset 71 neg_pruneset 35\n",
      "pruned rule unchanged\n",
      "updated ruleset: ... [education-spending=n^Handicapped-infants=n^Water-project-cost-sharing=y] V [Handicapped-infants=?]\n",
      "\n",
      "pos_growset 0 pos_pruneset 1\n",
      "neg_growset 70 neg_pruneset 35\n",
      "pruned rule unchanged\n",
      "updated ruleset: ...dicapped-infants=n^Water-project-cost-sharing=y] V [Handicapped-infants=?] V [Handicapped-infants=?]\n",
      "\n",
      "pos_growset 0 pos_pruneset 1\n",
      "neg_growset 70 neg_pruneset 35\n",
      "pruned rule unchanged\n",
      "updated ruleset: ...roject-cost-sharing=y] V [Handicapped-infants=?] V [Handicapped-infants=?] V [Handicapped-infants=?]\n",
      "\n",
      "pos_growset 0 pos_pruneset 1\n",
      "neg_growset 70 neg_pruneset 35\n",
      "pruned rule unchanged\n",
      "updated ruleset: ...Handicapped-infants=?] V [Handicapped-infants=?] V [Handicapped-infants=?] V [Handicapped-infants=?]\n",
      "\n",
      "pos_growset 0 pos_pruneset 1\n",
      "neg_growset 70 neg_pruneset 35\n",
      "pruned rule unchanged\n",
      "updated ruleset: ...Handicapped-infants=?] V [Handicapped-infants=?] V [Handicapped-infants=?] V [Handicapped-infants=?]\n",
      "\n",
      "pos_growset 0 pos_pruneset 1\n",
      "neg_growset 70 neg_pruneset 35\n",
      "pruned rule unchanged\n",
      "updated ruleset: ...Handicapped-infants=?] V [Handicapped-infants=?] V [Handicapped-infants=?] V [Handicapped-infants=?]\n",
      "\n",
      "GREW FINAL RULES\n",
      "[[physician-fee-freeze=n]v\n",
      "[adoption-of-the-budget-resolution=y^Water-project-cost-sharing=y]v\n",
      "[adoption-of-the-budget-resolution=y^Water-project-cost-sharing=y]v\n",
      "[synfuels-corporation-cutback=y^education-spending=n]v\n",
      "[synfuels-corporation-cutback=y^education-spending=n]v\n",
      "[education-spending=n^synfuels-corporation-cutback=y]v\n",
      "[education-spending=n^synfuels-corporation-cutback=y^el-salvador-aid=n]v\n",
      "[Handicapped-infants=?]v\n",
      "[Handicapped-infants=?]v\n",
      "[Handicapped-infants=?]v\n",
      "[Handicapped-infants=?]v\n",
      "[Handicapped-infants=?]v\n",
      "[Handicapped-infants=?]v\n",
      "[Handicapped-infants=?]v\n",
      "[Handicapped-infants=?]v\n",
      "[Handicapped-infants=?]v\n",
      "[Handicapped-infants=?]v\n",
      "[Handicapped-infants=?]v\n",
      "[physician-fee-freeze=n^adoption-of-the-budget-resolution=y]v\n",
      "[physician-fee-freeze=n^synfuels-corporation-cutback=y]v\n",
      "[education-spending=n^religious-groups-in-schools=y^physician-fee-freeze=?]v\n",
      "[physician-fee-freeze=n]v\n",
      "[synfuels-corporation-cutback=y^immigration=n^Handicapped-infants=y^mx-missile=y]v\n",
      "[adoption-of-the-budget-resolution=y^immigration=n]v\n",
      "[education-spending=n^Handicapped-infants=n^Water-project-cost-sharing=y]v\n",
      "[Handicapped-infants=?]v\n",
      "[Handicapped-infants=?]v\n",
      "[Handicapped-infants=?]v\n",
      "[Handicapped-infants=?]v\n",
      "[Handicapped-infants=?]v\n",
      "[Handicapped-infants=?]]\n",
      "\n",
      "Optimizing dl...\n",
      "FINAL RULESET:\n",
      "[[physician-fee-freeze=n]]\n",
      "\n"
     ]
    },
    {
     "data": {
      "text/plain": [
       "'75'"
      ]
     },
     "execution_count": 31,
     "metadata": {},
     "output_type": "execute_result"
    }
   ],
   "source": [
    "# Run ripper\n",
    "random_state=2\n",
    "verbosity=2\n",
    "k=2\n",
    "train, test = make_ripper_dataset(filename, random_state=random_state)\n",
    "timer = Timer()\n",
    "ripper_clf = make_ripper(train, class_feat, pos_class, k=k, random_state=random_state, verbosity=verbosity)\n",
    "timer.buzz()\n",
    "#ripper_precision, ripper_recall, ripper_conds = score_ripper(ripper_clf, test, class_feat)\n",
    "#ripper_precision, ripper_recall, ripper_conds"
   ]
  },
  {
   "cell_type": "code",
   "execution_count": 32,
   "metadata": {},
   "outputs": [
    {
     "data": {
      "text/plain": [
       "(1.0, 0.8023255813953488, 1)"
      ]
     },
     "execution_count": 32,
     "metadata": {},
     "output_type": "execute_result"
    }
   ],
   "source": [
    "score_ripper(ripper_clf, test, class_feat)"
   ]
  },
  {
   "cell_type": "code",
   "execution_count": 33,
   "metadata": {},
   "outputs": [
    {
     "data": {
      "text/plain": [
       "(0.9523809523809523, 0.9302325581395349, 35)"
      ]
     },
     "execution_count": 33,
     "metadata": {},
     "output_type": "execute_result"
    }
   ],
   "source": [
    "# Run tree\n",
    "import math\n",
    "tree_train_X, tree_train_y, tree_test_X, tree_test_y = make_tree_dataset(filename, class_feat, pos_class, n_classes, bin_transformer=None, random_state=random_state)\n",
    "tree_clf = make_tree(tree_train_X, tree_train_y, random_state=random_state)\n",
    "tree_precision, tree_recall, tree_nodes = score_tree(tree_clf, tree_test_X, tree_test_y)\n",
    "tree_precision, tree_recall, tree_nodes"
   ]
  },
  {
   "cell_type": "code",
   "execution_count": 35,
   "metadata": {},
   "outputs": [
    {
     "data": {
      "text/plain": [
       "(0.9878048780487805, 0.9418604651162791, 3)"
      ]
     },
     "execution_count": 35,
     "metadata": {},
     "output_type": "execute_result"
    }
   ],
   "source": [
    "# Run tree\n",
    "import math\n",
    "tree_train_X, tree_train_y, tree_test_X, tree_test_y = make_tree_dataset(filename, class_feat, pos_class, n_classes, bin_transformer=None, random_state=random_state)\n",
    "tree_clf = make_tree(tree_train_X, tree_train_y, max_depth=1, random_state=random_state)\n",
    "tree_precision, tree_recall, tree_nodes = score_tree(tree_clf, tree_test_X, tree_test_y)\n",
    "tree_precision, tree_recall, tree_nodes"
   ]
  },
  {
   "cell_type": "code",
   "execution_count": null,
   "metadata": {},
   "outputs": [],
   "source": []
  }
 ],
 "metadata": {
  "kernelspec": {
   "display_name": "Python 3",
   "language": "python",
   "name": "python3"
  },
  "language_info": {
   "codemirror_mode": {
    "name": "ipython",
    "version": 3
   },
   "file_extension": ".py",
   "mimetype": "text/x-python",
   "name": "python",
   "nbconvert_exporter": "python",
   "pygments_lexer": "ipython3",
   "version": "3.6.6"
  }
 },
 "nbformat": 4,
 "nbformat_minor": 2
}
