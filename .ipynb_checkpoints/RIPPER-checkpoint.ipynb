{
 "cells": [
  {
   "cell_type": "code",
   "execution_count": 1,
   "metadata": {},
   "outputs": [],
   "source": [
    "import pandas as pd"
   ]
  },
  {
   "cell_type": "code",
   "execution_count": 2,
   "metadata": {},
   "outputs": [],
   "source": [
    "from sklearn.model_selection import train_test_split\n",
    "from sklearn.preprocessing import OneHotEncoder, LabelEncoder\n",
    "from sklearn.metrics import precision_score, recall_score"
   ]
  },
  {
   "cell_type": "code",
   "execution_count": 3,
   "metadata": {},
   "outputs": [],
   "source": [
    "import ripper\n",
    "\n",
    "def make_ripper_dataset(dataset_filename, random_state=42):\n",
    "    # Load df\n",
    "    df = pd.read_csv(dataset_filename)\n",
    "    \n",
    "    # Split\n",
    "    train, test = train_test_split(df, test_size=.33, random_state=random_state)\n",
    "    \n",
    "    return train, test"
   ]
  },
  {
   "cell_type": "code",
   "execution_count": 4,
   "metadata": {},
   "outputs": [],
   "source": [
    "def make_ripper(train, class_feat, pos_class, random_state=42):\n",
    "    # Train\n",
    "    irep_clf = ripper.RIPPER(class_feat=class_feat,pos_class=pos_class)\n",
    "    irep_clf.fit(train, seed=random_state, prune=True, verbose=True)\n",
    "    return irep_clf"
   ]
  },
  {
   "cell_type": "code",
   "execution_count": 5,
   "metadata": {},
   "outputs": [],
   "source": [
    "def score_ripper(ripper_clf, test, class_feat):\n",
    "    X_test = test.drop(class_feat,axis=1)\n",
    "    y_test = test[class_feat]\n",
    "\n",
    "    precision = ripper_clf.score(X_test, y_test, precision_score)\n",
    "    recall = ripper_clf.score(X_test, y_test, recall_score)\n",
    "    total_conds = ripper_clf.ruleset_.count_conds()\n",
    "    return precision, recall, total_conds"
   ]
  },
  {
   "cell_type": "code",
   "execution_count": 6,
   "metadata": {},
   "outputs": [],
   "source": [
    "datasets_path = '../datasets/'\n",
    "random_state = 0"
   ]
  },
  {
   "cell_type": "code",
   "execution_count": 7,
   "metadata": {},
   "outputs": [],
   "source": [
    "# Set up\n",
    "dataset = 'house-votes-84.csv'\n",
    "filename = datasets_path + dataset\n",
    "class_feat = 'Party'\n",
    "pos_class = 'democrat'\n",
    "n_classes = 2"
   ]
  },
  {
   "cell_type": "code",
   "execution_count": 8,
   "metadata": {},
   "outputs": [
    {
     "name": "stdout",
     "output_type": "stream",
     "text": [
      "grew rule: [physician-fee-freeze=n^adoption-of-the-budget-resolution=y]\n",
      "on pruneset iter, p_covered 103 n_covered 0\n",
      "on pruneset iter, p_covered 113 n_covered 1\n",
      "pruned rule: [physician-fee-freeze=n^adoption-of-the-budget-resolution=y]\n",
      "rule_bits| rule [physician-fee-freeze=n^adoption-of-the-budget-resolution=y] k 2 n 48 pr 0.041666666666666664: rule_bits 6.5\n",
      "exceptions_bits| P 183 p 154 fp 0 fn 29: exceptions_bits 0.0\n",
      "Rule [physician-fee-freeze=n^adoption-of-the-budget-resolution=y] total_bits 6.5\n",
      "examples remaining: 29 pos, 108 neg\n",
      "mdl 6.5\n",
      "\n",
      "grew rule: [synfuels-corporation-cutback=y^export-administration-act-south-africa=n]\n",
      "on pruneset iter, p_covered 3 n_covered 2\n",
      "on pruneset iter, p_covered 12 n_covered 8\n",
      "pruned rule: [synfuels-corporation-cutback=y^export-administration-act-south-africa=n]\n",
      "rule_bits| rule [synfuels-corporation-cutback=y^export-administration-act-south-africa=n] k 2 n 48 pr 0.041666666666666664: rule_bits 6.5\n",
      "exceptions_bits| P 29 p 6 fp 2 fn 23: exceptions_bits 3.91\n",
      "Rule [synfuels-corporation-cutback=y^export-administration-act-south-africa=n] total_bits 10.4\n",
      "examples remaining: 23 pos, 106 neg\n",
      "mdl 6.5\n",
      "\n",
      "grew rule: [el-salvador-aid=n^Water-project-cost-sharing=y]\n",
      "on pruneset iter, p_covered 2 n_covered 0\n",
      "on pruneset iter, p_covered 7 n_covered 3\n",
      "pruned rule: [el-salvador-aid=n^Water-project-cost-sharing=y]\n",
      "rule_bits| rule [el-salvador-aid=n^Water-project-cost-sharing=y] k 2 n 48 pr 0.041666666666666664: rule_bits 6.5\n",
      "exceptions_bits| P 23 p 5 fp 0 fn 18: exceptions_bits 0.0\n",
      "Rule [el-salvador-aid=n^Water-project-cost-sharing=y] total_bits 6.5\n",
      "examples remaining: 18 pos, 106 neg\n",
      "mdl 6.5\n",
      "\n",
      "grew rule: [mx-missile=y^anti-satellite-test-ban=n]\n",
      "on pruneset iter, p_covered 0 n_covered 0\n",
      "on pruneset iter, p_covered 6 n_covered 6\n",
      "pruned rule: [mx-missile=y^anti-satellite-test-ban=n]\n",
      "rule_bits| rule [mx-missile=y^anti-satellite-test-ban=n] k 2 n 48 pr 0.041666666666666664: rule_bits 6.5\n",
      "exceptions_bits| P 18 p 2 fp 0 fn 16: exceptions_bits 0.0\n",
      "Rule [mx-missile=y^anti-satellite-test-ban=n] total_bits 6.5\n",
      "examples remaining: 16 pos, 106 neg\n",
      "mdl 6.5\n",
      "\n",
      "grew rule: [physician-fee-freeze=?^Handicapped-infants=n]\n",
      "on pruneset iter, p_covered 1 n_covered 0\n",
      "on pruneset iter, p_covered 2 n_covered 0\n",
      "pruned rule: [physician-fee-freeze=?^Handicapped-infants=n]\n",
      "rule_bits| rule [physician-fee-freeze=?^Handicapped-infants=n] k 2 n 48 pr 0.041666666666666664: rule_bits 6.5\n",
      "exceptions_bits| P 16 p 2 fp 0 fn 14: exceptions_bits 0.0\n",
      "Rule [physician-fee-freeze=?^Handicapped-infants=n] total_bits 6.5\n",
      "examples remaining: 14 pos, 106 neg\n",
      "mdl 6.5\n",
      "\n",
      "grew rule: [adoption-of-the-budget-resolution=?^mx-missile=y]\n",
      "on pruneset iter, p_covered 1 n_covered 0\n",
      "on pruneset iter, p_covered 1 n_covered 1\n",
      "pruned rule: [adoption-of-the-budget-resolution=?^mx-missile=y]\n",
      "rule_bits| rule [adoption-of-the-budget-resolution=?^mx-missile=y] k 2 n 48 pr 0.041666666666666664: rule_bits 6.5\n",
      "exceptions_bits| P 14 p 3 fp 0 fn 11: exceptions_bits 0.0\n",
      "Rule [adoption-of-the-budget-resolution=?^mx-missile=y] total_bits 6.5\n",
      "examples remaining: 11 pos, 106 neg\n",
      "mdl 6.5\n",
      "\n",
      "grew rule: [physician-fee-freeze=n^immigration=y]\n",
      "on pruneset iter, p_covered 2 n_covered 1\n",
      "on pruneset iter, p_covered 6 n_covered 1\n",
      "pruned rule: [physician-fee-freeze=n]\n",
      "rule_bits| rule [physician-fee-freeze=n] k 1 n 38 pr 0.02631578947368421: rule_bits 3.34\n",
      "exceptions_bits| P 11 p 8 fp 2 fn 3: exceptions_bits 4.81\n",
      "Rule [physician-fee-freeze=n] total_bits 8.14\n",
      "examples remaining: 3 pos, 104 neg\n",
      "mdl 6.5\n",
      "\n",
      "GREW INITIAL RULESET: [[physician-fee-freeze=n^adoption-of-the-budget-resolution=y]v[synfuels-corporation-cutback=y^export-administration-act-south-africa=n]v[el-salvador-aid=n^Water-project-cost-sharing=y]v[mx-missile=y^anti-satellite-test-ban=n]v[physician-fee-freeze=?^Handicapped-infants=n]v[adoption-of-the-budget-resolution=?^mx-missile=y]v[physician-fee-freeze=n]]\n",
      "\n",
      "\n",
      "grow revision for rule 0: [physician-fee-freeze=n^adoption-of-the-budget-resolution=y]\n",
      "pos_df 183\n",
      "neg_df 108\n",
      "initial covers n_negs: 0\n",
      "rule1 is [physician-fee-freeze=n^adoption-of-the-budget-resolution=y]\n",
      "rule [physician-fee-freeze=n^adoption-of-the-budget-resolution=y] revision: [physician-fee-freeze=n^adoption-of-the-budget-resolution=y]\n",
      "\n",
      "grow revision for rule 1: [synfuels-corporation-cutback=y^export-administration-act-south-africa=n]\n",
      "pos_df 183\n",
      "neg_df 108\n",
      "initial covers n_negs: 2\n",
      "rule1 is [synfuels-corporation-cutback=y^export-administration-act-south-africa=n]\n",
      "successor [synfuels-corporation-cutback=y^export-administration-act-south-africa=n^Handicapped-infants=n] gain -0.0\n",
      "successor [synfuels-corporation-cutback=y^export-administration-act-south-africa=n^Handicapped-infants=y] gain 3.0\n",
      "successor [synfuels-corporation-cutback=y^export-administration-act-south-africa=n^Handicapped-infants=?] gain -0.0\n",
      "successor [synfuels-corporation-cutback=y^export-administration-act-south-africa=n^Water-project-cost-sharing=n] gain -0.0\n",
      "successor [synfuels-corporation-cutback=y^export-administration-act-south-africa=n^Water-project-cost-sharing=y] gain -3.0\n",
      "successor [synfuels-corporation-cutback=y^export-administration-act-south-africa=n^Water-project-cost-sharing=?] gain -0.0\n",
      "successor [synfuels-corporation-cutback=y^export-administration-act-south-africa=n^adoption-of-the-budget-resolution=n] gain -3.0\n",
      "successor [synfuels-corporation-cutback=y^export-administration-act-south-africa=n^adoption-of-the-budget-resolution=y] gain -0.0\n",
      "successor [synfuels-corporation-cutback=y^export-administration-act-south-africa=n^adoption-of-the-budget-resolution=?] gain -0.0\n",
      "successor [synfuels-corporation-cutback=y^export-administration-act-south-africa=n^physician-fee-freeze=n] gain 0.0\n",
      "successor [synfuels-corporation-cutback=y^export-administration-act-south-africa=n^physician-fee-freeze=y] gain -3.0\n",
      "successor [synfuels-corporation-cutback=y^export-administration-act-south-africa=n^physician-fee-freeze=?] gain -0.0\n",
      "successor [synfuels-corporation-cutback=y^export-administration-act-south-africa=n^el-salvador-aid=n] gain -0.0\n",
      "successor [synfuels-corporation-cutback=y^export-administration-act-south-africa=n^el-salvador-aid=y] gain -3.0\n",
      "successor [synfuels-corporation-cutback=y^export-administration-act-south-africa=n^el-salvador-aid=?] gain -0.0\n",
      "successor [synfuels-corporation-cutback=y^export-administration-act-south-africa=n^religious-groups-in-schools=n] gain -0.0\n",
      "successor [synfuels-corporation-cutback=y^export-administration-act-south-africa=n^religious-groups-in-schools=y] gain -3.0\n",
      "successor [synfuels-corporation-cutback=y^export-administration-act-south-africa=n^religious-groups-in-schools=?] gain -0.0\n",
      "successor [synfuels-corporation-cutback=y^export-administration-act-south-africa=n^anti-satellite-test-ban=n] gain -3.0\n",
      "successor [synfuels-corporation-cutback=y^export-administration-act-south-africa=n^anti-satellite-test-ban=y] gain -0.0\n",
      "successor [synfuels-corporation-cutback=y^export-administration-act-south-africa=n^anti-satellite-test-ban=?] gain -0.0\n",
      "successor [synfuels-corporation-cutback=y^export-administration-act-south-africa=n^aid-to-nicaraguan-contras=n] gain -3.0\n",
      "successor [synfuels-corporation-cutback=y^export-administration-act-south-africa=n^aid-to-nicaraguan-contras=y] gain -0.0\n",
      "successor [synfuels-corporation-cutback=y^export-administration-act-south-africa=n^aid-to-nicaraguan-contras=?] gain -0.0\n",
      "successor [synfuels-corporation-cutback=y^export-administration-act-south-africa=n^mx-missile=n] gain -3.0\n",
      "successor [synfuels-corporation-cutback=y^export-administration-act-south-africa=n^mx-missile=y] gain 0.0\n",
      "successor [synfuels-corporation-cutback=y^export-administration-act-south-africa=n^mx-missile=?] gain -0.0\n",
      "successor [synfuels-corporation-cutback=y^export-administration-act-south-africa=n^immigration=n] gain -1.0\n",
      "successor [synfuels-corporation-cutback=y^export-administration-act-south-africa=n^immigration=y] gain -1.0\n",
      "successor [synfuels-corporation-cutback=y^export-administration-act-south-africa=n^immigration=?] gain -0.0\n",
      "successor [synfuels-corporation-cutback=y^export-administration-act-south-africa=n^education-spending=n] gain 0.0\n",
      "successor [synfuels-corporation-cutback=y^export-administration-act-south-africa=n^education-spending=y] gain -3.0\n",
      "successor [synfuels-corporation-cutback=y^export-administration-act-south-africa=n^education-spending=?] gain -0.0\n"
     ]
    },
    {
     "name": "stdout",
     "output_type": "stream",
     "text": [
      "successor [synfuels-corporation-cutback=y^export-administration-act-south-africa=n^superfund-right-to-sue=n] gain -0.0\n",
      "successor [synfuels-corporation-cutback=y^export-administration-act-south-africa=n^superfund-right-to-sue=y] gain -3.0\n",
      "successor [synfuels-corporation-cutback=y^export-administration-act-south-africa=n^superfund-right-to-sue=?] gain -0.0\n",
      "successor [synfuels-corporation-cutback=y^export-administration-act-south-africa=n^crime=n] gain -0.0\n",
      "successor [synfuels-corporation-cutback=y^export-administration-act-south-africa=n^crime=y] gain -3.0\n",
      "successor [synfuels-corporation-cutback=y^export-administration-act-south-africa=n^crime=?] gain -0.0\n",
      "successor [synfuels-corporation-cutback=y^export-administration-act-south-africa=n^duty-free-exports=n] gain -3.0\n",
      "successor [synfuels-corporation-cutback=y^export-administration-act-south-africa=n^duty-free-exports=y] gain 0.0\n",
      "successor [synfuels-corporation-cutback=y^export-administration-act-south-africa=n^duty-free-exports=?] gain -0.0\n",
      "best successor: [synfuels-corporation-cutback=y^export-administration-act-south-africa=n^Handicapped-infants=y]\n",
      "rule [synfuels-corporation-cutback=y^export-administration-act-south-africa=n] revision: [synfuels-corporation-cutback=y^export-administration-act-south-africa=n^Handicapped-infants=y]\n",
      "\n",
      "grow revision for rule 2: [el-salvador-aid=n^Water-project-cost-sharing=y]\n",
      "pos_df 183\n",
      "neg_df 108\n",
      "initial covers n_negs: 0\n",
      "rule1 is [el-salvador-aid=n^Water-project-cost-sharing=y]\n",
      "rule [el-salvador-aid=n^Water-project-cost-sharing=y] revision: [el-salvador-aid=n^Water-project-cost-sharing=y]\n",
      "\n",
      "grow revision for rule 3: [mx-missile=y^anti-satellite-test-ban=n]\n",
      "pos_df 183\n",
      "neg_df 108\n",
      "initial covers n_negs: 0\n",
      "rule1 is [mx-missile=y^anti-satellite-test-ban=n]\n",
      "rule [mx-missile=y^anti-satellite-test-ban=n] revision: [mx-missile=y^anti-satellite-test-ban=n]\n",
      "\n",
      "grow revision for rule 4: [physician-fee-freeze=?^Handicapped-infants=n]\n",
      "pos_df 183\n",
      "neg_df 108\n",
      "initial covers n_negs: 0\n",
      "rule1 is [physician-fee-freeze=?^Handicapped-infants=n]\n",
      "rule [physician-fee-freeze=?^Handicapped-infants=n] revision: [physician-fee-freeze=?^Handicapped-infants=n]\n",
      "\n",
      "grow revision for rule 5: [adoption-of-the-budget-resolution=?^mx-missile=y]\n",
      "pos_df 183\n",
      "neg_df 108\n",
      "initial covers n_negs: 0\n",
      "rule1 is [adoption-of-the-budget-resolution=?^mx-missile=y]\n",
      "rule [adoption-of-the-budget-resolution=?^mx-missile=y] revision: [adoption-of-the-budget-resolution=?^mx-missile=y]\n",
      "\n",
      "grow revision for rule 6: [physician-fee-freeze=n]\n",
      "pos_df 183\n",
      "neg_df 108\n",
      "initial covers n_negs: 2\n",
      "rule1 is [physician-fee-freeze=n]\n",
      "successor [physician-fee-freeze=n^Handicapped-infants=n] gain -0.0\n",
      "successor [physician-fee-freeze=n^Handicapped-infants=y] gain 1.0\n",
      "successor [physician-fee-freeze=n^Handicapped-infants=?] gain 0.0\n",
      "successor [physician-fee-freeze=n^Water-project-cost-sharing=n] gain -2.0\n",
      "successor [physician-fee-freeze=n^Water-project-cost-sharing=y] gain 1.0\n",
      "successor [physician-fee-freeze=n^Water-project-cost-sharing=?] gain -0.0\n",
      "successor [physician-fee-freeze=n^adoption-of-the-budget-resolution=n] gain -3.0\n",
      "successor [physician-fee-freeze=n^adoption-of-the-budget-resolution=y] gain 1.0\n",
      "successor [physician-fee-freeze=n^adoption-of-the-budget-resolution=?] gain -1.0\n",
      "successor [physician-fee-freeze=n^el-salvador-aid=n] gain -2.0\n",
      "successor [physician-fee-freeze=n^el-salvador-aid=y] gain -2.0\n",
      "successor [physician-fee-freeze=n^el-salvador-aid=?] gain -1.0\n",
      "successor [physician-fee-freeze=n^religious-groups-in-schools=n] gain -2.0\n",
      "successor [physician-fee-freeze=n^religious-groups-in-schools=y] gain -2.0\n",
      "successor [physician-fee-freeze=n^religious-groups-in-schools=?] gain -1.0\n",
      "successor [physician-fee-freeze=n^anti-satellite-test-ban=n] gain -1.0\n",
      "successor [physician-fee-freeze=n^anti-satellite-test-ban=y] gain -3.0\n",
      "successor [physician-fee-freeze=n^anti-satellite-test-ban=?] gain -1.0\n",
      "successor [physician-fee-freeze=n^aid-to-nicaraguan-contras=n] gain -2.0\n",
      "successor [physician-fee-freeze=n^aid-to-nicaraguan-contras=y] gain -1.0\n",
      "successor [physician-fee-freeze=n^aid-to-nicaraguan-contras=?] gain -1.0\n",
      "successor [physician-fee-freeze=n^mx-missile=n] gain -2.0\n",
      "successor [physician-fee-freeze=n^mx-missile=y] gain -2.0\n",
      "successor [physician-fee-freeze=n^mx-missile=?] gain -1.0\n",
      "successor [physician-fee-freeze=n^immigration=n] gain -2.0\n",
      "successor [physician-fee-freeze=n^immigration=y] gain -2.0\n",
      "successor [physician-fee-freeze=n^immigration=?] gain -1.0\n",
      "successor [physician-fee-freeze=n^synfuels-corporation-cutback=n] gain -3.0\n",
      "successor [physician-fee-freeze=n^synfuels-corporation-cutback=y] gain -1.0\n",
      "successor [physician-fee-freeze=n^synfuels-corporation-cutback=?] gain -1.0\n",
      "successor [physician-fee-freeze=n^education-spending=n] gain -2.0\n",
      "successor [physician-fee-freeze=n^education-spending=y] gain -1.0\n",
      "successor [physician-fee-freeze=n^education-spending=?] gain -2.0\n",
      "successor [physician-fee-freeze=n^superfund-right-to-sue=n] gain -3.0\n",
      "successor [physician-fee-freeze=n^superfund-right-to-sue=y] gain -1.0\n",
      "successor [physician-fee-freeze=n^superfund-right-to-sue=?] gain -1.0\n",
      "successor [physician-fee-freeze=n^crime=n] gain -0.0\n",
      "successor [physician-fee-freeze=n^crime=y] gain -4.0\n",
      "successor [physician-fee-freeze=n^crime=?] gain -1.0\n",
      "successor [physician-fee-freeze=n^duty-free-exports=n] gain -2.0\n",
      "successor [physician-fee-freeze=n^duty-free-exports=y] gain -2.0\n",
      "successor [physician-fee-freeze=n^duty-free-exports=?] gain -1.0\n",
      "successor [physician-fee-freeze=n^export-administration-act-south-africa=n] gain -1.0\n",
      "successor [physician-fee-freeze=n^export-administration-act-south-africa=y] gain -3.0\n",
      "successor [physician-fee-freeze=n^export-administration-act-south-africa=?] gain -1.0\n",
      "best successor: [physician-fee-freeze=n^adoption-of-the-budget-resolution=y]\n",
      "rule [physician-fee-freeze=n] revision: [physician-fee-freeze=n^adoption-of-the-budget-resolution=y]\n",
      "\n"
     ]
    }
   ],
   "source": [
    "# Run ripper\n",
    "train, test = make_ripper_dataset(filename, random_state=random_state)\n",
    "ripper_clf = make_ripper(train, class_feat, pos_class, random_state=random_state)\n",
    "#ripper_precision, ripper_recall, ripper_conds = score_ripper(ripper_clf, test, class_feat)\n",
    "#ripper_precision, ripper_recall, ripper_conds"
   ]
  },
  {
   "cell_type": "code",
   "execution_count": 9,
   "metadata": {},
   "outputs": [
    {
     "data": {
      "text/plain": [
       "<IREP object fit ruleset=None>"
      ]
     },
     "execution_count": 9,
     "metadata": {},
     "output_type": "execute_result"
    }
   ],
   "source": [
    "ripper_clf"
   ]
  },
  {
   "cell_type": "code",
   "execution_count": 10,
   "metadata": {},
   "outputs": [
    {
     "data": {
      "text/plain": [
       "1.6944444444444444"
      ]
     },
     "execution_count": 10,
     "metadata": {},
     "output_type": "execute_result"
    }
   ],
   "source": [
    "len(train[train['Party']=='democrat'])/len(train[train['Party']=='republican'])"
   ]
  },
  {
   "cell_type": "code",
   "execution_count": 11,
   "metadata": {},
   "outputs": [
    {
     "data": {
      "text/plain": [
       "1.4"
      ]
     },
     "execution_count": 11,
     "metadata": {},
     "output_type": "execute_result"
    }
   ],
   "source": [
    "len(test[test['Party']=='democrat'])/len(test[test['Party']=='republican'])"
   ]
  },
  {
   "cell_type": "code",
   "execution_count": null,
   "metadata": {},
   "outputs": [],
   "source": []
  }
 ],
 "metadata": {
  "kernelspec": {
   "display_name": "Python 3",
   "language": "python",
   "name": "python3"
  },
  "language_info": {
   "codemirror_mode": {
    "name": "ipython",
    "version": 3
   },
   "file_extension": ".py",
   "mimetype": "text/x-python",
   "name": "python",
   "nbconvert_exporter": "python",
   "pygments_lexer": "ipython3",
   "version": "3.6.6"
  }
 },
 "nbformat": 4,
 "nbformat_minor": 2
}
