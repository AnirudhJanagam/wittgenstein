{
 "cells": [
  {
   "cell_type": "code",
   "execution_count": 1,
   "metadata": {},
   "outputs": [],
   "source": [
    "import pandas as pd"
   ]
  },
  {
   "cell_type": "code",
   "execution_count": 2,
   "metadata": {},
   "outputs": [],
   "source": [
    "from sklearn.model_selection import train_test_split\n",
    "from sklearn.preprocessing import OneHotEncoder, LabelEncoder\n",
    "from sklearn.metrics import precision_score, recall_score, accuracy_score"
   ]
  },
  {
   "cell_type": "code",
   "execution_count": 3,
   "metadata": {},
   "outputs": [],
   "source": [
    "import ripper\n",
    "\n",
    "def make_ripper_dataset(dataset_filename, random_state=42):\n",
    "    # Load df\n",
    "    df = pd.read_csv(dataset_filename)\n",
    "    \n",
    "    # Split\n",
    "    train, test = train_test_split(df, test_size=.33, random_state=random_state)\n",
    "    \n",
    "    return train, test"
   ]
  },
  {
   "cell_type": "code",
   "execution_count": 4,
   "metadata": {},
   "outputs": [],
   "source": [
    "def make_ripper(train, class_feat, pos_class, k=1, random_state=42, verbosity=0):\n",
    "    # Train\n",
    "    irep_clf = ripper.RIPPER(class_feat=class_feat,pos_class=pos_class, k=k, verbosity=verbosity)\n",
    "    irep_clf.fit(train, n_discretize_bins=5, seed=random_state)\n",
    "    return irep_clf"
   ]
  },
  {
   "cell_type": "code",
   "execution_count": 5,
   "metadata": {},
   "outputs": [],
   "source": [
    "def score_ripper(ripper_clf, test):\n",
    "    X_test = test.drop(ripper_clf.class_feat,axis=1)\n",
    "    y_test = test[class_feat]\n",
    "\n",
    "    precision = ripper_clf.score(X_test, y_test)#, score_accuracy)\n",
    "    recall = ripper_clf.score(X_test, y_test, recall_score)\n",
    "    total_conds = ripper_clf.ruleset_.count_conds()\n",
    "    return precision, recall, total_conds"
   ]
  },
  {
   "cell_type": "code",
   "execution_count": 6,
   "metadata": {},
   "outputs": [],
   "source": [
    "datasets_path = '../datasets/'\n",
    "random_state = 0"
   ]
  },
  {
   "cell_type": "code",
   "execution_count": 7,
   "metadata": {},
   "outputs": [],
   "source": [
    "# Set up\n",
    "dataset = 'house-votes-84.csv'\n",
    "filename = datasets_path + dataset\n",
    "class_feat = 'Party'\n",
    "pos_class = 'democrat'\n",
    "n_classes = 2\n",
    "random_state=42\n",
    "k=2"
   ]
  },
  {
   "cell_type": "code",
   "execution_count": 8,
   "metadata": {},
   "outputs": [],
   "source": [
    "# Run ripper\n",
    "k=1\n",
    "random_state=2\n",
    "verbosity=0\n",
    "train, test = make_ripper_dataset(filename, random_state=random_state)\n",
    "ripper_clf = make_ripper(train, class_feat, pos_class, k=k, random_state=random_state, verbosity=verbosity)\n",
    "#timer.buzz()\n",
    "#ripper_precision, ripper_recall, ripper_conds = score_ripper(ripper_clf, test, class_feat)\n",
    "#ripper_precision, ripper_recall, ripper_conds"
   ]
  },
  {
   "cell_type": "code",
   "execution_count": 15,
   "metadata": {},
   "outputs": [],
   "source": [
    "X_test = test.drop(ripper_clf.class_feat,axis=1)\n",
    "y_test = test[class_feat].tolist()"
   ]
  },
  {
   "cell_type": "code",
   "execution_count": 16,
   "metadata": {},
   "outputs": [
    {
     "name": "stdout",
     "output_type": "stream",
     "text": [
      "covered_indices {129, 258, 131, 3, 389, 262, 12, 13, 398, 20, 24, 411, 157, 286, 415, 32, 161, 289, 159, 29, 165, 417, 160, 40, 297, 170, 298, 172, 173, 428, 175, 41, 301, 42, 307, 180, 181, 182, 312, 418, 186, 192, 193, 321, 68, 69, 198, 70, 200, 328, 329, 203, 294, 205, 199, 337, 216, 348, 94, 354, 226, 100, 109, 237, 241, 243, 244, 381, 383}\n",
      "predictions [True, False, True, True, True, True, True, True, False, True, False, False, True, True, False, False, False, True, True, True, True, True, False, True, True, False, False, False, False, False, True, True, False, False, False, True, True, True, False, False, True, True, False, False, False, True, False, False, False, False, False, True, True, False, True, False, False, True, False, True, True, True, False, False, False, False, True, False, False, False, True, True, True, False, False, False, False, False, False, True, True, False, False, True, False, True, True, False, True, False, True, True, False, True, False, False, True, False, False, True, True, False, False, False, False, True, False, True, False, True, True, False, True, True, True, True, True, False, False, False, False, True, False, False, True, False, True, True, True, True, False, True, True, True, False, False, False, False, True, False, True, True, False, False]\n",
      "actuals [True, False, True, True, True, True, True, True, False, True, True, False, True, True, False, False, False, True, True, True, True, True, True, True, True, False, False, False, False, False, True, True, True, True, False, True, True, True, False, False, True, True, False, True, True, True, False, False, True, False, False, True, True, False, True, False, False, True, True, True, True, True, False, False, False, False, True, False, False, False, True, True, True, True, True, False, False, False, False, True, True, True, False, True, True, True, True, False, True, False, True, True, False, True, False, False, True, False, False, True, True, True, False, False, True, True, False, True, False, True, True, False, True, True, True, True, True, True, False, True, False, True, True, False, True, False, True, True, True, True, False, True, True, True, False, False, False, False, True, False, True, True, False, False]\n",
      "t [True, False, True, True, True, True, True, True, False, True, False, True, True, False, False, False, True, True, True, True, True, True, True, False, False, False, False, False, True, True, False, True, True, True, False, False, True, True, False, True, False, False, False, False, True, True, False, True, False, False, True, True, True, True, False, False, False, False, True, False, False, False, True, True, True, False, False, False, False, True, True, False, True, True, True, False, True, False, True, True, False, True, False, False, True, False, False, True, True, False, False, True, False, True, False, True, True, False, True, True, True, True, True, False, False, True, False, True, False, True, True, True, True, False, True, True, True, False, False, False, False, True, False, True, True, False, False]\n",
      "t [True, False, True, True, True, True, True, True, False, True, True, False, True, True, False, False, False, True, True, True, True, True, True, True, True, False, False, False, False, False, True, True, True, True, False, True, True, True, False, False, True, True, False, True, True, True, False, False, True, False, False, True, True, False, True, False, False, True, True, True, True, True, False, False, False, False, True, False, False, False, True, True, True, True, True, False, False, False, False, True, True, True, False, True, True, True, True, False, True, False, True, True, False, True, False, False, True, False, False, True, True, True, False, False, True, True, False, True, False, True, True, False, True, True, True, True, True, True, False, True, False, True, True, False, True, False, True, True, True, True, False, True, True, True, False, False, False, False, True, False, True, True, False, False]\n"
     ]
    },
    {
     "data": {
      "text/plain": [
       "0.8819444444444444"
      ]
     },
     "execution_count": 16,
     "metadata": {},
     "output_type": "execute_result"
    }
   ],
   "source": [
    "ripper_clf.score(X_test, y_test)#, accuracy_score)"
   ]
  },
  {
   "cell_type": "code",
   "execution_count": 11,
   "metadata": {},
   "outputs": [
    {
     "ename": "NameError",
     "evalue": "name 'test_y' is not defined",
     "output_type": "error",
     "traceback": [
      "\u001b[0;31m---------------------------------------------------------------------------\u001b[0m",
      "\u001b[0;31mNameError\u001b[0m                                 Traceback (most recent call last)",
      "\u001b[0;32m<ipython-input-11-c628bcbfdf9d>\u001b[0m in \u001b[0;36m<module>\u001b[0;34m()\u001b[0m\n\u001b[0;32m----> 1\u001b[0;31m \u001b[0mtest_y\u001b[0m\u001b[0;34m\u001b[0m\u001b[0m\n\u001b[0m",
      "\u001b[0;31mNameError\u001b[0m: name 'test_y' is not defined"
     ]
    }
   ],
   "source": [
    "test_y"
   ]
  },
  {
   "cell_type": "code",
   "execution_count": null,
   "metadata": {},
   "outputs": [],
   "source": [
    "end`"
   ]
  },
  {
   "cell_type": "code",
   "execution_count": null,
   "metadata": {},
   "outputs": [],
   "source": [
    "# Set up\n",
    "dataset = 'breast-cancer.csv'\n",
    "filename = datasets_path + dataset\n",
    "class_feat = 'Recurrence'\n",
    "pos_class = 'recurrence-events'\n",
    "n_classes = 2\n",
    "random_state=30"
   ]
  },
  {
   "cell_type": "code",
   "execution_count": null,
   "metadata": {},
   "outputs": [],
   "source": [
    "# Run ripper\n",
    "k=2\n",
    "random_state=2\n",
    "verbosity=5\n",
    "train, test = make_ripper_dataset(filename, random_state=random_state)\n",
    "timer = Timer()\n",
    "ripper_clf = make_ripper(train, class_feat, pos_class, k=k, random_state=random_state, verbosity=verbosity)\n",
    "timer.buzz()\n",
    "#ripper_precision, ripper_recall, ripper_conds = score_ripper(ripper_clf, test, class_feat)\n",
    "#ripper_precision, ripper_recall, ripper_conds"
   ]
  },
  {
   "cell_type": "code",
   "execution_count": null,
   "metadata": {},
   "outputs": [],
   "source": [
    "# Set up\n",
    "dataset = 'adult.csv'\n",
    "filename = datasets_path + dataset\n",
    "class_feat = 'income'\n",
    "pos_class = '>50K'\n",
    "n_classes = 2\n",
    "random_state = 0\n",
    "k=2"
   ]
  },
  {
   "cell_type": "code",
   "execution_count": null,
   "metadata": {},
   "outputs": [],
   "source": [
    "train, test = make_ripper_dataset(filename, random_state=random_state)"
   ]
  },
  {
   "cell_type": "code",
   "execution_count": null,
   "metadata": {},
   "outputs": [],
   "source": [
    "import pickle\n",
    "import base\n",
    "ripper_clf = pickle.load(open('ripper_clf.pkl','rb'))\n",
    "test_binned = base.bin_transform(test, ripper_clf.bin_transformer_)\n",
    "score_ripper(ripper_clf, test_binned, class_feat)"
   ]
  },
  {
   "cell_type": "code",
   "execution_count": null,
   "metadata": {},
   "outputs": [],
   "source": [
    "pos_test,neg_test=base.pos_neg_split(test_binned, class_feat, pos_class)\n",
    "len(pos_test)/len(test_binned)"
   ]
  },
  {
   "cell_type": "code",
   "execution_count": null,
   "metadata": {},
   "outputs": [],
   "source": [
    "from sklearn.tree import DecisionTreeClassifier\n",
    "\n",
    "def make_tree_dataset(dataset_filename, class_feat, pos_class, n_classes, bin_transformer, random_state=42):\n",
    "    \n",
    "    # Load df\n",
    "    df = pd.read_csv(dataset_filename)\n",
    "    if bin_transformer is not None:\n",
    "        df = base.bin_transform(df, bin_transformer)\n",
    "    \n",
    "    # DecisionTreeClassifier (of all things!) doesn't directly take categorical features.\n",
    "    # We need to one-hot preprocess the data to make it work.\n",
    "    le = LabelEncoder()\n",
    "    df_le=df.apply(le.fit_transform)\n",
    "    enc = OneHotEncoder(sparse=False)\n",
    "    enc.fit(df_le)\n",
    "    df_hot=enc.transform(df_le)\n",
    "    \n",
    "    # Split\n",
    "    train, test = train_test_split(df_hot, test_size=.33, random_state=random_state)\n",
    "    train_X = train[:,n_classes:]\n",
    "    train_y = train[:,0]\n",
    "    test_X = test[:,n_classes:]\n",
    "    test_y = test[:,0]\n",
    "    \n",
    "    return train_X, train_y, test_X, test_y"
   ]
  },
  {
   "cell_type": "code",
   "execution_count": null,
   "metadata": {},
   "outputs": [],
   "source": [
    "def make_tree(train_X, train_y, max_depth=None, random_state=42):\n",
    "    tree = DecisionTreeClassifier(max_depth=max_depth, random_state=random_state)\n",
    "    tree.fit(train_X, train_y)\n",
    "    return tree"
   ]
  },
  {
   "cell_type": "code",
   "execution_count": null,
   "metadata": {},
   "outputs": [],
   "source": [
    "def score_tree(tree_clf, test_X, test_y):\n",
    "    predictions = tree_clf.predict(test_X)\n",
    "    precision = precision_score(test_y, predictions)\n",
    "    recall = recall_score(test_y, predictions)\n",
    "    return precision, recall, tree_clf.tree_.node_count"
   ]
  },
  {
   "cell_type": "code",
   "execution_count": null,
   "metadata": {},
   "outputs": [],
   "source": [
    "# Run tree\n",
    "tree_train_X, tree_train_y, tree_test_X, tree_test_y = make_tree_dataset(filename, class_feat, pos_class, n_classes, bin_transformer=ripper_clf.bin_transformer_, random_state=random_state)\n",
    "tree_clf = make_tree(tree_train_X, tree_train_y, random_state=random_state)\n",
    "tree_precision, tree_recall, tree_nodes = score_tree(tree_clf, tree_test_X, tree_test_y)\n",
    "tree_precision, tree_recall, tree_nodes"
   ]
  },
  {
   "cell_type": "code",
   "execution_count": null,
   "metadata": {},
   "outputs": [],
   "source": [
    "ripper_clf.ruleset_.count_conds()"
   ]
  },
  {
   "cell_type": "code",
   "execution_count": null,
   "metadata": {},
   "outputs": [],
   "source": [
    "# Run tree\n",
    "import math\n",
    "tree_train_X, tree_train_y, tree_test_X, tree_test_y = make_tree_dataset(filename, class_feat, pos_class, n_classes, bin_transformer=ripper_clf.bin_transformer_, random_state=random_state)\n",
    "tree_clf = make_tree(tree_train_X, tree_train_y, max_depth=math.log2(ripper_clf.ruleset_.count_conds()), random_state=random_state)\n",
    "tree_precision, tree_recall, tree_nodes = score_tree(tree_clf, tree_test_X, tree_test_y)\n",
    "tree_precision, tree_recall, tree_nodes"
   ]
  },
  {
   "cell_type": "code",
   "execution_count": null,
   "metadata": {},
   "outputs": [],
   "source": [
    "end"
   ]
  },
  {
   "cell_type": "code",
   "execution_count": null,
   "metadata": {},
   "outputs": [],
   "source": []
  },
  {
   "cell_type": "code",
   "execution_count": null,
   "metadata": {},
   "outputs": [],
   "source": [
    "# Run ripper\n",
    "random_state=2\n",
    "verbosity=5\n",
    "train, test = make_ripper_dataset(filename, random_state=random_state)\n",
    "timer = Timer()\n",
    "ripper_clf = make_ripper(train, class_feat, pos_class, k=2, random_state=random_state, verbosity=verbosity)\n",
    "timer.buzz()\n",
    "#ripper_precision, ripper_recall, ripper_conds = score_ripper(ripper_clf, test, class_feat)\n",
    "#ripper_precision, ripper_recall, ripper_conds"
   ]
  },
  {
   "cell_type": "markdown",
   "metadata": {},
   "source": [
    "Should ruleset best dl be simply the best subset, rather than removing rules piecemeal?"
   ]
  },
  {
   "cell_type": "code",
   "execution_count": null,
   "metadata": {},
   "outputs": [],
   "source": [
    "# Set up\n",
    "dataset = 'tic-tac-toe.csv'\n",
    "filename = datasets_path + dataset\n",
    "class_feat = 'Class'\n",
    "pos_class = 'positive'\n",
    "n_classes = 2\n",
    "random_state=30"
   ]
  },
  {
   "cell_type": "code",
   "execution_count": null,
   "metadata": {},
   "outputs": [],
   "source": [
    "# Run ripper\n",
    "random_state=2\n",
    "verbosity=2\n",
    "train, test = make_ripper_dataset(filename, random_state=random_state)\n",
    "timer = Timer()\n",
    "ripper_clf = make_ripper(train, class_feat, pos_class, k=k, random_state=random_state, verbosity=verbosity)\n",
    "timer.buzz()\n",
    "#ripper_precision, ripper_recall, ripper_conds = score_ripper(ripper_clf, test, class_feat)\n",
    "#ripper_precision, ripper_recall, ripper_conds"
   ]
  },
  {
   "cell_type": "code",
   "execution_count": null,
   "metadata": {},
   "outputs": [],
   "source": [
    "score_ripper(ripper_clf, test, class_feat)"
   ]
  },
  {
   "cell_type": "code",
   "execution_count": null,
   "metadata": {},
   "outputs": [],
   "source": [
    "# Run tree\n",
    "import math\n",
    "tree_train_X, tree_train_y, tree_test_X, tree_test_y = make_tree_dataset(filename, class_feat, pos_class, n_classes, bin_transformer=None, random_state=random_state)\n",
    "tree_clf = make_tree(tree_train_X, tree_train_y, max_depth=math.log2(ripper_clf.ruleset_.count_conds()), random_state=random_state)\n",
    "tree_precision, tree_recall, tree_nodes = score_tree(tree_clf, tree_test_X, tree_test_y)\n",
    "tree_precision, tree_recall, tree_nodes"
   ]
  },
  {
   "cell_type": "code",
   "execution_count": null,
   "metadata": {},
   "outputs": [],
   "source": [
    "from sklearn.externals.six import StringIO  \n",
    "from IPython.display import Image  \n",
    "from sklearn.tree import export_graphviz\n",
    "import pydotplus\n",
    "dot_data = StringIO()\n",
    "export_graphviz(tree_clf, out_file=dot_data,  \n",
    "                filled=True, rounded=True,\n",
    "                special_characters=True)\n",
    "graph = pydotplus.graph_from_dot_data(dot_data.getvalue())  \n",
    "Image(graph.create_png())"
   ]
  },
  {
   "cell_type": "code",
   "execution_count": null,
   "metadata": {},
   "outputs": [],
   "source": [
    "# Run tree\n",
    "import math\n",
    "tree_train_X, tree_train_y, tree_test_X, tree_test_y = make_tree_dataset(filename, class_feat, pos_class, n_classes, bin_transformer=None, random_state=random_state)\n",
    "tree_clf = make_tree(tree_train_X, tree_train_y, random_state=random_state)\n",
    "tree_precision, tree_recall, tree_nodes = score_tree(tree_clf, tree_test_X, tree_test_y)\n",
    "tree_precision, tree_recall, tree_nodes"
   ]
  },
  {
   "cell_type": "code",
   "execution_count": null,
   "metadata": {},
   "outputs": [],
   "source": [
    "# Run ripper\n",
    "random_state=2\n",
    "verbosity=2\n",
    "k=2\n",
    "train, test = make_ripper_dataset(filename, random_state=random_state)\n",
    "timer = Timer()\n",
    "ripper_clf = make_ripper(train, class_feat, pos_class, k=k, random_state=random_state, verbosity=verbosity)\n",
    "timer.buzz()\n",
    "#ripper_precision, ripper_recall, ripper_conds = score_ripper(ripper_clf, test, class_feat)\n",
    "#ripper_precision, ripper_recall, ripper_conds"
   ]
  },
  {
   "cell_type": "code",
   "execution_count": null,
   "metadata": {},
   "outputs": [],
   "source": [
    "score_ripper(ripper_clf, test, class_feat)"
   ]
  },
  {
   "cell_type": "code",
   "execution_count": null,
   "metadata": {},
   "outputs": [],
   "source": [
    "# Run tree\n",
    "import math\n",
    "tree_train_X, tree_train_y, tree_test_X, tree_test_y = make_tree_dataset(filename, class_feat, pos_class, n_classes, bin_transformer=None, random_state=random_state)\n",
    "tree_clf = make_tree(tree_train_X, tree_train_y, random_state=random_state)\n",
    "tree_precision, tree_recall, tree_nodes = score_tree(tree_clf, tree_test_X, tree_test_y)\n",
    "tree_precision, tree_recall, tree_nodes"
   ]
  },
  {
   "cell_type": "code",
   "execution_count": null,
   "metadata": {},
   "outputs": [],
   "source": [
    "# Run tree\n",
    "tree_train_X, tree_train_y, tree_test_X, tree_test_y = make_tree_dataset(filename, class_feat, pos_class, n_classes, bin_transformer=None, random_state=random_state)\n",
    "tree_clf = make_tree(tree_train_X, tree_train_y, max_depth=1, random_state=random_state)\n",
    "tree_precision, tree_recall, tree_nodes = score_tree(tree_clf, tree_test_X, tree_test_y)\n",
    "tree_precision, tree_recall, tree_nodes"
   ]
  },
  {
   "cell_type": "code",
   "execution_count": null,
   "metadata": {},
   "outputs": [],
   "source": [
    "# Set up\n",
    "dataset = 'kr-vs-kp.csv'\n",
    "filename = datasets_path + dataset\n",
    "class_feat = 'won/lost'\n",
    "pos_class = 'won'\n",
    "n_classes = 2\n",
    "random_state = 42\n",
    "k=2"
   ]
  },
  {
   "cell_type": "code",
   "execution_count": null,
   "metadata": {},
   "outputs": [],
   "source": [
    "# Run ripper\n",
    "random_state=2\n",
    "verbosity=2\n",
    "k=2\n",
    "train, test = make_ripper_dataset(filename, random_state=random_state)\n",
    "timer = Timer()\n",
    "ripper_clf = make_ripper(train, class_feat, pos_class, k=k, random_state=random_state, verbosity=verbosity)\n",
    "timer.buzz()\n",
    "#ripper_precision, ripper_recall, ripper_conds = score_ripper(ripper_clf, test, class_feat)\n",
    "#ripper_precision, ripper_recall, ripper_conds"
   ]
  },
  {
   "cell_type": "code",
   "execution_count": null,
   "metadata": {},
   "outputs": [],
   "source": [
    "score_ripper(ripper_clf, test, class_feat)"
   ]
  },
  {
   "cell_type": "code",
   "execution_count": null,
   "metadata": {},
   "outputs": [],
   "source": [
    "# Run tree\n",
    "tree_train_X, tree_train_y, tree_test_X, tree_test_y = make_tree_dataset(filename, class_feat, pos_class, n_classes, bin_transformer=None, random_state=random_state)\n",
    "tree_clf = make_tree(tree_train_X, tree_train_y, random_state=random_state)\n",
    "tree_precision, tree_recall, tree_nodes = score_tree(tree_clf, tree_test_X, tree_test_y)\n",
    "tree_precision, tree_recall, tree_nodes"
   ]
  },
  {
   "cell_type": "code",
   "execution_count": null,
   "metadata": {},
   "outputs": [],
   "source": [
    "from ripper import Rule, Cond\n",
    "ripper_clf.ruleset_._set_possible_conds(train,train)\n",
    "% timeit ripper.r_theory_bits(Rule([Cond('Quadrant','left_up'),Cond('Irradiat','no'),Cond('Age','40-49')]),ripper_clf.ruleset_.possible_conds, verbosity=verbosity)"
   ]
  },
  {
   "cell_type": "code",
   "execution_count": null,
   "metadata": {},
   "outputs": [],
   "source": [
    "%timeit ripper_clf.ruleset_.covers(test)"
   ]
  },
  {
   "cell_type": "code",
   "execution_count": null,
   "metadata": {},
   "outputs": [],
   "source": [
    "# Set up\n",
    "dataset = 'soybean-small.csv'\n",
    "filename = datasets_path + dataset\n",
    "class_feat = 'class'\n",
    "pos_class = 'D1'\n",
    "n_classes = 2\n",
    "random_state = 0\n",
    "k=2"
   ]
  },
  {
   "cell_type": "code",
   "execution_count": null,
   "metadata": {},
   "outputs": [],
   "source": [
    "# Run tree\n",
    "tree_train_X, tree_train_y, tree_test_X, tree_test_y = make_tree_dataset(filename, class_feat, pos_class, n_classes, bin_transformer=None, random_state=random_state)\n",
    "tree_clf = make_tree(tree_train_X, tree_train_y, random_state=random_state)\n",
    "tree_precision, tree_recall, tree_nodes = score_tree(tree_clf, tree_test_X, tree_test_y)\n",
    "tree_precision, tree_recall, tree_nodes"
   ]
  },
  {
   "cell_type": "code",
   "execution_count": null,
   "metadata": {},
   "outputs": [],
   "source": [
    "tree_clf.predict(tree_train_X)[0]==False"
   ]
  },
  {
   "cell_type": "code",
   "execution_count": null,
   "metadata": {},
   "outputs": [],
   "source": [
    "from sklearn.externals.six import StringIO  \n",
    "from IPython.display import Image  \n",
    "from sklearn.tree import export_graphviz\n",
    "import pydotplus\n",
    "dot_data = StringIO()\n",
    "export_graphviz(tree_clf, out_file=dot_data,  \n",
    "                filled=True, rounded=True,\n",
    "                special_characters=True)\n",
    "graph = pydotplus.graph_from_dot_data(dot_data.getvalue())  \n",
    "Image(graph.create_png())"
   ]
  },
  {
   "cell_type": "code",
   "execution_count": null,
   "metadata": {},
   "outputs": [],
   "source": [
    "ripper.r_theory_bits(Rule([Cond('a','a'),Cond('a','a')]),[1,2,3,5,6,7,8])"
   ]
  },
  {
   "cell_type": "code",
   "execution_count": null,
   "metadata": {},
   "outputs": [],
   "source": []
  }
 ],
 "metadata": {
  "kernelspec": {
   "display_name": "Python 3",
   "language": "python",
   "name": "python3"
  },
  "language_info": {
   "codemirror_mode": {
    "name": "ipython",
    "version": 3
   },
   "file_extension": ".py",
   "mimetype": "text/x-python",
   "name": "python",
   "nbconvert_exporter": "python",
   "pygments_lexer": "ipython3",
   "version": "3.6.6"
  }
 },
 "nbformat": 4,
 "nbformat_minor": 2
}
