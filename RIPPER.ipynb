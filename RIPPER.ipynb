{
 "cells": [
  {
   "cell_type": "code",
   "execution_count": 1,
   "metadata": {},
   "outputs": [],
   "source": [
    "import pandas as pd"
   ]
  },
  {
   "cell_type": "code",
   "execution_count": 2,
   "metadata": {},
   "outputs": [],
   "source": [
    "from sklearn.model_selection import train_test_split\n",
    "from sklearn.preprocessing import OneHotEncoder, LabelEncoder\n",
    "from sklearn.metrics import precision_score, recall_score"
   ]
  },
  {
   "cell_type": "code",
   "execution_count": 3,
   "metadata": {},
   "outputs": [],
   "source": [
    "import ripper\n",
    "\n",
    "def make_ripper_dataset(dataset_filename, random_state=42):\n",
    "    # Load df\n",
    "    df = pd.read_csv(dataset_filename)\n",
    "    \n",
    "    # Split\n",
    "    train, test = train_test_split(df, test_size=.33, random_state=random_state)\n",
    "    \n",
    "    return train, test"
   ]
  },
  {
   "cell_type": "code",
   "execution_count": 4,
   "metadata": {},
   "outputs": [],
   "source": [
    "def make_ripper(train, class_feat, pos_class, random_state=42):\n",
    "    # Train\n",
    "    irep_clf = ripper.RIPPER(class_feat=class_feat,pos_class=pos_class)\n",
    "    irep_clf.fit(train, seed=random_state, prune=True, verbose=True)\n",
    "    return irep_clf"
   ]
  },
  {
   "cell_type": "code",
   "execution_count": 5,
   "metadata": {},
   "outputs": [],
   "source": [
    "def score_ripper(ripper_clf, test, class_feat):\n",
    "    X_test = test.drop(class_feat,axis=1)\n",
    "    y_test = test[class_feat]\n",
    "\n",
    "    precision = ripper_clf.score(X_test, y_test, precision_score)\n",
    "    recall = ripper_clf.score(X_test, y_test, recall_score)\n",
    "    total_conds = ripper_clf.ruleset_.count_conds()\n",
    "    return precision, recall, total_conds"
   ]
  },
  {
   "cell_type": "code",
   "execution_count": 6,
   "metadata": {},
   "outputs": [],
   "source": [
    "datasets_path = '../datasets/'\n",
    "random_state = 0"
   ]
  },
  {
   "cell_type": "code",
   "execution_count": 7,
   "metadata": {},
   "outputs": [],
   "source": [
    "# Set up\n",
    "dataset = 'house-votes-84.csv'\n",
    "filename = datasets_path + dataset\n",
    "class_feat = 'Party'\n",
    "pos_class = 'democrat'\n",
    "n_classes = 2"
   ]
  },
  {
   "cell_type": "code",
   "execution_count": 8,
   "metadata": {},
   "outputs": [
    {
     "name": "stdout",
     "output_type": "stream",
     "text": [
      "grew rule: [physician-fee-freeze=n^adoption-of-the-budget-resolution=y]\n",
      "on pruneset iter, p_covered 103 n_covered 0\n",
      "on pruneset iter, p_covered 113 n_covered 1\n",
      "pruned rule: [physician-fee-freeze=n^adoption-of-the-budget-resolution=y]\n",
      "rule_bits| rule [physician-fee-freeze=n^adoption-of-the-budget-resolution=y] k 2 n 48 pr 0.041666666666666664: rule_bits 6.5\n",
      "exceptions_bits| P 183 p 154 fp 0 fn 29: exceptions_bits 0.0\n",
      "Rule [physician-fee-freeze=n^adoption-of-the-budget-resolution=y] total_bits 6.5\n",
      "examples remaining: 29 pos, 108 neg\n",
      "smallest_dl 6.5\n",
      "\n",
      "grew rule: [synfuels-corporation-cutback=y^export-administration-act-south-africa=n]\n",
      "on pruneset iter, p_covered 3 n_covered 2\n",
      "on pruneset iter, p_covered 12 n_covered 8\n",
      "pruned rule: [synfuels-corporation-cutback=y^export-administration-act-south-africa=n]\n",
      "rule_bits| rule [synfuels-corporation-cutback=y^export-administration-act-south-africa=n] k 2 n 48 pr 0.041666666666666664: rule_bits 6.5\n",
      "exceptions_bits| P 29 p 6 fp 2 fn 23: exceptions_bits 3.91\n",
      "Rule [synfuels-corporation-cutback=y^export-administration-act-south-africa=n] total_bits 10.4\n",
      "examples remaining: 23 pos, 106 neg\n",
      "smallest_dl 6.5\n",
      "\n",
      "grew rule: [el-salvador-aid=n^Water-project-cost-sharing=y]\n",
      "on pruneset iter, p_covered 2 n_covered 0\n",
      "on pruneset iter, p_covered 7 n_covered 3\n",
      "pruned rule: [el-salvador-aid=n^Water-project-cost-sharing=y]\n",
      "rule_bits| rule [el-salvador-aid=n^Water-project-cost-sharing=y] k 2 n 48 pr 0.041666666666666664: rule_bits 6.5\n",
      "exceptions_bits| P 23 p 5 fp 0 fn 18: exceptions_bits 0.0\n",
      "Rule [el-salvador-aid=n^Water-project-cost-sharing=y] total_bits 6.5\n",
      "examples remaining: 18 pos, 106 neg\n",
      "smallest_dl 6.5\n",
      "\n",
      "grew rule: [mx-missile=y^anti-satellite-test-ban=n]\n",
      "on pruneset iter, p_covered 0 n_covered 0\n",
      "on pruneset iter, p_covered 6 n_covered 6\n",
      "pruned rule: [mx-missile=y^anti-satellite-test-ban=n]\n",
      "rule_bits| rule [mx-missile=y^anti-satellite-test-ban=n] k 2 n 48 pr 0.041666666666666664: rule_bits 6.5\n",
      "exceptions_bits| P 18 p 2 fp 0 fn 16: exceptions_bits 0.0\n",
      "Rule [mx-missile=y^anti-satellite-test-ban=n] total_bits 6.5\n",
      "examples remaining: 16 pos, 106 neg\n",
      "smallest_dl 6.5\n",
      "\n",
      "grew rule: [physician-fee-freeze=?^Handicapped-infants=n]\n",
      "on pruneset iter, p_covered 1 n_covered 0\n",
      "on pruneset iter, p_covered 2 n_covered 0\n",
      "pruned rule: [physician-fee-freeze=?^Handicapped-infants=n]\n",
      "rule_bits| rule [physician-fee-freeze=?^Handicapped-infants=n] k 2 n 48 pr 0.041666666666666664: rule_bits 6.5\n",
      "exceptions_bits| P 16 p 2 fp 0 fn 14: exceptions_bits 0.0\n",
      "Rule [physician-fee-freeze=?^Handicapped-infants=n] total_bits 6.5\n",
      "examples remaining: 14 pos, 106 neg\n",
      "smallest_dl 6.5\n",
      "\n",
      "grew rule: [adoption-of-the-budget-resolution=?^mx-missile=y]\n",
      "on pruneset iter, p_covered 1 n_covered 0\n",
      "on pruneset iter, p_covered 1 n_covered 1\n",
      "pruned rule: [adoption-of-the-budget-resolution=?^mx-missile=y]\n",
      "rule_bits| rule [adoption-of-the-budget-resolution=?^mx-missile=y] k 2 n 48 pr 0.041666666666666664: rule_bits 6.5\n",
      "exceptions_bits| P 14 p 3 fp 0 fn 11: exceptions_bits 0.0\n",
      "Rule [adoption-of-the-budget-resolution=?^mx-missile=y] total_bits 6.5\n",
      "examples remaining: 11 pos, 106 neg\n",
      "smallest_dl 6.5\n",
      "\n",
      "grew rule: [physician-fee-freeze=n^immigration=y]\n",
      "on pruneset iter, p_covered 2 n_covered 1\n",
      "on pruneset iter, p_covered 6 n_covered 1\n",
      "pruned rule: [physician-fee-freeze=n]\n",
      "rule_bits| rule [physician-fee-freeze=n] k 1 n 38 pr 0.02631578947368421: rule_bits 3.34\n",
      "exceptions_bits| P 11 p 8 fp 2 fn 3: exceptions_bits 4.81\n",
      "Rule [physician-fee-freeze=n] total_bits 8.14\n",
      "examples remaining: 3 pos, 104 neg\n",
      "smallest_dl 6.5\n",
      "\n"
     ]
    },
    {
     "data": {
      "text/plain": [
       "(0.8901098901098901, 0.9642857142857143, 13)"
      ]
     },
     "execution_count": 8,
     "metadata": {},
     "output_type": "execute_result"
    }
   ],
   "source": [
    "# Run ripper\n",
    "train, test = make_ripper_dataset(filename, random_state=random_state)\n",
    "ripper_clf = make_ripper(train, class_feat, pos_class, random_state=random_state)\n",
    "ripper_precision, ripper_recall, ripper_conds = score_ripper(ripper_clf, test, class_feat)\n",
    "ripper_precision, ripper_recall, ripper_conds"
   ]
  },
  {
   "cell_type": "code",
   "execution_count": 9,
   "metadata": {},
   "outputs": [
    {
     "data": {
      "text/plain": [
       "<IREP object fit ruleset=[[physician-fee-freeze=n^adoption-of-the-budget-resolution=y]v[synfuels-corporation-cutback=y^export-administration-act-south-africa=n]v[el-salvador-aid=n^Water-project-cost-sharing=y]v[mx-missile=y^anti-satellite-test-ban=n]v[physician-fee-freeze=?^Handicapped-infants=n]v[adoption-of-the-budget-resolution=?^mx-missile=y]v[physician-fee-freeze=n]]>"
      ]
     },
     "execution_count": 9,
     "metadata": {},
     "output_type": "execute_result"
    }
   ],
   "source": [
    "ripper_clf"
   ]
  },
  {
   "cell_type": "code",
   "execution_count": null,
   "metadata": {},
   "outputs": [],
   "source": []
  }
 ],
 "metadata": {
  "kernelspec": {
   "display_name": "Python 3",
   "language": "python",
   "name": "python3"
  },
  "language_info": {
   "codemirror_mode": {
    "name": "ipython",
    "version": 3
   },
   "file_extension": ".py",
   "mimetype": "text/x-python",
   "name": "python",
   "nbconvert_exporter": "python",
   "pygments_lexer": "ipython3",
   "version": "3.6.6"
  }
 },
 "nbformat": 4,
 "nbformat_minor": 2
}
