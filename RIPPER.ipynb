{
 "cells": [
  {
   "cell_type": "code",
   "execution_count": 1,
   "metadata": {},
   "outputs": [],
   "source": [
    "import pandas as pd\n",
    "from base import Timer"
   ]
  },
  {
   "cell_type": "code",
   "execution_count": 2,
   "metadata": {},
   "outputs": [],
   "source": [
    "from sklearn.model_selection import train_test_split\n",
    "from sklearn.preprocessing import OneHotEncoder, LabelEncoder\n",
    "from sklearn.metrics import precision_score, recall_score"
   ]
  },
  {
   "cell_type": "code",
   "execution_count": 3,
   "metadata": {},
   "outputs": [],
   "source": [
    "import ripper\n",
    "\n",
    "def make_ripper_dataset(dataset_filename, random_state=42):\n",
    "    # Load df\n",
    "    df = pd.read_csv(dataset_filename)\n",
    "    \n",
    "    # Split\n",
    "    train, test = train_test_split(df, test_size=.33, random_state=random_state)\n",
    "    \n",
    "    return train, test"
   ]
  },
  {
   "cell_type": "code",
   "execution_count": 4,
   "metadata": {},
   "outputs": [],
   "source": [
    "def make_ripper(train, class_feat, pos_class, k=1, random_state=42, verbosity=0):\n",
    "    # Train\n",
    "    irep_clf = ripper.RIPPER(class_feat=class_feat,pos_class=pos_class, k=k, verbosity=verbosity)\n",
    "    irep_clf.fit(train, n_discretize_bins=5, seed=random_state)\n",
    "    return irep_clf"
   ]
  },
  {
   "cell_type": "code",
   "execution_count": 5,
   "metadata": {},
   "outputs": [],
   "source": [
    "def score_ripper(ripper_clf, test, class_feat):\n",
    "    X_test = test.drop(class_feat,axis=1)\n",
    "    y_test = test[class_feat]\n",
    "\n",
    "    precision = ripper_clf.score(X_test, y_test, precision_score)\n",
    "    recall = ripper_clf.score(X_test, y_test, recall_score)\n",
    "    total_conds = ripper_clf.ruleset_.count_conds()\n",
    "    return precision, recall, total_conds"
   ]
  },
  {
   "cell_type": "code",
   "execution_count": 6,
   "metadata": {},
   "outputs": [],
   "source": [
    "datasets_path = '../datasets/'\n",
    "random_state = 0"
   ]
  },
  {
   "cell_type": "code",
   "execution_count": 7,
   "metadata": {},
   "outputs": [],
   "source": [
    "# Set up\n",
    "dataset = 'house-votes-84.csv'\n",
    "filename = datasets_path + dataset\n",
    "class_feat = 'Party'\n",
    "pos_class = 'democrat'\n",
    "n_classes = 2\n",
    "random_state=42\n",
    "k=5"
   ]
  },
  {
   "cell_type": "code",
   "execution_count": 10,
   "metadata": {},
   "outputs": [
    {
     "name": "stdout",
     "output_type": "stream",
     "text": [
      "growing ruleset...\n",
      "\n",
      "pos_growset 121 pos_pruneset 60\n",
      "neg_growset 73 neg_pruneset 37\n",
      "pruned rule unchanged\n",
      "updated ruleset: [physician-fee-freeze=n^adoption-of-the-budget-resolution=y]\n",
      "\n",
      "pos_growset 20 pos_pruneset 10\n",
      "neg_growset 73 neg_pruneset 37\n",
      "pruned rule unchanged\n",
      "updated ruleset: ...eze=n^adoption-of-the-budget-resolution=y] V [physician-fee-freeze=n^synfuels-corporation-cutback=y]\n",
      "\n",
      "pos_growset 12 pos_pruneset 7\n",
      "neg_growset 73 neg_pruneset 37\n",
      "pruned rule unchanged\n",
      "updated ruleset: ...corporation-cutback=y] V [education-spending=n^religious-groups-in-schools=y^physician-fee-freeze=?]\n",
      "\n",
      "pos_growset 10 pos_pruneset 5\n",
      "neg_growset 73 neg_pruneset 37\n",
      "pruned rule: [physician-fee-freeze=n]\n",
      "updated ruleset: ...ducation-spending=n^religious-groups-in-schools=y^physician-fee-freeze=?] V [physician-fee-freeze=n]\n",
      "\n",
      "pos_growset 6 pos_pruneset 3\n",
      "neg_growset 72 neg_pruneset 36\n",
      "pruned rule unchanged\n",
      "updated ruleset: ...an-fee-freeze=n] V [synfuels-corporation-cutback=y^immigration=n^Handicapped-infants=y^mx-missile=y]\n",
      "\n",
      "pos_growset 4 pos_pruneset 3\n",
      "neg_growset 72 neg_pruneset 36\n",
      "pruned rule unchanged\n",
      "updated ruleset: ...igration=n^Handicapped-infants=y^mx-missile=y] V [adoption-of-the-budget-resolution=y^immigration=n]\n",
      "\n",
      "pos_growset 2 pos_pruneset 1\n",
      "neg_growset 71 neg_pruneset 36\n",
      "pruned rule unchanged\n",
      "updated ruleset: ...olution=y^immigration=n] V [education-spending=n^Handicapped-infants=n^Water-project-cost-sharing=y]\n",
      "\n",
      "pos_growset 0 pos_pruneset 1\n",
      "neg_growset 71 neg_pruneset 35\n",
      "\n",
      "GREW INITIAL RULESET:\n",
      "[[physician-fee-freeze=n^adoption-of-the-budget-resolution=y]V\n",
      "[physician-fee-freeze=n^synfuels-corporation-cutback=y]V\n",
      "[education-spending=n^religious-groups-in-schools=y^physician-fee-freeze=?]V\n",
      "[physician-fee-freeze=n]V\n",
      "[synfuels-corporation-cutback=y^immigration=n^Handicapped-infants=y^mx-missile=y]V\n",
      "[adoption-of-the-budget-resolution=y^immigration=n]V\n",
      "[education-spending=n^Handicapped-infants=n^Water-project-cost-sharing=y]]\n",
      "\n",
      "optimization run 1 of 2\n",
      "optimizing ruleset...\n",
      "\n",
      "rule 1 of 7\n",
      "original: [physician-fee-freeze=n^adoption-of-the-budget-resolution=y]\n",
      "replacement: [physician-fee-freeze=n]\n",
      "revision: [physician-fee-freeze=n]\n",
      "*best: [physician-fee-freeze=n]\n",
      "\n",
      "rule 2 of 7\n",
      "original: [physician-fee-freeze=n^synfuels-corporation-cutback=y]\n",
      "replacement: [education-spending=n^religious-groups-in-schools=y^physician-fee-freeze=?]\n",
      "revision: [physician-fee-freeze=n]\n",
      "*best: [education-spending=n^religious-groups-in-schools=y^physician-fee-freeze=?]\n",
      "\n",
      "rule 3 of 7\n",
      "original: [education-spending=n^religious-groups-in-schools=y^physician-fee-freeze=?]\n",
      "replacement: [education-spending=n^religious-groups-in-schools=y^mx-missile=y]\n",
      "revision: unchanged\n",
      "*best: [education-spending=n^religious-groups-in-schools=y^mx-missile=y]\n",
      "\n",
      "rule 4 of 7\n",
      "original: [physician-fee-freeze=n]\n",
      "replacement: unchanged\n",
      "revision: unchanged\n",
      "*best: unchanged\n",
      "\n",
      "rule 5 of 7\n",
      "original: [synfuels-corporation-cutback=y^immigration=n^Handicapped-infants=y^mx-missile=y]\n",
      "replacement: [adoption-of-the-budget-resolution=y^Water-project-cost-sharing=y]\n",
      "revision: [synfuels-corporation-cutback=y^immigration=n^Handicapped-infants=y]\n",
      "*best: [adoption-of-the-budget-resolution=y^Water-project-cost-sharing=y]\n",
      "\n",
      "rule 6 of 7\n",
      "original: [adoption-of-the-budget-resolution=y^immigration=n]\n",
      "replacement: [adoption-of-the-budget-resolution=y^Water-project-cost-sharing=y]\n",
      "revision: unchanged\n",
      "*best: [adoption-of-the-budget-resolution=y^Water-project-cost-sharing=y]\n",
      "\n",
      "rule 7 of 7\n",
      "original: [education-spending=n^Handicapped-infants=n^Water-project-cost-sharing=y]\n",
      "replacement: [education-spending=n^Water-project-cost-sharing=y]\n",
      "revision: unchanged\n",
      "*best: [education-spending=n^Water-project-cost-sharing=y]\n",
      "\n",
      "\n",
      "OPTIMIZED RULESET:\n",
      "iteration 1 of 2\n",
      " modified rules [0, 1, 2, 4, 5, 6]\n",
      "[[physician-fee-freeze=n]V\n",
      "[education-spending=n^religious-groups-in-schools=y^physician-fee-freeze=?]V\n",
      "[education-spending=n^religious-groups-in-schools=y^mx-missile=y]V\n",
      "[physician-fee-freeze=n]V\n",
      "[adoption-of-the-budget-resolution=y^Water-project-cost-sharing=y]V\n",
      "[adoption-of-the-budget-resolution=y^Water-project-cost-sharing=y]V\n",
      "[education-spending=n^Water-project-cost-sharing=y]]\n",
      "\n",
      "optimization run 2 of 2\n",
      "optimizing ruleset...\n",
      "\n",
      "rule 1 of 7\n",
      "original: [physician-fee-freeze=n]\n",
      "replacement: unchanged\n",
      "revision: unchanged\n",
      "*best: unchanged\n",
      "\n",
      "rule 2 of 7\n",
      "original: [education-spending=n^religious-groups-in-schools=y^physician-fee-freeze=?]\n",
      "replacement: [adoption-of-the-budget-resolution=y^Water-project-cost-sharing=y]\n",
      "revision: unchanged\n",
      "*best: [adoption-of-the-budget-resolution=y^Water-project-cost-sharing=y]\n",
      "\n",
      "rule 3 of 7\n",
      "original: [education-spending=n^religious-groups-in-schools=y^mx-missile=y]\n",
      "replacement: [adoption-of-the-budget-resolution=y^Water-project-cost-sharing=y]\n",
      "revision: unchanged\n",
      "*best: [adoption-of-the-budget-resolution=y^Water-project-cost-sharing=y]\n",
      "\n",
      "rule 4 of 7\n",
      "original: [physician-fee-freeze=n]\n",
      "replacement: [synfuels-corporation-cutback=y^education-spending=n]\n",
      "revision: unchanged\n",
      "*best: [synfuels-corporation-cutback=y^education-spending=n]\n",
      "\n",
      "rule 5 of 7\n",
      "original: [adoption-of-the-budget-resolution=y^Water-project-cost-sharing=y]\n",
      "replacement: [synfuels-corporation-cutback=y^education-spending=n]\n",
      "revision: unchanged\n",
      "*best: [synfuels-corporation-cutback=y^education-spending=n]\n",
      "\n",
      "rule 6 of 7\n",
      "original: [adoption-of-the-budget-resolution=y^Water-project-cost-sharing=y]\n",
      "replacement: [education-spending=n^synfuels-corporation-cutback=y]\n",
      "revision: unchanged\n",
      "*best: [education-spending=n^synfuels-corporation-cutback=y]\n",
      "\n",
      "rule 7 of 7\n",
      "original: [education-spending=n^Water-project-cost-sharing=y]\n",
      "replacement: [education-spending=n^synfuels-corporation-cutback=y^el-salvador-aid=n]\n",
      "revision: unchanged\n",
      "*best: [education-spending=n^synfuels-corporation-cutback=y^el-salvador-aid=n]\n",
      "\n",
      "\n",
      "OPTIMIZED RULESET:\n",
      "iteration 2 of 2\n",
      " modified rules [1, 2, 3, 4, 5, 6]\n",
      "[[physician-fee-freeze=n]V\n",
      "[adoption-of-the-budget-resolution=y^Water-project-cost-sharing=y]V\n",
      "[adoption-of-the-budget-resolution=y^Water-project-cost-sharing=y]V\n",
      "[synfuels-corporation-cutback=y^education-spending=n]V\n",
      "[synfuels-corporation-cutback=y^education-spending=n]V\n",
      "[education-spending=n^synfuels-corporation-cutback=y]V\n",
      "[education-spending=n^synfuels-corporation-cutback=y^el-salvador-aid=n]]\n",
      "\n",
      "27 pos left. Growing final rules...\n",
      "growing ruleset...\n",
      "\n",
      "pos_growset 121 pos_pruneset 60\n",
      "neg_growset 73 neg_pruneset 37\n",
      "pruned rule unchanged\n",
      "updated ruleset: ...poration-cutback=y^el-salvador-aid=n] V [physician-fee-freeze=n^adoption-of-the-budget-resolution=y]\n",
      "\n",
      "pos_growset 20 pos_pruneset 10\n",
      "neg_growset 73 neg_pruneset 37\n",
      "pruned rule unchanged\n",
      "updated ruleset: ...eze=n^adoption-of-the-budget-resolution=y] V [physician-fee-freeze=n^synfuels-corporation-cutback=y]\n",
      "\n",
      "pos_growset 12 pos_pruneset 7\n",
      "neg_growset 73 neg_pruneset 37\n",
      "pruned rule unchanged\n",
      "updated ruleset: ...corporation-cutback=y] V [education-spending=n^religious-groups-in-schools=y^physician-fee-freeze=?]\n",
      "\n",
      "pos_growset 10 pos_pruneset 5\n",
      "neg_growset 73 neg_pruneset 37\n",
      "pruned rule: [physician-fee-freeze=n]\n",
      "updated ruleset: ...ducation-spending=n^religious-groups-in-schools=y^physician-fee-freeze=?] V [physician-fee-freeze=n]\n",
      "\n",
      "pos_growset 6 pos_pruneset 3\n",
      "neg_growset 72 neg_pruneset 36\n",
      "pruned rule unchanged\n",
      "updated ruleset: ...an-fee-freeze=n] V [synfuels-corporation-cutback=y^immigration=n^Handicapped-infants=y^mx-missile=y]\n",
      "\n",
      "pos_growset 4 pos_pruneset 3\n",
      "neg_growset 72 neg_pruneset 36\n",
      "pruned rule unchanged\n",
      "updated ruleset: ...igration=n^Handicapped-infants=y^mx-missile=y] V [adoption-of-the-budget-resolution=y^immigration=n]\n",
      "\n",
      "pos_growset 2 pos_pruneset 1\n",
      "neg_growset 71 neg_pruneset 36\n",
      "pruned rule unchanged\n",
      "updated ruleset: ...olution=y^immigration=n] V [education-spending=n^Handicapped-infants=n^Water-project-cost-sharing=y]\n",
      "\n",
      "pos_growset 0 pos_pruneset 1\n",
      "neg_growset 71 neg_pruneset 35\n",
      "GREW FINAL RULES\n",
      "[[physician-fee-freeze=n]V\n",
      "[adoption-of-the-budget-resolution=y^Water-project-cost-sharing=y]V\n",
      "[adoption-of-the-budget-resolution=y^Water-project-cost-sharing=y]V\n",
      "[synfuels-corporation-cutback=y^education-spending=n]V\n",
      "[synfuels-corporation-cutback=y^education-spending=n]V\n",
      "[education-spending=n^synfuels-corporation-cutback=y]V\n",
      "[education-spending=n^synfuels-corporation-cutback=y^el-salvador-aid=n]V\n",
      "[physician-fee-freeze=n^adoption-of-the-budget-resolution=y]V\n",
      "[physician-fee-freeze=n^synfuels-corporation-cutback=y]V\n",
      "[education-spending=n^religious-groups-in-schools=y^physician-fee-freeze=?]V\n",
      "[physician-fee-freeze=n]V\n",
      "[synfuels-corporation-cutback=y^immigration=n^Handicapped-infants=y^mx-missile=y]V\n",
      "[adoption-of-the-budget-resolution=y^immigration=n]V\n",
      "[education-spending=n^Handicapped-infants=n^Water-project-cost-sharing=y]]\n",
      "\n",
      "Optimizing dl...\n"
     ]
    },
    {
     "name": "stdout",
     "output_type": "stream",
     "text": [
      "FINAL RULESET:\n",
      "[[physician-fee-freeze=n]]\n",
      "\n"
     ]
    },
    {
     "data": {
      "text/plain": [
       "'30'"
      ]
     },
     "execution_count": 10,
     "metadata": {},
     "output_type": "execute_result"
    }
   ],
   "source": [
    "# Run ripper\n",
    "k=2\n",
    "random_state=2\n",
    "verbosity=2\n",
    "train, test = make_ripper_dataset(filename, random_state=random_state)\n",
    "timer = Timer()\n",
    "ripper_clf = make_ripper(train, class_feat, pos_class, k=k, random_state=random_state, verbosity=verbosity)\n",
    "timer.buzz()\n",
    "#ripper_precision, ripper_recall, ripper_conds = score_ripper(ripper_clf, test, class_feat)\n",
    "#ripper_precision, ripper_recall, ripper_conds"
   ]
  },
  {
   "cell_type": "code",
   "execution_count": 9,
   "metadata": {},
   "outputs": [
    {
     "ename": "NameError",
     "evalue": "name 'end' is not defined",
     "output_type": "error",
     "traceback": [
      "\u001b[0;31m---------------------------------------------------------------------------\u001b[0m",
      "\u001b[0;31mNameError\u001b[0m                                 Traceback (most recent call last)",
      "\u001b[0;32m<ipython-input-9-2ff02905e7b7>\u001b[0m in \u001b[0;36m<module>\u001b[0;34m()\u001b[0m\n\u001b[0;32m----> 1\u001b[0;31m \u001b[0mend\u001b[0m\u001b[0;34m\u001b[0m\u001b[0m\n\u001b[0m",
      "\u001b[0;31mNameError\u001b[0m: name 'end' is not defined"
     ]
    }
   ],
   "source": [
    "end"
   ]
  },
  {
   "cell_type": "code",
   "execution_count": null,
   "metadata": {},
   "outputs": [],
   "source": [
    "# Set up\n",
    "dataset = 'breast-cancer.csv'\n",
    "filename = datasets_path + dataset\n",
    "class_feat = 'Recurrence'\n",
    "pos_class = 'recurrence-events'\n",
    "n_classes = 2\n",
    "random_state=30"
   ]
  },
  {
   "cell_type": "code",
   "execution_count": null,
   "metadata": {},
   "outputs": [],
   "source": [
    "# Set up\n",
    "dataset = 'adult.csv'\n",
    "filename = datasets_path + dataset\n",
    "class_feat = 'income'\n",
    "pos_class = '>50K'\n",
    "n_classes = 2\n",
    "random_state = 0\n",
    "k=2"
   ]
  },
  {
   "cell_type": "code",
   "execution_count": null,
   "metadata": {},
   "outputs": [],
   "source": [
    "train, test = make_ripper_dataset(filename, random_state=random_state)"
   ]
  },
  {
   "cell_type": "code",
   "execution_count": null,
   "metadata": {},
   "outputs": [],
   "source": [
    "import pickle\n",
    "import base\n",
    "ripper_clf = pickle.load(open('ripper_clf.pkl','rb'))\n",
    "test_binned = base.bin_transform(test, ripper_clf.bin_transformer_)\n",
    "score_ripper(ripper_clf, test_binned, class_feat)"
   ]
  },
  {
   "cell_type": "code",
   "execution_count": null,
   "metadata": {},
   "outputs": [],
   "source": [
    "pos_test,neg_test=base.pos_neg_split(test_binned, class_feat, pos_class)\n",
    "len(pos_test)/len(test_binned)"
   ]
  },
  {
   "cell_type": "code",
   "execution_count": null,
   "metadata": {},
   "outputs": [],
   "source": [
    "from sklearn.tree import DecisionTreeClassifier\n",
    "\n",
    "def make_tree_dataset(dataset_filename, class_feat, pos_class, n_classes, bin_transformer, random_state=42):\n",
    "    \n",
    "    # Load df\n",
    "    df = pd.read_csv(dataset_filename)\n",
    "    if bin_transformer is not None:\n",
    "        df = base.bin_transform(df, bin_transformer)\n",
    "    \n",
    "    # DecisionTreeClassifier (of all things!) doesn't directly take categorical features.\n",
    "    # We need to one-hot preprocess the data to make it work.\n",
    "    le = LabelEncoder()\n",
    "    df_le=df.apply(le.fit_transform)\n",
    "    enc = OneHotEncoder(sparse=False)\n",
    "    enc.fit(df_le)\n",
    "    df_hot=enc.transform(df_le)\n",
    "    \n",
    "    # Split\n",
    "    train, test = train_test_split(df_hot, test_size=.33, random_state=random_state)\n",
    "    train_X = train[:,n_classes:]\n",
    "    train_y = train[:,0]\n",
    "    test_X = test[:,n_classes:]\n",
    "    test_y = test[:,0]\n",
    "    \n",
    "    return train_X, train_y, test_X, test_y"
   ]
  },
  {
   "cell_type": "code",
   "execution_count": null,
   "metadata": {},
   "outputs": [],
   "source": [
    "def make_tree(train_X, train_y, max_depth=None, random_state=42):\n",
    "    tree = DecisionTreeClassifier(max_depth=max_depth, random_state=random_state)\n",
    "    tree.fit(train_X, train_y)\n",
    "    return tree"
   ]
  },
  {
   "cell_type": "code",
   "execution_count": null,
   "metadata": {},
   "outputs": [],
   "source": [
    "def score_tree(tree_clf, test_X, test_y):\n",
    "    predictions = tree_clf.predict(test_X)\n",
    "    precision = precision_score(test_y, predictions)\n",
    "    recall = recall_score(test_y, predictions)\n",
    "    return precision, recall, tree_clf.tree_.node_count"
   ]
  },
  {
   "cell_type": "code",
   "execution_count": null,
   "metadata": {},
   "outputs": [],
   "source": [
    "# Run tree\n",
    "tree_train_X, tree_train_y, tree_test_X, tree_test_y = make_tree_dataset(filename, class_feat, pos_class, n_classes, bin_transformer=ripper_clf.bin_transformer_, random_state=random_state)\n",
    "tree_clf = make_tree(tree_train_X, tree_train_y, random_state=random_state)\n",
    "tree_precision, tree_recall, tree_nodes = score_tree(tree_clf, tree_test_X, tree_test_y)\n",
    "tree_precision, tree_recall, tree_nodes"
   ]
  },
  {
   "cell_type": "code",
   "execution_count": null,
   "metadata": {},
   "outputs": [],
   "source": [
    "ripper_clf.ruleset_.count_conds()"
   ]
  },
  {
   "cell_type": "code",
   "execution_count": null,
   "metadata": {},
   "outputs": [],
   "source": [
    "# Run tree\n",
    "import math\n",
    "tree_train_X, tree_train_y, tree_test_X, tree_test_y = make_tree_dataset(filename, class_feat, pos_class, n_classes, bin_transformer=ripper_clf.bin_transformer_, random_state=random_state)\n",
    "tree_clf = make_tree(tree_train_X, tree_train_y, max_depth=math.log2(ripper_clf.ruleset_.count_conds()), random_state=random_state)\n",
    "tree_precision, tree_recall, tree_nodes = score_tree(tree_clf, tree_test_X, tree_test_y)\n",
    "tree_precision, tree_recall, tree_nodes"
   ]
  },
  {
   "cell_type": "code",
   "execution_count": null,
   "metadata": {},
   "outputs": [],
   "source": [
    "end"
   ]
  },
  {
   "cell_type": "code",
   "execution_count": null,
   "metadata": {},
   "outputs": [],
   "source": []
  },
  {
   "cell_type": "code",
   "execution_count": null,
   "metadata": {},
   "outputs": [],
   "source": [
    "# Run ripper\n",
    "random_state=2\n",
    "verbosity=5\n",
    "train, test = make_ripper_dataset(filename, random_state=random_state)\n",
    "timer = Timer()\n",
    "ripper_clf = make_ripper(train, class_feat, pos_class, k=2, random_state=random_state, verbosity=verbosity)\n",
    "timer.buzz()\n",
    "#ripper_precision, ripper_recall, ripper_conds = score_ripper(ripper_clf, test, class_feat)\n",
    "#ripper_precision, ripper_recall, ripper_conds"
   ]
  },
  {
   "cell_type": "markdown",
   "metadata": {},
   "source": [
    "Should ruleset best dl be simply the best subset, rather than removing rules piecemeal?"
   ]
  },
  {
   "cell_type": "code",
   "execution_count": null,
   "metadata": {},
   "outputs": [],
   "source": [
    "# Set up\n",
    "dataset = 'tic-tac-toe.csv'\n",
    "filename = datasets_path + dataset\n",
    "class_feat = 'Class'\n",
    "pos_class = 'positive'\n",
    "n_classes = 2\n",
    "random_state=30"
   ]
  },
  {
   "cell_type": "code",
   "execution_count": null,
   "metadata": {},
   "outputs": [],
   "source": [
    "# Run ripper\n",
    "random_state=2\n",
    "verbosity=2\n",
    "train, test = make_ripper_dataset(filename, random_state=random_state)\n",
    "timer = Timer()\n",
    "ripper_clf = make_ripper(train, class_feat, pos_class, k=k, random_state=random_state, verbosity=verbosity)\n",
    "timer.buzz()\n",
    "#ripper_precision, ripper_recall, ripper_conds = score_ripper(ripper_clf, test, class_feat)\n",
    "#ripper_precision, ripper_recall, ripper_conds"
   ]
  },
  {
   "cell_type": "code",
   "execution_count": null,
   "metadata": {},
   "outputs": [],
   "source": [
    "score_ripper(ripper_clf, test, class_feat)"
   ]
  },
  {
   "cell_type": "code",
   "execution_count": null,
   "metadata": {},
   "outputs": [],
   "source": [
    "# Run tree\n",
    "import math\n",
    "tree_train_X, tree_train_y, tree_test_X, tree_test_y = make_tree_dataset(filename, class_feat, pos_class, n_classes, bin_transformer=None, random_state=random_state)\n",
    "tree_clf = make_tree(tree_train_X, tree_train_y, max_depth=math.log2(ripper_clf.ruleset_.count_conds()), random_state=random_state)\n",
    "tree_precision, tree_recall, tree_nodes = score_tree(tree_clf, tree_test_X, tree_test_y)\n",
    "tree_precision, tree_recall, tree_nodes"
   ]
  },
  {
   "cell_type": "code",
   "execution_count": null,
   "metadata": {},
   "outputs": [],
   "source": [
    "from sklearn.externals.six import StringIO  \n",
    "from IPython.display import Image  \n",
    "from sklearn.tree import export_graphviz\n",
    "import pydotplus\n",
    "dot_data = StringIO()\n",
    "export_graphviz(tree_clf, out_file=dot_data,  \n",
    "                filled=True, rounded=True,\n",
    "                special_characters=True)\n",
    "graph = pydotplus.graph_from_dot_data(dot_data.getvalue())  \n",
    "Image(graph.create_png())"
   ]
  },
  {
   "cell_type": "code",
   "execution_count": null,
   "metadata": {},
   "outputs": [],
   "source": [
    "# Run tree\n",
    "import math\n",
    "tree_train_X, tree_train_y, tree_test_X, tree_test_y = make_tree_dataset(filename, class_feat, pos_class, n_classes, bin_transformer=None, random_state=random_state)\n",
    "tree_clf = make_tree(tree_train_X, tree_train_y, random_state=random_state)\n",
    "tree_precision, tree_recall, tree_nodes = score_tree(tree_clf, tree_test_X, tree_test_y)\n",
    "tree_precision, tree_recall, tree_nodes"
   ]
  },
  {
   "cell_type": "code",
   "execution_count": null,
   "metadata": {},
   "outputs": [],
   "source": [
    "# Run ripper\n",
    "random_state=2\n",
    "verbosity=2\n",
    "k=2\n",
    "train, test = make_ripper_dataset(filename, random_state=random_state)\n",
    "timer = Timer()\n",
    "ripper_clf = make_ripper(train, class_feat, pos_class, k=k, random_state=random_state, verbosity=verbosity)\n",
    "timer.buzz()\n",
    "#ripper_precision, ripper_recall, ripper_conds = score_ripper(ripper_clf, test, class_feat)\n",
    "#ripper_precision, ripper_recall, ripper_conds"
   ]
  },
  {
   "cell_type": "code",
   "execution_count": null,
   "metadata": {},
   "outputs": [],
   "source": [
    "score_ripper(ripper_clf, test, class_feat)"
   ]
  },
  {
   "cell_type": "code",
   "execution_count": null,
   "metadata": {},
   "outputs": [],
   "source": [
    "# Run tree\n",
    "import math\n",
    "tree_train_X, tree_train_y, tree_test_X, tree_test_y = make_tree_dataset(filename, class_feat, pos_class, n_classes, bin_transformer=None, random_state=random_state)\n",
    "tree_clf = make_tree(tree_train_X, tree_train_y, random_state=random_state)\n",
    "tree_precision, tree_recall, tree_nodes = score_tree(tree_clf, tree_test_X, tree_test_y)\n",
    "tree_precision, tree_recall, tree_nodes"
   ]
  },
  {
   "cell_type": "code",
   "execution_count": null,
   "metadata": {},
   "outputs": [],
   "source": [
    "# Run tree\n",
    "tree_train_X, tree_train_y, tree_test_X, tree_test_y = make_tree_dataset(filename, class_feat, pos_class, n_classes, bin_transformer=None, random_state=random_state)\n",
    "tree_clf = make_tree(tree_train_X, tree_train_y, max_depth=1, random_state=random_state)\n",
    "tree_precision, tree_recall, tree_nodes = score_tree(tree_clf, tree_test_X, tree_test_y)\n",
    "tree_precision, tree_recall, tree_nodes"
   ]
  },
  {
   "cell_type": "code",
   "execution_count": null,
   "metadata": {},
   "outputs": [],
   "source": [
    "# Set up\n",
    "dataset = 'kr-vs-kp.csv'\n",
    "filename = datasets_path + dataset\n",
    "class_feat = 'won/lost'\n",
    "pos_class = 'won'\n",
    "n_classes = 2\n",
    "random_state = 42\n",
    "k=2"
   ]
  },
  {
   "cell_type": "code",
   "execution_count": null,
   "metadata": {},
   "outputs": [],
   "source": [
    "# Run ripper\n",
    "random_state=2\n",
    "verbosity=2\n",
    "k=2\n",
    "train, test = make_ripper_dataset(filename, random_state=random_state)\n",
    "timer = Timer()\n",
    "ripper_clf = make_ripper(train, class_feat, pos_class, k=k, random_state=random_state, verbosity=verbosity)\n",
    "timer.buzz()\n",
    "#ripper_precision, ripper_recall, ripper_conds = score_ripper(ripper_clf, test, class_feat)\n",
    "#ripper_precision, ripper_recall, ripper_conds"
   ]
  },
  {
   "cell_type": "code",
   "execution_count": null,
   "metadata": {},
   "outputs": [],
   "source": [
    "score_ripper(ripper_clf, test, class_feat)"
   ]
  },
  {
   "cell_type": "code",
   "execution_count": null,
   "metadata": {},
   "outputs": [],
   "source": [
    "# Run tree\n",
    "tree_train_X, tree_train_y, tree_test_X, tree_test_y = make_tree_dataset(filename, class_feat, pos_class, n_classes, bin_transformer=None, random_state=random_state)\n",
    "tree_clf = make_tree(tree_train_X, tree_train_y, random_state=random_state)\n",
    "tree_precision, tree_recall, tree_nodes = score_tree(tree_clf, tree_test_X, tree_test_y)\n",
    "tree_precision, tree_recall, tree_nodes"
   ]
  },
  {
   "cell_type": "code",
   "execution_count": null,
   "metadata": {},
   "outputs": [],
   "source": []
  }
 ],
 "metadata": {
  "kernelspec": {
   "display_name": "Python 3",
   "language": "python",
   "name": "python3"
  },
  "language_info": {
   "codemirror_mode": {
    "name": "ipython",
    "version": 3
   },
   "file_extension": ".py",
   "mimetype": "text/x-python",
   "name": "python",
   "nbconvert_exporter": "python",
   "pygments_lexer": "ipython3",
   "version": "3.6.6"
  }
 },
 "nbformat": 4,
 "nbformat_minor": 2
}
