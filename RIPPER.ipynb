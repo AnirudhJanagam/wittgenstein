{
 "cells": [
  {
   "cell_type": "code",
   "execution_count": 1,
   "metadata": {},
   "outputs": [],
   "source": [
    "import pandas as pd\n",
    "from base import Timer"
   ]
  },
  {
   "cell_type": "code",
   "execution_count": 2,
   "metadata": {},
   "outputs": [],
   "source": [
    "from sklearn.model_selection import train_test_split\n",
    "from sklearn.preprocessing import OneHotEncoder, LabelEncoder\n",
    "from sklearn.metrics import precision_score, recall_score"
   ]
  },
  {
   "cell_type": "code",
   "execution_count": 3,
   "metadata": {},
   "outputs": [],
   "source": [
    "import ripper\n",
    "\n",
    "def make_ripper_dataset(dataset_filename, random_state=42):\n",
    "    # Load df\n",
    "    df = pd.read_csv(dataset_filename)\n",
    "    \n",
    "    # Split\n",
    "    train, test = train_test_split(df, test_size=.33, random_state=random_state)\n",
    "    \n",
    "    return train, test"
   ]
  },
  {
   "cell_type": "code",
   "execution_count": 4,
   "metadata": {},
   "outputs": [],
   "source": [
    "def make_ripper(train, class_feat, pos_class, k=1, random_state=42, verbosity=0):\n",
    "    # Train\n",
    "    irep_clf = ripper.RIPPER(class_feat=class_feat,pos_class=pos_class, k=k, verbosity=verbosity)\n",
    "    irep_clf.fit(train, seed=random_state)\n",
    "    return irep_clf"
   ]
  },
  {
   "cell_type": "code",
   "execution_count": 5,
   "metadata": {},
   "outputs": [],
   "source": [
    "def score_ripper(ripper_clf, test, class_feat):\n",
    "    X_test = test.drop(class_feat,axis=1)\n",
    "    y_test = test[class_feat]\n",
    "\n",
    "    precision = ripper_clf.score(X_test, y_test, precision_score)\n",
    "    recall = ripper_clf.score(X_test, y_test, recall_score)\n",
    "    total_conds = ripper_clf.ruleset_.count_conds()\n",
    "    return precision, recall, total_conds"
   ]
  },
  {
   "cell_type": "code",
   "execution_count": 6,
   "metadata": {},
   "outputs": [],
   "source": [
    "datasets_path = '../datasets/'\n",
    "random_state = 0"
   ]
  },
  {
   "cell_type": "code",
   "execution_count": 7,
   "metadata": {},
   "outputs": [],
   "source": [
    "# Set up\n",
    "dataset = 'house-votes-84.csv'\n",
    "filename = datasets_path + dataset\n",
    "class_feat = 'Party'\n",
    "pos_class = 'democrat'\n",
    "n_classes = 2\n",
    "random_state=42\n",
    "k=5"
   ]
  },
  {
   "cell_type": "code",
   "execution_count": 8,
   "metadata": {},
   "outputs": [],
   "source": [
    "# Set up\n",
    "dataset = 'breast-cancer.csv'\n",
    "filename = datasets_path + dataset\n",
    "class_feat = 'Recurrence'\n",
    "pos_class = 'recurrence-events'\n",
    "n_classes = 2\n",
    "random_state=30"
   ]
  },
  {
   "cell_type": "code",
   "execution_count": null,
   "metadata": {},
   "outputs": [],
   "source": [
    "# Set up\n",
    "dataset = 'adult.csv'\n",
    "filename = datasets_path + dataset\n",
    "class_feat = 'income'\n",
    "pos_class = '>50K'\n",
    "n_classes = 2\n",
    "random_state = 0\n",
    "k=2"
   ]
  },
  {
   "cell_type": "code",
   "execution_count": null,
   "metadata": {},
   "outputs": [
    {
     "name": "stdout",
     "output_type": "stream",
     "text": [
      "growing ruleset...\n",
      "\n",
      "pos_growset 1731 pos_pruneset 3517\n",
      "neg_growset 5467 neg_pruneset 11100\n",
      "growing rule\n",
      "[]\n",
      "gain 1329 [marital.status=Married-civ-spouse]\n",
      "negs remaining 1844\n",
      "gain 253 [marital.status=Married-civ-spouse^education=Bachelors]\n",
      "negs remaining 205\n",
      "gain 43.9 [marital.status=Married-civ-spouse^education=Bachelors^occupation=Exec-managerial]\n",
      "negs remaining 33\n",
      "gain 6.8 [marital.status=Married-civ-spouse^education=Bachelors^occupation=Exec-managerial^native.country=United-States]\n",
      "negs remaining 25\n",
      "gain 3.5 [marital.status=Married-civ-spouse^education=Bachelors^occupation=Exec-managerial^native.country=United-States^workclass=Self-emp-inc]\n",
      "negs remaining 0\n",
      "grew rule: [marital.status=Married-civ-spouse^education=Bachelors^occupation=Exec-managerial^native.country=United-States^workclass=Self-emp-inc]\n",
      "prune value of [marital.status=Married-civ-spouse^education=Bachelors^occupation=Exec-managerial^native.country=United-States^workclass=Self-emp-inc]: 0.62\n",
      "prune value of [marital.status=Married-civ-spouse^education=Bachelors^occupation=Exec-managerial^native.country=United-States]: 0.53\n",
      "prune value of [marital.status=Married-civ-spouse^education=Bachelors^occupation=Exec-managerial]: 0.53\n",
      "prune value of [marital.status=Married-civ-spouse^education=Bachelors]: 0.34\n",
      "prune value of [marital.status=Married-civ-spouse]: -0.11\n",
      "no pruning\n",
      "updated ruleset: [marital.status=Married-civ-spouse^education=Bachelors^occupation=Exec-managerial^native.country=United-States^workclass=Self-emp-inc]\n",
      "\n",
      "rule theory bits| [marital.status=Married-civ-spouse^education=Bachelors^occupation=Exec-managerial^native.country=United-States^workclass=Self-emp-inc] k 5 n 1705 pr 0: 25.8 bits\n",
      "exceptions_bits| [marital.status=Married-civ-spouse^education=Bachelors^occupation=Exec-managerial^native.country=United-States^workclass=Self-emp-inc]: \n",
      " N 21815 p 51 fp 7 fn 5204: exceptions_bits 17290\n",
      "rule dl: 25.8\n",
      "updated theory dl: 25.8\n",
      "exceptions: 17290\n",
      "total dl: 17316\n",
      "mdl 17316 (diff 0 <= 64)\n",
      "examples remaining: 5204 pos, 16560 neg\n",
      "\n",
      "pos_growset 1717 pos_pruneset 3487\n",
      "neg_growset 5464 neg_pruneset 11096\n",
      "growing rule\n",
      "[]\n",
      "gain 1261 [marital.status=Married-civ-spouse]\n",
      "negs remaining 1872\n",
      "gain 240 [marital.status=Married-civ-spouse^education=Bachelors]\n",
      "negs remaining 184\n",
      "gain 34.1 [marital.status=Married-civ-spouse^education=Bachelors^workclass=Private]\n",
      "negs remaining 98\n",
      "gain 24.7 [marital.status=Married-civ-spouse^education=Bachelors^workclass=Private^occupation=Exec-managerial]\n",
      "negs remaining 18\n"
     ]
    }
   ],
   "source": [
    "# Run ripper\n",
    "random_state=2\n",
    "verbosity=5\n",
    "train, test = make_ripper_dataset(filename, random_state=random_state)\n",
    "timer = Timer()\n",
    "ripper_clf = make_ripper(train, class_feat, pos_class, k=k, random_state=random_state, verbosity=verbosity)\n",
    "timer.buzz()\n",
    "#ripper_precision, ripper_recall, ripper_conds = score_ripper(ripper_clf, test, class_feat)\n",
    "#ripper_precision, ripper_recall, ripper_conds"
   ]
  },
  {
   "cell_type": "code",
   "execution_count": null,
   "metadata": {},
   "outputs": [],
   "source": [
    "ripper_clf.ruleset_"
   ]
  },
  {
   "cell_type": "code",
   "execution_count": null,
   "metadata": {},
   "outputs": [],
   "source": [
    "score_ripper(ripper_clf, test, class_feat)"
   ]
  },
  {
   "cell_type": "code",
   "execution_count": null,
   "metadata": {},
   "outputs": [],
   "source": []
  }
 ],
 "metadata": {
  "kernelspec": {
   "display_name": "Python 3",
   "language": "python",
   "name": "python3"
  },
  "language_info": {
   "codemirror_mode": {
    "name": "ipython",
    "version": 3
   },
   "file_extension": ".py",
   "mimetype": "text/x-python",
   "name": "python",
   "nbconvert_exporter": "python",
   "pygments_lexer": "ipython3",
   "version": "3.6.6"
  }
 },
 "nbformat": 4,
 "nbformat_minor": 2
}
