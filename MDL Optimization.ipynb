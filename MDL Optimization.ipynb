{
 "cells": [
  {
   "cell_type": "code",
   "execution_count": 1,
   "metadata": {},
   "outputs": [],
   "source": [
    "import ruleset as rs\n",
    "from ruleset import RIPPER, ripper, base\n",
    "import pickle\n",
    "import pandas as pd"
   ]
  },
  {
   "cell_type": "code",
   "execution_count": 2,
   "metadata": {},
   "outputs": [],
   "source": [
    "from sklearn.model_selection import train_test_split\n",
    "from sklearn.metrics import precision_score, recall_score, accuracy_score"
   ]
  },
  {
   "cell_type": "code",
   "execution_count": 3,
   "metadata": {},
   "outputs": [],
   "source": [
    "def make_rs_dataset(dataset_filename, random_state=42):\n",
    "    # Load df\n",
    "    df = pd.read_csv(dataset_filename)\n",
    "    \n",
    "    # Split\n",
    "    train, test = train_test_split(df, test_size=.33, random_state=random_state)\n",
    "    \n",
    "    return train, test"
   ]
  },
  {
   "cell_type": "code",
   "execution_count": 4,
   "metadata": {},
   "outputs": [],
   "source": [
    "def make_ripper(train, class_feat, pos_class, k=2, random_state=42, verbosity=0):\n",
    "    # Train\n",
    "    rip_clf = rs.RIPPER(k=k, verbosity=verbosity)\n",
    "    rip_clf.fit(train, class_feat=class_feat, pos_class=pos_class, \n",
    "                n_discretize_bins=5, random_state=random_state)\n",
    "    return rip_clf"
   ]
  },
  {
   "cell_type": "code",
   "execution_count": 2,
   "metadata": {},
   "outputs": [],
   "source": [
    "datasets_path = '../datasets/'\n",
    "random_state = 42"
   ]
  },
  {
   "cell_type": "code",
   "execution_count": 6,
   "metadata": {},
   "outputs": [],
   "source": [
    "dataset = 'mushroom.csv'\n",
    "filename = datasets_path + dataset\n",
    "class_feat = 'Poisonous/Edible'\n",
    "pos_class = 'p'\n",
    "\n",
    "result = pickle.load(open(filename.replace('.csv','.pkl'), \"rb\"))\n",
    "model = result['ripper_models'][0]"
   ]
  },
  {
   "cell_type": "code",
   "execution_count": 7,
   "metadata": {},
   "outputs": [],
   "source": [
    "train, test = make_rs_dataset(filename, random_state=42)\n",
    "#model = make_ripper(train, class_feat, pos_class, k=0, random_state=42, verbosity=0)\n",
    "#pickle.dump(model, open('temp_rip.pkl','wb'))\n",
    "model = pickle.load(open('temp_rip.pkl','rb'))"
   ]
  },
  {
   "cell_type": "code",
   "execution_count": 8,
   "metadata": {},
   "outputs": [],
   "source": [
    "ruleset = model.ruleset_\n",
    "stats = ripper.RulesetStats()\n",
    "pos_df, neg_df = base.pos_neg_split(train, class_feat, pos_class)\n",
    "possible_conds = model.possible_conds"
   ]
  },
  {
   "cell_type": "code",
   "execution_count": 10,
   "metadata": {},
   "outputs": [
    {
     "name": "stdout",
     "output_type": "stream",
     "text": [
      "updating stats from index 0\n",
      "rule theory bits| [Stalk-surface-above-ring=k^Gill-spacing=c] k 2 n 119 pr 0.02: 7.8 bits\n",
      "ruleset theory bits| 7.8\n",
      "exceptions_bits| [Stalk-surface-above-ring=k^Gill-spacing=c]: \n",
      " N 5443 p 1505 fp 0 fn 1108: exceptions_bits 3370\n",
      "total ruleset bits | 3378\n",
      "rule theory bits| [Stalk-surface-above-ring=k^Gill-spacing=c] k 2 n 119 pr 0.02: 7.8 bits\n",
      "rule theory bits| [Gill-size=n^Spore-print-color=w^Gill-spacing=c] k 3 n 119 pr 0.03: 10.9 bits\n",
      "ruleset theory bits| 18.7\n",
      "exceptions_bits| [Stalk-surface-above-ring=k^Gill-spacing=c] V [Gill-size=n^Spore-print-color=w^Gill-spacing=c]...: \n",
      " N 5443 p 2073 fp 0 fn 540: exceptions_bits 2134\n",
      "total ruleset bits | 2153\n",
      "rule theory bits| [Stalk-surface-above-ring=k^Gill-spacing=c] k 2 n 119 pr 0.02: 7.8 bits\n",
      "rule theory bits| [Gill-size=n^Spore-print-color=w^Gill-spacing=c] k 3 n 119 pr 0.03: 10.9 bits\n",
      "rule theory bits| [Gill-size=n^Population=s] k 2 n 119 pr 0.02: 7.8 bits\n",
      "ruleset theory bits| 26.5\n",
      "exceptions_bits| [Stalk-surface-above-ring=k^Gill-spacing=c] V [Gill-size=n^Spore-print-color=w^Gill-spacing=c]...: \n",
      " N 5443 p 2209 fp 0 fn 404: exceptions_bits 1752\n",
      "total ruleset bits | 1778\n",
      "rule theory bits| [Stalk-surface-above-ring=k^Gill-spacing=c] k 2 n 119 pr 0.02: 7.8 bits\n",
      "rule theory bits| [Gill-size=n^Spore-print-color=w^Gill-spacing=c] k 3 n 119 pr 0.03: 10.9 bits\n",
      "rule theory bits| [Gill-size=n^Population=s] k 2 n 119 pr 0.02: 7.8 bits\n",
      "rule theory bits| [Spore-print-color=h^Cap-surface=s] k 2 n 119 pr 0.02: 7.8 bits\n",
      "ruleset theory bits| 34.4\n",
      "exceptions_bits| [Stalk-surface-above-ring=k^Gill-spacing=c] V [Gill-size=n^Spore-print-color=w^Gill-spacing=c]...: \n",
      " N 5443 p 2400 fp 0 fn 213: exceptions_bits 1108\n",
      "total ruleset bits | 1143\n",
      "rule theory bits| [Stalk-surface-above-ring=k^Gill-spacing=c] k 2 n 119 pr 0.02: 7.8 bits\n",
      "rule theory bits| [Gill-size=n^Spore-print-color=w^Gill-spacing=c] k 3 n 119 pr 0.03: 10.9 bits\n",
      "rule theory bits| [Gill-size=n^Population=s] k 2 n 119 pr 0.02: 7.8 bits\n",
      "rule theory bits| [Spore-print-color=h^Cap-surface=s] k 2 n 119 pr 0.02: 7.8 bits\n",
      "rule theory bits| [Gill-size=n^Cap-surface=s^Stalk-shape=e] k 3 n 119 pr 0.03: 10.9 bits\n",
      "ruleset theory bits| 45.3\n",
      "exceptions_bits| [Stalk-surface-above-ring=k^Gill-spacing=c] V [Gill-size=n^Spore-print-color=w^Gill-spacing=c]...: \n",
      " N 5443 p 2479 fp 0 fn 134: exceptions_bits 783\n",
      "total ruleset bits | 828\n",
      "rule theory bits| [Stalk-surface-above-ring=k^Gill-spacing=c] k 2 n 119 pr 0.02: 7.8 bits\n",
      "rule theory bits| [Gill-size=n^Spore-print-color=w^Gill-spacing=c] k 3 n 119 pr 0.03: 10.9 bits\n",
      "rule theory bits| [Gill-size=n^Population=s] k 2 n 119 pr 0.02: 7.8 bits\n",
      "rule theory bits| [Spore-print-color=h^Cap-surface=s] k 2 n 119 pr 0.02: 7.8 bits\n",
      "rule theory bits| [Gill-size=n^Cap-surface=s^Stalk-shape=e] k 3 n 119 pr 0.03: 10.9 bits\n",
      "rule theory bits| [Gill-size=n^Habitat=g] k 2 n 119 pr 0.02: 7.8 bits\n",
      "ruleset theory bits| 53.1\n",
      "exceptions_bits| [Stalk-surface-above-ring=k^Gill-spacing=c] V [Gill-size=n^Spore-print-color=w^Gill-spacing=c]...: \n",
      " N 5443 p 2501 fp 0 fn 112: exceptions_bits 682\n",
      "total ruleset bits | 735\n",
      "rule theory bits| [Stalk-surface-above-ring=k^Gill-spacing=c] k 2 n 119 pr 0.02: 7.8 bits\n",
      "rule theory bits| [Gill-size=n^Spore-print-color=w^Gill-spacing=c] k 3 n 119 pr 0.03: 10.9 bits\n",
      "rule theory bits| [Gill-size=n^Population=s] k 2 n 119 pr 0.02: 7.8 bits\n",
      "rule theory bits| [Spore-print-color=h^Cap-surface=s] k 2 n 119 pr 0.02: 7.8 bits\n",
      "rule theory bits| [Gill-size=n^Cap-surface=s^Stalk-shape=e] k 3 n 119 pr 0.03: 10.9 bits\n",
      "rule theory bits| [Gill-size=n^Habitat=g] k 2 n 119 pr 0.02: 7.8 bits\n",
      "rule theory bits| [Gill-size=n^Spore-print-color=k^Stalk-root=b] k 3 n 119 pr 0.03: 10.9 bits\n",
      "ruleset theory bits| 64\n",
      "exceptions_bits| [Stalk-surface-above-ring=k^Gill-spacing=c] V [Gill-size=n^Spore-print-color=w^Gill-spacing=c]...: \n",
      " N 5443 p 2518 fp 0 fn 95: exceptions_bits 600\n",
      "total ruleset bits | 664\n",
      "rule theory bits| [Stalk-surface-above-ring=k^Gill-spacing=c] k 2 n 119 pr 0.02: 7.8 bits\n",
      "rule theory bits| [Gill-size=n^Spore-print-color=w^Gill-spacing=c] k 3 n 119 pr 0.03: 10.9 bits\n",
      "rule theory bits| [Gill-size=n^Population=s] k 2 n 119 pr 0.02: 7.8 bits\n",
      "rule theory bits| [Spore-print-color=h^Cap-surface=s] k 2 n 119 pr 0.02: 7.8 bits\n",
      "rule theory bits| [Gill-size=n^Cap-surface=s^Stalk-shape=e] k 3 n 119 pr 0.03: 10.9 bits\n",
      "rule theory bits| [Gill-size=n^Habitat=g] k 2 n 119 pr 0.02: 7.8 bits\n",
      "rule theory bits| [Gill-size=n^Spore-print-color=k^Stalk-root=b] k 3 n 119 pr 0.03: 10.9 bits\n",
      "rule theory bits| [Population=v^Stalk-shape=e^Bruises?=t^Cap-shape=b] k 4 n 119 pr 0.03: 13.6 bits\n",
      "ruleset theory bits| 77.6\n",
      "exceptions_bits| [Stalk-surface-above-ring=k^Gill-spacing=c] V [Gill-size=n^Spore-print-color=w^Gill-spacing=c]...: \n",
      " N 5443 p 2545 fp 0 fn 68: exceptions_bits 461\n",
      "total ruleset bits | 538\n",
      "rule theory bits| [Stalk-surface-above-ring=k^Gill-spacing=c] k 2 n 119 pr 0.02: 7.8 bits\n",
      "rule theory bits| [Gill-size=n^Spore-print-color=w^Gill-spacing=c] k 3 n 119 pr 0.03: 10.9 bits\n",
      "rule theory bits| [Gill-size=n^Population=s] k 2 n 119 pr 0.02: 7.8 bits\n",
      "rule theory bits| [Spore-print-color=h^Cap-surface=s] k 2 n 119 pr 0.02: 7.8 bits\n",
      "rule theory bits| [Gill-size=n^Cap-surface=s^Stalk-shape=e] k 3 n 119 pr 0.03: 10.9 bits\n",
      "rule theory bits| [Gill-size=n^Habitat=g] k 2 n 119 pr 0.02: 7.8 bits\n",
      "rule theory bits| [Gill-size=n^Spore-print-color=k^Stalk-root=b] k 3 n 119 pr 0.03: 10.9 bits\n",
      "rule theory bits| [Population=v^Stalk-shape=e^Bruises?=t^Cap-shape=b] k 4 n 119 pr 0.03: 13.6 bits\n",
      "rule theory bits| [Gill-size=n^Cap-surface=y^Bruises?=t] k 3 n 119 pr 0.03: 10.9 bits\n",
      "ruleset theory bits| 88.5\n",
      "exceptions_bits| [Stalk-surface-above-ring=k^Gill-spacing=c] V [Gill-size=n^Spore-print-color=w^Gill-spacing=c]...: \n",
      " N 5443 p 2569 fp 0 fn 44: exceptions_bits 324\n",
      "total ruleset bits | 413\n",
      "rule theory bits| [Stalk-surface-above-ring=k^Gill-spacing=c] k 2 n 119 pr 0.02: 7.8 bits\n",
      "rule theory bits| [Gill-size=n^Spore-print-color=w^Gill-spacing=c] k 3 n 119 pr 0.03: 10.9 bits\n",
      "rule theory bits| [Gill-size=n^Population=s] k 2 n 119 pr 0.02: 7.8 bits\n",
      "rule theory bits| [Spore-print-color=h^Cap-surface=s] k 2 n 119 pr 0.02: 7.8 bits\n",
      "rule theory bits| [Gill-size=n^Cap-surface=s^Stalk-shape=e] k 3 n 119 pr 0.03: 10.9 bits\n",
      "rule theory bits| [Gill-size=n^Habitat=g] k 2 n 119 pr 0.02: 7.8 bits\n",
      "rule theory bits| [Gill-size=n^Spore-print-color=k^Stalk-root=b] k 3 n 119 pr 0.03: 10.9 bits\n",
      "rule theory bits| [Population=v^Stalk-shape=e^Bruises?=t^Cap-shape=b] k 4 n 119 pr 0.03: 13.6 bits\n",
      "rule theory bits| [Gill-size=n^Cap-surface=y^Bruises?=t] k 3 n 119 pr 0.03: 10.9 bits\n",
      "rule theory bits| [Gill-size=n^Stalk-root=c] k 2 n 119 pr 0.02: 7.8 bits\n",
      "ruleset theory bits| 96.3\n",
      "exceptions_bits| [Stalk-surface-above-ring=k^Gill-spacing=c] V [Gill-size=n^Spore-print-color=w^Gill-spacing=c]...: \n",
      " N 5443 p 2576 fp 0 fn 37: exceptions_bits 281\n",
      "total ruleset bits | 378\n",
      "rule theory bits| [Stalk-surface-above-ring=k^Gill-spacing=c] k 2 n 119 pr 0.02: 7.8 bits\n",
      "rule theory bits| [Gill-size=n^Spore-print-color=w^Gill-spacing=c] k 3 n 119 pr 0.03: 10.9 bits\n",
      "rule theory bits| [Gill-size=n^Population=s] k 2 n 119 pr 0.02: 7.8 bits\n",
      "rule theory bits| [Spore-print-color=h^Cap-surface=s] k 2 n 119 pr 0.02: 7.8 bits\n",
      "rule theory bits| [Gill-size=n^Cap-surface=s^Stalk-shape=e] k 3 n 119 pr 0.03: 10.9 bits\n",
      "rule theory bits| [Gill-size=n^Habitat=g] k 2 n 119 pr 0.02: 7.8 bits\n",
      "rule theory bits| [Gill-size=n^Spore-print-color=k^Stalk-root=b] k 3 n 119 pr 0.03: 10.9 bits\n",
      "rule theory bits| [Population=v^Stalk-shape=e^Bruises?=t^Cap-shape=b] k 4 n 119 pr 0.03: 13.6 bits\n",
      "rule theory bits| [Gill-size=n^Cap-surface=y^Bruises?=t] k 3 n 119 pr 0.03: 10.9 bits\n",
      "rule theory bits| [Gill-size=n^Stalk-root=c] k 2 n 119 pr 0.02: 7.8 bits\n",
      "rule theory bits| [Population=v^Stalk-shape=e^Stalk-root=b^Stalk-color-below-ring=w^Cap-surface=f] k 5 n 119 pr 0.04: 16.1 bits\n",
      "ruleset theory bits| 112\n",
      "exceptions_bits| [Stalk-surface-above-ring=k^Gill-spacing=c] V [Gill-size=n^Spore-print-color=w^Gill-spacing=c]...: \n",
      " N 5443 p 2591 fp 0 fn 22: exceptions_bits 182\n",
      "total ruleset bits | 295\n",
      "rule theory bits| [Stalk-surface-above-ring=k^Gill-spacing=c] k 2 n 119 pr 0.02: 7.8 bits\n",
      "rule theory bits| [Gill-size=n^Spore-print-color=w^Gill-spacing=c] k 3 n 119 pr 0.03: 10.9 bits\n",
      "rule theory bits| [Gill-size=n^Population=s] k 2 n 119 pr 0.02: 7.8 bits\n",
      "rule theory bits| [Spore-print-color=h^Cap-surface=s] k 2 n 119 pr 0.02: 7.8 bits\n",
      "rule theory bits| [Gill-size=n^Cap-surface=s^Stalk-shape=e] k 3 n 119 pr 0.03: 10.9 bits\n",
      "rule theory bits| [Gill-size=n^Habitat=g] k 2 n 119 pr 0.02: 7.8 bits\n",
      "rule theory bits| [Gill-size=n^Spore-print-color=k^Stalk-root=b] k 3 n 119 pr 0.03: 10.9 bits\n",
      "rule theory bits| [Population=v^Stalk-shape=e^Bruises?=t^Cap-shape=b] k 4 n 119 pr 0.03: 13.6 bits\n",
      "rule theory bits| [Gill-size=n^Cap-surface=y^Bruises?=t] k 3 n 119 pr 0.03: 10.9 bits\n",
      "rule theory bits| [Gill-size=n^Stalk-root=c] k 2 n 119 pr 0.02: 7.8 bits\n",
      "rule theory bits| [Population=v^Stalk-shape=e^Stalk-root=b^Stalk-color-below-ring=w^Cap-surface=f] k 5 n 119 pr 0.04: 16.1 bits\n",
      "rule theory bits| [Ring-number=t^Population=v^Cap-shape=f^Gill-color=g] k 4 n 119 pr 0.03: 13.6 bits\n",
      "ruleset theory bits| 126\n"
     ]
    },
    {
     "name": "stdout",
     "output_type": "stream",
     "text": [
      "exceptions_bits| [Stalk-surface-above-ring=k^Gill-spacing=c] V [Gill-size=n^Spore-print-color=w^Gill-spacing=c]...: \n",
      " N 5443 p 2599 fp 0 fn 14: exceptions_bits 124\n",
      "total ruleset bits | 250\n",
      "rule theory bits| [Stalk-surface-above-ring=k^Gill-spacing=c] k 2 n 119 pr 0.02: 7.8 bits\n",
      "rule theory bits| [Gill-size=n^Spore-print-color=w^Gill-spacing=c] k 3 n 119 pr 0.03: 10.9 bits\n",
      "rule theory bits| [Gill-size=n^Population=s] k 2 n 119 pr 0.02: 7.8 bits\n",
      "rule theory bits| [Spore-print-color=h^Cap-surface=s] k 2 n 119 pr 0.02: 7.8 bits\n",
      "rule theory bits| [Gill-size=n^Cap-surface=s^Stalk-shape=e] k 3 n 119 pr 0.03: 10.9 bits\n",
      "rule theory bits| [Gill-size=n^Habitat=g] k 2 n 119 pr 0.02: 7.8 bits\n",
      "rule theory bits| [Gill-size=n^Spore-print-color=k^Stalk-root=b] k 3 n 119 pr 0.03: 10.9 bits\n",
      "rule theory bits| [Population=v^Stalk-shape=e^Bruises?=t^Cap-shape=b] k 4 n 119 pr 0.03: 13.6 bits\n",
      "rule theory bits| [Gill-size=n^Cap-surface=y^Bruises?=t] k 3 n 119 pr 0.03: 10.9 bits\n",
      "rule theory bits| [Gill-size=n^Stalk-root=c] k 2 n 119 pr 0.02: 7.8 bits\n",
      "rule theory bits| [Population=v^Stalk-shape=e^Stalk-root=b^Stalk-color-below-ring=w^Cap-surface=f] k 5 n 119 pr 0.04: 16.1 bits\n",
      "rule theory bits| [Ring-number=t^Population=v^Cap-shape=f^Gill-color=g] k 4 n 119 pr 0.03: 13.6 bits\n",
      "rule theory bits| [Ring-number=t^Population=v^Habitat=g] k 3 n 119 pr 0.03: 10.9 bits\n",
      "ruleset theory bits| 137\n",
      "exceptions_bits| [Stalk-surface-above-ring=k^Gill-spacing=c] V [Gill-size=n^Spore-print-color=w^Gill-spacing=c]...: \n",
      " N 5443 p 2605 fp 0 fn 8: exceptions_bits 76.5\n",
      "total ruleset bits | 213\n",
      "rule theory bits| [Stalk-surface-above-ring=k^Gill-spacing=c] k 2 n 119 pr 0.02: 7.8 bits\n",
      "rule theory bits| [Gill-size=n^Spore-print-color=w^Gill-spacing=c] k 3 n 119 pr 0.03: 10.9 bits\n",
      "rule theory bits| [Gill-size=n^Population=s] k 2 n 119 pr 0.02: 7.8 bits\n",
      "rule theory bits| [Spore-print-color=h^Cap-surface=s] k 2 n 119 pr 0.02: 7.8 bits\n",
      "rule theory bits| [Gill-size=n^Cap-surface=s^Stalk-shape=e] k 3 n 119 pr 0.03: 10.9 bits\n",
      "rule theory bits| [Gill-size=n^Habitat=g] k 2 n 119 pr 0.02: 7.8 bits\n",
      "rule theory bits| [Gill-size=n^Spore-print-color=k^Stalk-root=b] k 3 n 119 pr 0.03: 10.9 bits\n",
      "rule theory bits| [Population=v^Stalk-shape=e^Bruises?=t^Cap-shape=b] k 4 n 119 pr 0.03: 13.6 bits\n",
      "rule theory bits| [Gill-size=n^Cap-surface=y^Bruises?=t] k 3 n 119 pr 0.03: 10.9 bits\n",
      "rule theory bits| [Gill-size=n^Stalk-root=c] k 2 n 119 pr 0.02: 7.8 bits\n",
      "rule theory bits| [Population=v^Stalk-shape=e^Stalk-root=b^Stalk-color-below-ring=w^Cap-surface=f] k 5 n 119 pr 0.04: 16.1 bits\n",
      "rule theory bits| [Ring-number=t^Population=v^Cap-shape=f^Gill-color=g] k 4 n 119 pr 0.03: 13.6 bits\n",
      "rule theory bits| [Ring-number=t^Population=v^Habitat=g] k 3 n 119 pr 0.03: 10.9 bits\n",
      "rule theory bits| [Habitat=m^Cap-shape=f] k 2 n 119 pr 0.02: 7.8 bits\n",
      "ruleset theory bits| 145\n",
      "exceptions_bits| [Stalk-surface-above-ring=k^Gill-spacing=c] V [Gill-size=n^Spore-print-color=w^Gill-spacing=c]...: \n",
      " N 5443 p 2611 fp 0 fn 2: exceptions_bits 21.9\n",
      "total ruleset bits | 167\n",
      "rule theory bits| [Stalk-surface-above-ring=k^Gill-spacing=c] k 2 n 119 pr 0.02: 7.8 bits\n",
      "rule theory bits| [Gill-size=n^Spore-print-color=w^Gill-spacing=c] k 3 n 119 pr 0.03: 10.9 bits\n",
      "rule theory bits| [Gill-size=n^Population=s] k 2 n 119 pr 0.02: 7.8 bits\n",
      "rule theory bits| [Spore-print-color=h^Cap-surface=s] k 2 n 119 pr 0.02: 7.8 bits\n",
      "rule theory bits| [Gill-size=n^Cap-surface=s^Stalk-shape=e] k 3 n 119 pr 0.03: 10.9 bits\n",
      "rule theory bits| [Gill-size=n^Habitat=g] k 2 n 119 pr 0.02: 7.8 bits\n",
      "rule theory bits| [Gill-size=n^Spore-print-color=k^Stalk-root=b] k 3 n 119 pr 0.03: 10.9 bits\n",
      "rule theory bits| [Population=v^Stalk-shape=e^Bruises?=t^Cap-shape=b] k 4 n 119 pr 0.03: 13.6 bits\n",
      "rule theory bits| [Gill-size=n^Cap-surface=y^Bruises?=t] k 3 n 119 pr 0.03: 10.9 bits\n",
      "rule theory bits| [Gill-size=n^Stalk-root=c] k 2 n 119 pr 0.02: 7.8 bits\n",
      "rule theory bits| [Population=v^Stalk-shape=e^Stalk-root=b^Stalk-color-below-ring=w^Cap-surface=f] k 5 n 119 pr 0.04: 16.1 bits\n",
      "rule theory bits| [Ring-number=t^Population=v^Cap-shape=f^Gill-color=g] k 4 n 119 pr 0.03: 13.6 bits\n",
      "rule theory bits| [Ring-number=t^Population=v^Habitat=g] k 3 n 119 pr 0.03: 10.9 bits\n",
      "rule theory bits| [Habitat=m^Cap-shape=f] k 2 n 119 pr 0.02: 7.8 bits\n",
      "rule theory bits| [Habitat=l^Cap-color=w] k 2 n 119 pr 0.02: 7.8 bits\n",
      "ruleset theory bits| 153\n",
      "exceptions_bits| [Stalk-surface-above-ring=k^Gill-spacing=c] V [Gill-size=n^Spore-print-color=w^Gill-spacing=c]...: \n",
      " N 5443 p 2613 fp 0 fn 0: exceptions_bits 0\n",
      "total ruleset bits | 153\n"
     ]
    }
   ],
   "source": [
    "stats.update(ruleset, possible_conds, pos_df, neg_df, verbosity=5)"
   ]
  },
  {
   "cell_type": "code",
   "execution_count": 11,
   "metadata": {},
   "outputs": [
    {
     "data": {
      "text/plain": [
       "[(0, 3377.7235010761033),\n",
       " (1, 2152.5167396808397),\n",
       " (2, 1778.1709835519496),\n",
       " (3, 1142.696786306302),\n",
       " (4, 827.9312750686732),\n",
       " (5, 734.9581516407509),\n",
       " (6, 663.9150892363692),\n",
       " (7, 538.3074896667496),\n",
       " (8, 412.7397059699782),\n",
       " (9, 377.6444895630475),\n",
       " (10, 294.9152417352419),\n",
       " (11, 250.31921401773693),\n",
       " (12, 213.42243213548036),\n",
       " (13, 166.730637899361),\n",
       " (14, 152.62125713656573)]"
      ]
     },
     "execution_count": 11,
     "metadata": {},
     "output_type": "execute_result"
    }
   ],
   "source": [
    "list(zip(range(0,len(stats.subset_dls)), stats.subset_dls))"
   ]
  },
  {
   "cell_type": "code",
   "execution_count": 12,
   "metadata": {},
   "outputs": [],
   "source": [
    "stats.subset_dls[1] = 4000\n",
    "stats.subset_dls[4] = 3000"
   ]
  },
  {
   "cell_type": "code",
   "execution_count": 13,
   "metadata": {},
   "outputs": [],
   "source": [
    "#temprs = base.Ruleset(ruleset.rules[:9]+[ruleset.rules[4]]+ruleset.rules[10:]+ruleset.rules[1:3])\n",
    "#stats.update(temprs, possible_conds, pos_df, neg_df, bestsubset_dl=False, ret_bestsubset=False, verbosity=5)"
   ]
  },
  {
   "cell_type": "code",
   "execution_count": 14,
   "metadata": {},
   "outputs": [
    {
     "data": {
      "text/plain": [
       "[(0, 3377.7235010761033),\n",
       " (1, 4000),\n",
       " (2, 1778.1709835519496),\n",
       " (3, 1142.696786306302),\n",
       " (4, 3000),\n",
       " (5, 734.9581516407509),\n",
       " (6, 663.9150892363692),\n",
       " (7, 538.3074896667496),\n",
       " (8, 412.7397059699782),\n",
       " (9, 377.6444895630475),\n",
       " (10, 294.9152417352419),\n",
       " (11, 250.31921401773693),\n",
       " (12, 213.42243213548036),\n",
       " (13, 166.730637899361),\n",
       " (14, 152.62125713656573)]"
      ]
     },
     "execution_count": 14,
     "metadata": {},
     "output_type": "execute_result"
    }
   ],
   "source": [
    "list(zip(range(0,len(stats.subset_dls)), stats.subset_dls))"
   ]
  },
  {
   "cell_type": "code",
   "execution_count": 17,
   "metadata": {},
   "outputs": [],
   "source": [
    "#x=stats.dl_pruned_ruleset(possible_conds, pos_df, neg_df)"
   ]
  },
  {
   "cell_type": "code",
   "execution_count": 18,
   "metadata": {},
   "outputs": [
    {
     "data": {
      "text/plain": [
       "<Ruleset object: [Stalk-surface-above-ring=k^Gill-spacing=c] V [Gill-size=n^Spore-print-color=w^Gill-spacing=c] V [Gill-size=n^Population=s] V [Spore-print-color=h^Cap-surface=s] V [Gill-size=n^Cap-surface=s^Stalk-shape=e] V [Gill-size=n^Habitat=g] V [Gill-size=n^Spore-print-color=k^Stalk-root=b] V [Population=v^Stalk-shape=e^Bruises?=t^Cap-shape=b] V [Gill-size=n^Cap-surface=y^Bruises?=t] V [Gill-size=n^Stalk-root=c] V [Population=v^Stalk-shape=e^Stalk-root=b^Stalk-color-below-ring=w^Cap-surface=f] V [Ring-number=t^Population=v^Cap-shape=f^Gill-color=g] V [Ring-number=t^Population=v^Habitat=g] V [Habitat=m^Cap-shape=f] V [Habitat=l^Cap-color=w]>"
      ]
     },
     "execution_count": 18,
     "metadata": {},
     "output_type": "execute_result"
    }
   ],
   "source": [
    "stats.ruleset"
   ]
  },
  {
   "cell_type": "code",
   "execution_count": 19,
   "metadata": {},
   "outputs": [
    {
     "data": {
      "text/plain": [
       "[3377.7235010761033,\n",
       " 4000,\n",
       " 1778.1709835519496,\n",
       " 1142.696786306302,\n",
       " 3000,\n",
       " 734.9581516407509,\n",
       " 663.9150892363692,\n",
       " 538.3074896667496,\n",
       " 412.7397059699782,\n",
       " 377.6444895630475,\n",
       " 294.9152417352419,\n",
       " 250.31921401773693,\n",
       " 213.42243213548036,\n",
       " 166.730637899361,\n",
       " 152.62125713656573]"
      ]
     },
     "execution_count": 19,
     "metadata": {},
     "output_type": "execute_result"
    }
   ],
   "source": [
    "stats.subset_dls"
   ]
  },
  {
   "cell_type": "code",
   "execution_count": null,
   "metadata": {},
   "outputs": [],
   "source": [
    "%timeit stats.update(x, possible_conds, pos_df, neg_df, bestsubset_dl=False, ret_bestsubset=False, verbosity=5)"
   ]
  },
  {
   "cell_type": "code",
   "execution_count": null,
   "metadata": {},
   "outputs": [],
   "source": [
    "%timeit stats.subset_dls"
   ]
  },
  {
   "cell_type": "code",
   "execution_count": 21,
   "metadata": {},
   "outputs": [
    {
     "name": "stdout",
     "output_type": "stream",
     "text": [
      "3.14 s ± 63.1 ms per loop (mean ± std. dev. of 7 runs, 1 loop each)\n"
     ]
    }
   ],
   "source": [
    "%timeit stats.potential_dl_stats(possible_conds, pos_df, neg_df)"
   ]
  },
  {
   "cell_type": "code",
   "execution_count": 22,
   "metadata": {},
   "outputs": [
    {
     "data": {
      "text/plain": [
       "84"
      ]
     },
     "execution_count": 22,
     "metadata": {},
     "output_type": "execute_result"
    }
   ],
   "source": [
    "3*2*14"
   ]
  },
  {
   "cell_type": "code",
   "execution_count": 25,
   "metadata": {},
   "outputs": [
    {
     "name": "stdout",
     "output_type": "stream",
     "text": [
      "2.35 s ± 41.1 ms per loop (mean ± std. dev. of 7 runs, 1 loop each)\n"
     ]
    }
   ],
   "source": [
    "%timeit ripper._rs_total_bits(stats.ruleset, possible_conds, pos_df, neg_df, bestsubset_dl=True, verbosity=0)\n"
   ]
  },
  {
   "cell_type": "code",
   "execution_count": 3,
   "metadata": {},
   "outputs": [
    {
     "data": {
      "text/html": [
       "<div>\n",
       "<style scoped>\n",
       "    .dataframe tbody tr th:only-of-type {\n",
       "        vertical-align: middle;\n",
       "    }\n",
       "\n",
       "    .dataframe tbody tr th {\n",
       "        vertical-align: top;\n",
       "    }\n",
       "\n",
       "    .dataframe thead th {\n",
       "        text-align: right;\n",
       "    }\n",
       "</style>\n",
       "<table border=\"1\" class=\"dataframe\">\n",
       "  <thead>\n",
       "    <tr style=\"text-align: right;\">\n",
       "      <th></th>\n",
       "      <th>Poisonous/Edible</th>\n",
       "      <th>Cap-shape</th>\n",
       "      <th>Cap-surface</th>\n",
       "      <th>Cap-color</th>\n",
       "      <th>Bruises?</th>\n",
       "      <th>Odor</th>\n",
       "      <th>Gill-attachment</th>\n",
       "      <th>Gill-spacing</th>\n",
       "      <th>Gill-size</th>\n",
       "      <th>Gill-color</th>\n",
       "      <th>...</th>\n",
       "      <th>Stalk-surface-below-ring</th>\n",
       "      <th>Stalk-color-above-ring</th>\n",
       "      <th>Stalk-color-below-ring</th>\n",
       "      <th>Veil-type</th>\n",
       "      <th>Veil-color</th>\n",
       "      <th>Ring-number</th>\n",
       "      <th>Ring-type</th>\n",
       "      <th>Spore-print-color</th>\n",
       "      <th>Population</th>\n",
       "      <th>Habitat</th>\n",
       "    </tr>\n",
       "  </thead>\n",
       "  <tbody>\n",
       "    <tr>\n",
       "      <th>0</th>\n",
       "      <td>p</td>\n",
       "      <td>x</td>\n",
       "      <td>s</td>\n",
       "      <td>n</td>\n",
       "      <td>t</td>\n",
       "      <td>p</td>\n",
       "      <td>f</td>\n",
       "      <td>c</td>\n",
       "      <td>n</td>\n",
       "      <td>k</td>\n",
       "      <td>...</td>\n",
       "      <td>s</td>\n",
       "      <td>w</td>\n",
       "      <td>w</td>\n",
       "      <td>p</td>\n",
       "      <td>w</td>\n",
       "      <td>o</td>\n",
       "      <td>p</td>\n",
       "      <td>k</td>\n",
       "      <td>s</td>\n",
       "      <td>u</td>\n",
       "    </tr>\n",
       "    <tr>\n",
       "      <th>1</th>\n",
       "      <td>e</td>\n",
       "      <td>x</td>\n",
       "      <td>s</td>\n",
       "      <td>y</td>\n",
       "      <td>t</td>\n",
       "      <td>a</td>\n",
       "      <td>f</td>\n",
       "      <td>c</td>\n",
       "      <td>b</td>\n",
       "      <td>k</td>\n",
       "      <td>...</td>\n",
       "      <td>s</td>\n",
       "      <td>w</td>\n",
       "      <td>w</td>\n",
       "      <td>p</td>\n",
       "      <td>w</td>\n",
       "      <td>o</td>\n",
       "      <td>p</td>\n",
       "      <td>n</td>\n",
       "      <td>n</td>\n",
       "      <td>g</td>\n",
       "    </tr>\n",
       "    <tr>\n",
       "      <th>2</th>\n",
       "      <td>e</td>\n",
       "      <td>b</td>\n",
       "      <td>s</td>\n",
       "      <td>w</td>\n",
       "      <td>t</td>\n",
       "      <td>l</td>\n",
       "      <td>f</td>\n",
       "      <td>c</td>\n",
       "      <td>b</td>\n",
       "      <td>n</td>\n",
       "      <td>...</td>\n",
       "      <td>s</td>\n",
       "      <td>w</td>\n",
       "      <td>w</td>\n",
       "      <td>p</td>\n",
       "      <td>w</td>\n",
       "      <td>o</td>\n",
       "      <td>p</td>\n",
       "      <td>n</td>\n",
       "      <td>n</td>\n",
       "      <td>m</td>\n",
       "    </tr>\n",
       "    <tr>\n",
       "      <th>3</th>\n",
       "      <td>p</td>\n",
       "      <td>x</td>\n",
       "      <td>y</td>\n",
       "      <td>w</td>\n",
       "      <td>t</td>\n",
       "      <td>p</td>\n",
       "      <td>f</td>\n",
       "      <td>c</td>\n",
       "      <td>n</td>\n",
       "      <td>n</td>\n",
       "      <td>...</td>\n",
       "      <td>s</td>\n",
       "      <td>w</td>\n",
       "      <td>w</td>\n",
       "      <td>p</td>\n",
       "      <td>w</td>\n",
       "      <td>o</td>\n",
       "      <td>p</td>\n",
       "      <td>k</td>\n",
       "      <td>s</td>\n",
       "      <td>u</td>\n",
       "    </tr>\n",
       "    <tr>\n",
       "      <th>4</th>\n",
       "      <td>e</td>\n",
       "      <td>x</td>\n",
       "      <td>s</td>\n",
       "      <td>g</td>\n",
       "      <td>f</td>\n",
       "      <td>n</td>\n",
       "      <td>f</td>\n",
       "      <td>w</td>\n",
       "      <td>b</td>\n",
       "      <td>k</td>\n",
       "      <td>...</td>\n",
       "      <td>s</td>\n",
       "      <td>w</td>\n",
       "      <td>w</td>\n",
       "      <td>p</td>\n",
       "      <td>w</td>\n",
       "      <td>o</td>\n",
       "      <td>e</td>\n",
       "      <td>n</td>\n",
       "      <td>a</td>\n",
       "      <td>g</td>\n",
       "    </tr>\n",
       "  </tbody>\n",
       "</table>\n",
       "<p>5 rows × 23 columns</p>\n",
       "</div>"
      ],
      "text/plain": [
       "  Poisonous/Edible Cap-shape Cap-surface Cap-color Bruises? Odor  \\\n",
       "0                p         x           s         n        t    p   \n",
       "1                e         x           s         y        t    a   \n",
       "2                e         b           s         w        t    l   \n",
       "3                p         x           y         w        t    p   \n",
       "4                e         x           s         g        f    n   \n",
       "\n",
       "  Gill-attachment Gill-spacing Gill-size Gill-color   ...    \\\n",
       "0               f            c         n          k   ...     \n",
       "1               f            c         b          k   ...     \n",
       "2               f            c         b          n   ...     \n",
       "3               f            c         n          n   ...     \n",
       "4               f            w         b          k   ...     \n",
       "\n",
       "  Stalk-surface-below-ring Stalk-color-above-ring Stalk-color-below-ring  \\\n",
       "0                        s                      w                      w   \n",
       "1                        s                      w                      w   \n",
       "2                        s                      w                      w   \n",
       "3                        s                      w                      w   \n",
       "4                        s                      w                      w   \n",
       "\n",
       "  Veil-type Veil-color Ring-number Ring-type Spore-print-color Population  \\\n",
       "0         p          w           o         p                 k          s   \n",
       "1         p          w           o         p                 n          n   \n",
       "2         p          w           o         p                 n          n   \n",
       "3         p          w           o         p                 k          s   \n",
       "4         p          w           o         e                 n          a   \n",
       "\n",
       "  Habitat  \n",
       "0       u  \n",
       "1       g  \n",
       "2       m  \n",
       "3       u  \n",
       "4       g  \n",
       "\n",
       "[5 rows x 23 columns]"
      ]
     },
     "execution_count": 3,
     "metadata": {},
     "output_type": "execute_result"
    }
   ],
   "source": [
    "dataset = 'mushroom.csv'\n",
    "filename = datasets_path + dataset\n",
    "pd.read_csv(filename).head()\n"
   ]
  },
  {
   "cell_type": "code",
   "execution_count": null,
   "metadata": {},
   "outputs": [],
   "source": []
  }
 ],
 "metadata": {
  "kernelspec": {
   "display_name": "Python 3",
   "language": "python",
   "name": "python3"
  },
  "language_info": {
   "codemirror_mode": {
    "name": "ipython",
    "version": 3
   },
   "file_extension": ".py",
   "mimetype": "text/x-python",
   "name": "python",
   "nbconvert_exporter": "python",
   "pygments_lexer": "ipython3",
   "version": "3.6.7"
  }
 },
 "nbformat": 4,
 "nbformat_minor": 2
}
